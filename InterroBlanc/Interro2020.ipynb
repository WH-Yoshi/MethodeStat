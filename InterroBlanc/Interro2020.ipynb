{
 "cells": [
  {
   "metadata": {},
   "cell_type": "markdown",
   "source": [
    "# Questionnaire\n",
    "\n",
    "Vrai ou faux ? Justifiez. (1 pt par sous-question) \n",
    "1. Une modalité est l'ensemble des mesures distinctes d'une \n",
    "caractéristique donnée ; \n",
    "2. La covariance de deux variables statistiques x et y est une fonction \n",
    "symétrique dans ces variables ; \n",
    "3. La moyenne se situe toujours dans l’intervalle [Q1;Q3] ; \n",
    "4. Quand on a deux échantillons d’une même population avec \n",
    "élément commun, on peut simplement additionner les moyennes \n",
    "des échantillons pour obtenir la même caractéristique statistique \n",
    "sur l’union des deux échantillons ; \n",
    "5. La statistique inférentielle s'efforce d’extrapoler des résultats \n",
    "obtenus sur un petit échantillon à la population totale ; \n",
    "6. Lorsqu’une variable 𝑥 subit une transformation affine (𝑥← 𝑎𝑥 +\n",
    " 𝑏), sa moyenne est simplement multipliée par a ; \n",
    "7. Pour qu’un ajustement linéaire ait du sens, il faut que la \n",
    "distribution des résidus soit répartie de manière équilibrée autours \n",
    "de la moyenne ; \n",
    "8. La variance d’une distribution binomiale (N essais, p=probabilité de \n",
    "réussite, q=1-p=probabilité d’un échec) est donnée par Np ; \n",
    "9. Pour une population finie, de taille N, la distribution de la moyenne \n",
    "d’échantillon de taille n est plus dispersée (l’écart-type est moins \n",
    "grand) quand l’échantillonnage se fait avec remise que sans remise ;\n",
    "10. Pour une population donnée, la moyenne des moyennes \n",
    "d’échantillon est toujours égale à la moyenne de la population \n",
    "globale ;\n",
    "\n",
    "# Réponses\n",
    "\n",
    "1. Vrai Slide 30\n",
    "2. Vrai Slide 72 cov(x,y) = cov(y,x)\n",
    "3. Faux pas nécéssairement Q2\n",
    "4. //Pas Vu\n",
    "5. On part d'un échantillon et on applique sur la popu globale\n",
    "6.  Faux car il y a aussi le +b\n",
    "7. Faux, équilibré autour de 0\n",
    "8. Faux variance Npq Slide 60\n",
    "9. //Pas vu\n",
    "10. //Pas vu\n"
   ],
   "id": "4fd8848ce17b5d7"
  }
 ],
 "metadata": {
  "kernelspec": {
   "display_name": "Python 3",
   "language": "python",
   "name": "python3"
  },
  "language_info": {
   "codemirror_mode": {
    "name": "ipython",
    "version": 2
   },
   "file_extension": ".py",
   "mimetype": "text/x-python",
   "name": "python",
   "nbconvert_exporter": "python",
   "pygments_lexer": "ipython2",
   "version": "2.7.6"
  }
 },
 "nbformat": 4,
 "nbformat_minor": 5
}
