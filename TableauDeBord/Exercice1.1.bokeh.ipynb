{
 "cells": [
  {
   "cell_type": "code",
   "metadata": {
    "ExecuteTime": {
     "end_time": "2024-10-08T07:11:01.632682Z",
     "start_time": "2024-10-08T07:11:00.931358Z"
    }
   },
   "source": [
    "from bokeh.io import output_notebook, show\n",
    "from bokeh.palettes import Category20c,Spectral6\n",
    "from bokeh.plotting import figure\n",
    "from bokeh.transform import cumsum\n",
    "from bokeh.models import LabelSet, ColumnDataSource\n",
    "from bokeh.transform import factor_cmap\n",
    "\n",
    "import pandas as pd\n",
    "from math import pi\n",
    "\n",
    "#output_notebook() "
   ],
   "outputs": [],
   "execution_count": 1
  },
  {
   "cell_type": "code",
   "metadata": {
    "ExecuteTime": {
     "end_time": "2024-10-08T07:11:01.641904Z",
     "start_time": "2024-10-08T07:11:01.637808Z"
    }
   },
   "source": [
    "ocean_dict = {'Pacifique':183.4,'Atlantique':106.7,\n",
    "              'Indien':73.8,\n",
    "              'Antarctique':19.7,'Arctique':12.4}"
   ],
   "outputs": [],
   "execution_count": 2
  },
  {
   "cell_type": "code",
   "metadata": {
    "ExecuteTime": {
     "end_time": "2024-10-08T07:11:02.026937Z",
     "start_time": "2024-10-08T07:11:02.018922Z"
    }
   },
   "source": [
    "ocean_df = pd.DataFrame()\n",
    "\n",
    "ocean_df['ocean'] = ocean_dict.keys()\n",
    "ocean_df['superficie'] = ocean_dict.values()"
   ],
   "outputs": [],
   "execution_count": 3
  },
  {
   "cell_type": "code",
   "metadata": {
    "ExecuteTime": {
     "end_time": "2024-10-08T07:11:02.052476Z",
     "start_time": "2024-10-08T07:11:02.041219Z"
    }
   },
   "source": [
    "ocean_df"
   ],
   "outputs": [
    {
     "data": {
      "text/plain": [
       "         ocean  superficie\n",
       "0    Pacifique       183.4\n",
       "1   Atlantique       106.7\n",
       "2       Indien        73.8\n",
       "3  Antarctique        19.7\n",
       "4     Arctique        12.4"
      ],
      "text/html": [
       "<div>\n",
       "<style scoped>\n",
       "    .dataframe tbody tr th:only-of-type {\n",
       "        vertical-align: middle;\n",
       "    }\n",
       "\n",
       "    .dataframe tbody tr th {\n",
       "        vertical-align: top;\n",
       "    }\n",
       "\n",
       "    .dataframe thead th {\n",
       "        text-align: right;\n",
       "    }\n",
       "</style>\n",
       "<table border=\"1\" class=\"dataframe\">\n",
       "  <thead>\n",
       "    <tr style=\"text-align: right;\">\n",
       "      <th></th>\n",
       "      <th>ocean</th>\n",
       "      <th>superficie</th>\n",
       "    </tr>\n",
       "  </thead>\n",
       "  <tbody>\n",
       "    <tr>\n",
       "      <th>0</th>\n",
       "      <td>Pacifique</td>\n",
       "      <td>183.4</td>\n",
       "    </tr>\n",
       "    <tr>\n",
       "      <th>1</th>\n",
       "      <td>Atlantique</td>\n",
       "      <td>106.7</td>\n",
       "    </tr>\n",
       "    <tr>\n",
       "      <th>2</th>\n",
       "      <td>Indien</td>\n",
       "      <td>73.8</td>\n",
       "    </tr>\n",
       "    <tr>\n",
       "      <th>3</th>\n",
       "      <td>Antarctique</td>\n",
       "      <td>19.7</td>\n",
       "    </tr>\n",
       "    <tr>\n",
       "      <th>4</th>\n",
       "      <td>Arctique</td>\n",
       "      <td>12.4</td>\n",
       "    </tr>\n",
       "  </tbody>\n",
       "</table>\n",
       "</div>"
      ]
     },
     "execution_count": 4,
     "metadata": {},
     "output_type": "execute_result"
    }
   ],
   "execution_count": 4
  },
  {
   "cell_type": "code",
   "metadata": {
    "ExecuteTime": {
     "end_time": "2024-10-08T07:11:02.398739Z",
     "start_time": "2024-10-08T07:11:02.151539Z"
    }
   },
   "source": [
    "p = figure(x_range=ocean_df['ocean'], outer_height=350, toolbar_location=None, \n",
    "           title='Superficie des océans en millions de km²',\n",
    "          tools='hover', tooltips='@superficie')\n",
    "\n",
    "p.vbar(x='ocean', top='superficie', width=0.9, source=ocean_df, \n",
    "       line_color='white', fill_color=factor_cmap('ocean', palette=Spectral6, factors=ocean_df['ocean']))\n",
    "\n",
    "show(p)"
   ],
   "outputs": [],
   "execution_count": 5
  },
  {
   "cell_type": "code",
   "metadata": {
    "ExecuteTime": {
     "end_time": "2024-10-08T07:11:02.735858Z",
     "start_time": "2024-10-08T07:11:02.454039Z"
    }
   },
   "source": [
    "p = figure(y_range=ocean_df.iloc[::-1]['ocean'], outer_height=350, toolbar_location=None, \n",
    "           title='Superficie des océans en millions de km²',\n",
    "          tools='hover', tooltips='@superficie')\n",
    "\n",
    "p.hbar(y='ocean', right='superficie', height=0.9, source=ocean_df, \n",
    "       line_color='white', fill_color=factor_cmap('ocean', palette=Spectral6, factors=ocean_df['ocean']))\n",
    "\n",
    "show(p)"
   ],
   "outputs": [],
   "execution_count": 6
  },
  {
   "cell_type": "code",
   "metadata": {
    "scrolled": true,
    "ExecuteTime": {
     "end_time": "2024-10-08T07:11:03.150534Z",
     "start_time": "2024-10-08T07:11:02.813058Z"
    }
   },
   "source": [
    "p = figure(outer_height=350, title='Superficie des océans en millions de km²', \n",
    "           toolbar_location=None,\n",
    "           tools='hover', tooltips='@ocean: @superficie', x_range=(-0.5, 1.0))\n",
    "\n",
    "ocean_df['angle'] = ocean_df['superficie']/ocean_df['superficie'].sum() * 2*pi\n",
    "ocean_df['color'] = Spectral6[0:ocean_df.shape[0]]\n",
    "\n",
    "p.wedge(x=0, y=1, radius=0.3,\n",
    "        start_angle=cumsum('angle', include_zero=True), end_angle=cumsum('angle'),\n",
    "        line_color='white', fill_color='color', legend_field='ocean', source=ocean_df)\n",
    "\n",
    "p.axis.axis_label=None\n",
    "p.axis.visible=False\n",
    "p.grid.grid_line_color = None\n",
    "\n",
    "show(p)"
   ],
   "outputs": [],
   "execution_count": 7
  }
 ],
 "metadata": {
  "kernelspec": {
   "display_name": "Python 3 (ipykernel)",
   "language": "python",
   "name": "python3"
  },
  "language_info": {
   "codemirror_mode": {
    "name": "ipython",
    "version": 3
   },
   "file_extension": ".py",
   "mimetype": "text/x-python",
   "name": "python",
   "nbconvert_exporter": "python",
   "pygments_lexer": "ipython3",
   "version": "3.11.4"
  }
 },
 "nbformat": 4,
 "nbformat_minor": 4
}
