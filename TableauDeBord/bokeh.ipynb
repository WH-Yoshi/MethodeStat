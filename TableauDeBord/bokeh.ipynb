{
 "cells": [
  {
   "metadata": {
    "ExecuteTime": {
     "end_time": "2024-09-24T12:57:11.002929Z",
     "start_time": "2024-09-24T12:57:10.789400Z"
    }
   },
   "cell_type": "code",
   "source": [
    "import xyzservices.providers as xyz\n",
    "\n",
    "from bokeh.plotting import figure, show\n",
    "\n",
    "# range bounds supplied in web mercator coordinates\n",
    "p = figure(x_range=(-2000000, 6000000), y_range=(-1000000, 7000000),\n",
    "           x_axis_type=\"mercator\", y_axis_type=\"mercator\")\n",
    "p.add_tile(xyz.OpenStreetMap.Mapnik)\n",
    "\n",
    "show(p)"
   ],
   "id": "a29d943044036d92",
   "outputs": [],
   "execution_count": 5
  }
 ],
 "metadata": {
  "kernelspec": {
   "display_name": "Python 3",
   "language": "python",
   "name": "python3"
  },
  "language_info": {
   "codemirror_mode": {
    "name": "ipython",
    "version": 2
   },
   "file_extension": ".py",
   "mimetype": "text/x-python",
   "name": "python",
   "nbconvert_exporter": "python",
   "pygments_lexer": "ipython2",
   "version": "2.7.6"
  }
 },
 "nbformat": 4,
 "nbformat_minor": 5
}
