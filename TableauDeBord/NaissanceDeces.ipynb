{
 "cells": [
  {
   "metadata": {
    "ExecuteTime": {
     "end_time": "2024-10-14T14:53:40.200785Z",
     "start_time": "2024-10-14T14:53:40.196267Z"
    }
   },
   "cell_type": "code",
   "source": [
    "import matplotlib.pyplot as plt\n",
    "import pandas as pd"
   ],
   "id": "b8696aeeed2956c7",
   "outputs": [],
   "execution_count": 110
  },
  {
   "metadata": {
    "ExecuteTime": {
     "end_time": "2024-10-14T14:53:40.230027Z",
     "start_time": "2024-10-14T14:53:40.213791Z"
    }
   },
   "cell_type": "code",
   "source": [
    "# Charger les données\n",
    "naissance_df = pd.read_excel('ressources/Evolution.1830-2015.Naissance.Belgique.xls', skiprows=1)\n",
    "\n",
    "naissance_df = naissance_df.dropna()\n",
    "naissance_df = naissance_df.head(naissance_df.shape[0]-1)\n",
    "naissance_df"
   ],
   "id": "e5be8f91c49e76c4",
   "outputs": [
    {
     "data": {
      "text/plain": [
       "     Anée       Garçons        Filles     Total\n",
       "0    1830  67643.000000  64033.000000  131676.0\n",
       "1    1831  69370.894785  65679.105215  135050.0\n",
       "2    1832  66293.833660  62776.166340  129070.0\n",
       "3    1833  70768.002228  67023.997772  137792.0\n",
       "4    1834  71773.997901  67988.002099  139762.0\n",
       "..    ...           ...           ...       ...\n",
       "180  2010  66075.000000  63098.000000  129173.0\n",
       "181  2011  65366.000000  62289.000000  127655.0\n",
       "182  2012  64780.000000  62213.000000  126993.0\n",
       "183  2013  63985.000000  60877.000000  124862.0\n",
       "184  2014  63882.000000  60533.000000  124415.0\n",
       "\n",
       "[185 rows x 4 columns]"
      ],
      "text/html": [
       "<div>\n",
       "<style scoped>\n",
       "    .dataframe tbody tr th:only-of-type {\n",
       "        vertical-align: middle;\n",
       "    }\n",
       "\n",
       "    .dataframe tbody tr th {\n",
       "        vertical-align: top;\n",
       "    }\n",
       "\n",
       "    .dataframe thead th {\n",
       "        text-align: right;\n",
       "    }\n",
       "</style>\n",
       "<table border=\"1\" class=\"dataframe\">\n",
       "  <thead>\n",
       "    <tr style=\"text-align: right;\">\n",
       "      <th></th>\n",
       "      <th>Anée</th>\n",
       "      <th>Garçons</th>\n",
       "      <th>Filles</th>\n",
       "      <th>Total</th>\n",
       "    </tr>\n",
       "  </thead>\n",
       "  <tbody>\n",
       "    <tr>\n",
       "      <th>0</th>\n",
       "      <td>1830</td>\n",
       "      <td>67643.000000</td>\n",
       "      <td>64033.000000</td>\n",
       "      <td>131676.0</td>\n",
       "    </tr>\n",
       "    <tr>\n",
       "      <th>1</th>\n",
       "      <td>1831</td>\n",
       "      <td>69370.894785</td>\n",
       "      <td>65679.105215</td>\n",
       "      <td>135050.0</td>\n",
       "    </tr>\n",
       "    <tr>\n",
       "      <th>2</th>\n",
       "      <td>1832</td>\n",
       "      <td>66293.833660</td>\n",
       "      <td>62776.166340</td>\n",
       "      <td>129070.0</td>\n",
       "    </tr>\n",
       "    <tr>\n",
       "      <th>3</th>\n",
       "      <td>1833</td>\n",
       "      <td>70768.002228</td>\n",
       "      <td>67023.997772</td>\n",
       "      <td>137792.0</td>\n",
       "    </tr>\n",
       "    <tr>\n",
       "      <th>4</th>\n",
       "      <td>1834</td>\n",
       "      <td>71773.997901</td>\n",
       "      <td>67988.002099</td>\n",
       "      <td>139762.0</td>\n",
       "    </tr>\n",
       "    <tr>\n",
       "      <th>...</th>\n",
       "      <td>...</td>\n",
       "      <td>...</td>\n",
       "      <td>...</td>\n",
       "      <td>...</td>\n",
       "    </tr>\n",
       "    <tr>\n",
       "      <th>180</th>\n",
       "      <td>2010</td>\n",
       "      <td>66075.000000</td>\n",
       "      <td>63098.000000</td>\n",
       "      <td>129173.0</td>\n",
       "    </tr>\n",
       "    <tr>\n",
       "      <th>181</th>\n",
       "      <td>2011</td>\n",
       "      <td>65366.000000</td>\n",
       "      <td>62289.000000</td>\n",
       "      <td>127655.0</td>\n",
       "    </tr>\n",
       "    <tr>\n",
       "      <th>182</th>\n",
       "      <td>2012</td>\n",
       "      <td>64780.000000</td>\n",
       "      <td>62213.000000</td>\n",
       "      <td>126993.0</td>\n",
       "    </tr>\n",
       "    <tr>\n",
       "      <th>183</th>\n",
       "      <td>2013</td>\n",
       "      <td>63985.000000</td>\n",
       "      <td>60877.000000</td>\n",
       "      <td>124862.0</td>\n",
       "    </tr>\n",
       "    <tr>\n",
       "      <th>184</th>\n",
       "      <td>2014</td>\n",
       "      <td>63882.000000</td>\n",
       "      <td>60533.000000</td>\n",
       "      <td>124415.0</td>\n",
       "    </tr>\n",
       "  </tbody>\n",
       "</table>\n",
       "<p>185 rows × 4 columns</p>\n",
       "</div>"
      ]
     },
     "execution_count": 111,
     "metadata": {},
     "output_type": "execute_result"
    }
   ],
   "execution_count": 111
  },
  {
   "metadata": {
    "ExecuteTime": {
     "end_time": "2024-10-14T14:53:40.414241Z",
     "start_time": "2024-10-14T14:53:40.364121Z"
    }
   },
   "cell_type": "code",
   "source": [
    "deces_df = pd.read_excel('ressources/Evolution.1950-2017.Mortalite.Belgique.xls', skiprows=2, sheet_name='Taux brut', usecols=[0,4,5,6])\n",
    "\n",
    "deces_df = deces_df.dropna()\n",
    "deces_df = deces_df.head(deces_df.shape[0]-1)\n",
    "deces_df"
   ],
   "id": "92e0ff80ba8d6edf",
   "outputs": [
    {
     "data": {
      "text/plain": [
       "   Unnamed: 0 Hommes.1 Femmes.1 Total.1\n",
       "0        1950    55271    48768  104039\n",
       "1        1951    56937    50751  107688\n",
       "2        1952    55238    48386  103624\n",
       "3        1953    56735    49289  106024\n",
       "4        1954    55760    49035  104795\n",
       "..        ...      ...      ...     ...\n",
       "62       2012    53800    55234  109034\n",
       "63       2013    53884    55411  109295\n",
       "64       2014    51556    53167  104723\n",
       "65       2015    53609    56899  110508\n",
       "66       2016    53296    54760  108056\n",
       "\n",
       "[67 rows x 4 columns]"
      ],
      "text/html": [
       "<div>\n",
       "<style scoped>\n",
       "    .dataframe tbody tr th:only-of-type {\n",
       "        vertical-align: middle;\n",
       "    }\n",
       "\n",
       "    .dataframe tbody tr th {\n",
       "        vertical-align: top;\n",
       "    }\n",
       "\n",
       "    .dataframe thead th {\n",
       "        text-align: right;\n",
       "    }\n",
       "</style>\n",
       "<table border=\"1\" class=\"dataframe\">\n",
       "  <thead>\n",
       "    <tr style=\"text-align: right;\">\n",
       "      <th></th>\n",
       "      <th>Unnamed: 0</th>\n",
       "      <th>Hommes.1</th>\n",
       "      <th>Femmes.1</th>\n",
       "      <th>Total.1</th>\n",
       "    </tr>\n",
       "  </thead>\n",
       "  <tbody>\n",
       "    <tr>\n",
       "      <th>0</th>\n",
       "      <td>1950</td>\n",
       "      <td>55271</td>\n",
       "      <td>48768</td>\n",
       "      <td>104039</td>\n",
       "    </tr>\n",
       "    <tr>\n",
       "      <th>1</th>\n",
       "      <td>1951</td>\n",
       "      <td>56937</td>\n",
       "      <td>50751</td>\n",
       "      <td>107688</td>\n",
       "    </tr>\n",
       "    <tr>\n",
       "      <th>2</th>\n",
       "      <td>1952</td>\n",
       "      <td>55238</td>\n",
       "      <td>48386</td>\n",
       "      <td>103624</td>\n",
       "    </tr>\n",
       "    <tr>\n",
       "      <th>3</th>\n",
       "      <td>1953</td>\n",
       "      <td>56735</td>\n",
       "      <td>49289</td>\n",
       "      <td>106024</td>\n",
       "    </tr>\n",
       "    <tr>\n",
       "      <th>4</th>\n",
       "      <td>1954</td>\n",
       "      <td>55760</td>\n",
       "      <td>49035</td>\n",
       "      <td>104795</td>\n",
       "    </tr>\n",
       "    <tr>\n",
       "      <th>...</th>\n",
       "      <td>...</td>\n",
       "      <td>...</td>\n",
       "      <td>...</td>\n",
       "      <td>...</td>\n",
       "    </tr>\n",
       "    <tr>\n",
       "      <th>62</th>\n",
       "      <td>2012</td>\n",
       "      <td>53800</td>\n",
       "      <td>55234</td>\n",
       "      <td>109034</td>\n",
       "    </tr>\n",
       "    <tr>\n",
       "      <th>63</th>\n",
       "      <td>2013</td>\n",
       "      <td>53884</td>\n",
       "      <td>55411</td>\n",
       "      <td>109295</td>\n",
       "    </tr>\n",
       "    <tr>\n",
       "      <th>64</th>\n",
       "      <td>2014</td>\n",
       "      <td>51556</td>\n",
       "      <td>53167</td>\n",
       "      <td>104723</td>\n",
       "    </tr>\n",
       "    <tr>\n",
       "      <th>65</th>\n",
       "      <td>2015</td>\n",
       "      <td>53609</td>\n",
       "      <td>56899</td>\n",
       "      <td>110508</td>\n",
       "    </tr>\n",
       "    <tr>\n",
       "      <th>66</th>\n",
       "      <td>2016</td>\n",
       "      <td>53296</td>\n",
       "      <td>54760</td>\n",
       "      <td>108056</td>\n",
       "    </tr>\n",
       "  </tbody>\n",
       "</table>\n",
       "<p>67 rows × 4 columns</p>\n",
       "</div>"
      ]
     },
     "execution_count": 112,
     "metadata": {},
     "output_type": "execute_result"
    }
   ],
   "execution_count": 112
  },
  {
   "metadata": {
    "ExecuteTime": {
     "end_time": "2024-10-14T14:53:40.679607Z",
     "start_time": "2024-10-14T14:53:40.524903Z"
    }
   },
   "cell_type": "code",
   "source": [
    "plt.plot(naissance_df['Anée'], naissance_df['Total'], label='Naissances')\n",
    "plt.plot(deces_df['Unnamed: 0'], deces_df['Total.1'], label='Décès')\n",
    "plt.show()"
   ],
   "id": "56c617fe4d3adc09",
   "outputs": [
    {
     "data": {
      "text/plain": [
       "<Figure size 640x480 with 1 Axes>"
      ],
      "image/png": "[encoded data removed]"
     },
     "metadata": {},
     "output_type": "display_data"
    }
   ],
   "execution_count": 113
  },
  {
   "metadata": {
    "ExecuteTime": {
     "end_time": "2024-10-14T14:53:40.791397Z",
     "start_time": "2024-10-14T14:53:40.788541Z"
    }
   },
   "cell_type": "code",
   "source": "",
   "id": "7b442101e7da72d8",
   "outputs": [],
   "execution_count": null
  }
 ],
 "metadata": {
  "kernelspec": {
   "display_name": "Python 3",
   "language": "python",
   "name": "python3"
  },
  "language_info": {
   "codemirror_mode": {
    "name": "ipython",
    "version": 2
   },
   "file_extension": ".py",
   "mimetype": "text/x-python",
   "name": "python",
   "nbconvert_exporter": "python",
   "pygments_lexer": "ipython2",
   "version": "2.7.6"
  }
 },
 "nbformat": 4,
 "nbformat_minor": 5
}
