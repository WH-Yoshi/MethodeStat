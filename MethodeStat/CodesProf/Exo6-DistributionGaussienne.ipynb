{
 "cells": [
  {
   "cell_type": "code",
   "metadata": {
    "ExecuteTime": {
     "end_time": "2024-10-22T19:15:18.392717Z",
     "start_time": "2024-10-22T19:15:17.135648Z"
    }
   },
   "source": [
    "import pandas as pd\n",
    "import matplotlib.pyplot as plt\n",
    "import math\n",
    "import numpy as np\n",
    "from scipy.stats import norm"
   ],
   "outputs": [],
   "execution_count": 1
  },
  {
   "cell_type": "markdown",
   "metadata": {},
   "source": [
    "Calculons d'abord les valeurs d'une distribution gaussienne, centrée sur la moyenne (mu) de 155 cm et d'écart-type (sigma) de 15 cm. \n",
    "\n",
    "Pour ce faire, nous utiliserons le point d'entrée pdf (partial density function) du sous-package stats.norm (norm pour 'loi normale' ou 'loi gaussienne'). "
   ]
  },
  {
   "cell_type": "code",
   "metadata": {
    "ExecuteTime": {
     "end_time": "2024-10-22T19:15:18.401763Z",
     "start_time": "2024-10-22T19:15:18.395724Z"
    }
   },
   "source": [
    "N = 500\n",
    "\n",
    "mu = 155    # moyenne des tailles en cm\n",
    "sigma = 15  # écart-type (en cm)\n",
    "\n",
    "data_df = pd.DataFrame()\n",
    "\n",
    "data_df['taille (cm)'] = range(0,201)\n",
    "\n",
    "data_df['prob density'] = norm.pdf(data_df['taille (cm)'], loc=mu, scale=sigma)"
   ],
   "outputs": [],
   "execution_count": 2
  },
  {
   "cell_type": "code",
   "metadata": {
    "ExecuteTime": {
     "end_time": "2024-10-22T19:15:18.735782Z",
     "start_time": "2024-10-22T19:15:18.726494Z"
    }
   },
   "source": [
    "data_df"
   ],
   "outputs": [
    {
     "data": {
      "text/plain": [
       "     taille (cm)  prob density\n",
       "0              0  1.731087e-25\n",
       "1              1  3.439810e-25\n",
       "2              2  6.804870e-25\n",
       "3              3  1.340217e-24\n",
       "4              4  2.627846e-24\n",
       "..           ...           ...\n",
       "196          196  6.345818e-04\n",
       "197          197  5.276968e-04\n",
       "198          198  4.368688e-04\n",
       "199          199  3.600704e-04\n",
       "200          200  2.954566e-04\n",
       "\n",
       "[201 rows x 2 columns]"
      ],
      "text/html": [
       "<div>\n",
       "<style scoped>\n",
       "    .dataframe tbody tr th:only-of-type {\n",
       "        vertical-align: middle;\n",
       "    }\n",
       "\n",
       "    .dataframe tbody tr th {\n",
       "        vertical-align: top;\n",
       "    }\n",
       "\n",
       "    .dataframe thead th {\n",
       "        text-align: right;\n",
       "    }\n",
       "</style>\n",
       "<table border=\"1\" class=\"dataframe\">\n",
       "  <thead>\n",
       "    <tr style=\"text-align: right;\">\n",
       "      <th></th>\n",
       "      <th>taille (cm)</th>\n",
       "      <th>prob density</th>\n",
       "    </tr>\n",
       "  </thead>\n",
       "  <tbody>\n",
       "    <tr>\n",
       "      <th>0</th>\n",
       "      <td>0</td>\n",
       "      <td>1.731087e-25</td>\n",
       "    </tr>\n",
       "    <tr>\n",
       "      <th>1</th>\n",
       "      <td>1</td>\n",
       "      <td>3.439810e-25</td>\n",
       "    </tr>\n",
       "    <tr>\n",
       "      <th>2</th>\n",
       "      <td>2</td>\n",
       "      <td>6.804870e-25</td>\n",
       "    </tr>\n",
       "    <tr>\n",
       "      <th>3</th>\n",
       "      <td>3</td>\n",
       "      <td>1.340217e-24</td>\n",
       "    </tr>\n",
       "    <tr>\n",
       "      <th>4</th>\n",
       "      <td>4</td>\n",
       "      <td>2.627846e-24</td>\n",
       "    </tr>\n",
       "    <tr>\n",
       "      <th>...</th>\n",
       "      <td>...</td>\n",
       "      <td>...</td>\n",
       "    </tr>\n",
       "    <tr>\n",
       "      <th>196</th>\n",
       "      <td>196</td>\n",
       "      <td>6.345818e-04</td>\n",
       "    </tr>\n",
       "    <tr>\n",
       "      <th>197</th>\n",
       "      <td>197</td>\n",
       "      <td>5.276968e-04</td>\n",
       "    </tr>\n",
       "    <tr>\n",
       "      <th>198</th>\n",
       "      <td>198</td>\n",
       "      <td>4.368688e-04</td>\n",
       "    </tr>\n",
       "    <tr>\n",
       "      <th>199</th>\n",
       "      <td>199</td>\n",
       "      <td>3.600704e-04</td>\n",
       "    </tr>\n",
       "    <tr>\n",
       "      <th>200</th>\n",
       "      <td>200</td>\n",
       "      <td>2.954566e-04</td>\n",
       "    </tr>\n",
       "  </tbody>\n",
       "</table>\n",
       "<p>201 rows × 2 columns</p>\n",
       "</div>"
      ]
     },
     "execution_count": 3,
     "metadata": {},
     "output_type": "execute_result"
    }
   ],
   "execution_count": 3
  },
  {
   "cell_type": "markdown",
   "metadata": {},
   "source": [
    "Voyons à quoi ressemble cette distribution:"
   ]
  },
  {
   "cell_type": "code",
   "metadata": {
    "ExecuteTime": {
     "end_time": "2024-10-22T19:15:18.869379Z",
     "start_time": "2024-10-22T19:15:18.764733Z"
    }
   },
   "source": [
    "plt.plot(data_df['taille (cm)'], data_df['prob density'])\n",
    "plt.ylim(bottom=0)\n",
    "plt.xlabel('taille (cm)')\n",
    "plt.show()"
   ],
   "outputs": [
    {
     "data": {
      "text/plain": [
       "<Figure size 640x480 with 1 Axes>"
      ],
      "image/png": "[encoded data removed]"
     },
     "metadata": {},
     "output_type": "display_data"
    }
   ],
   "execution_count": 4
  },
  {
   "cell_type": "markdown",
   "metadata": {},
   "source": [
    "Pour calculer le nombre approximatif d'individus de taille entre 120 et 155, on partira de la fonrtion norm.cdf donnant la densité de probabilité cumulée depuis le minimum (- l'infini),\n",
    "jusque la valeur donnée.\n",
    "\n",
    "Il suffira alors de calculer la valeur correspondant au maximum envisagé, 155, et d'en retrancher la valeur correspondante du minimum voulu, 120,\n",
    "sans oublier de multiplier par le nombre d'élèves (500).\n",
    "\n",
    "En effet, la fonction norm.cdf nous donne les résultats pour un cas où la somme complète, l'aire sous la courbe serait de 1!!!"
   ]
  },
  {
   "cell_type": "code",
   "metadata": {
    "ExecuteTime": {
     "end_time": "2024-10-22T19:15:18.899052Z",
     "start_time": "2024-10-22T19:15:18.894853Z"
    }
   },
   "source": [
    "N*(norm.cdf(155, loc=mu, scale=sigma) - norm.cdf(120, loc=mu, scale=sigma))"
   ],
   "outputs": [
    {
     "data": {
      "text/plain": [
       "245.09233568567734"
      ]
     },
     "execution_count": 5,
     "metadata": {},
     "output_type": "execute_result"
    }
   ],
   "execution_count": 5
  },
  {
   "cell_type": "markdown",
   "metadata": {},
   "source": [
    "Soit, en arrondissant, 245 individus."
   ]
  },
  {
   "cell_type": "markdown",
   "metadata": {},
   "source": [
    "De même, pour obtenir le nombre d'individus plus grands que 185 cm, nous partirons du cumulé de tout jusque 185 cm que l'on complètera à un. "
   ]
  },
  {
   "cell_type": "code",
   "metadata": {
    "ExecuteTime": {
     "end_time": "2024-10-22T19:15:18.918938Z",
     "start_time": "2024-10-22T19:15:18.914059Z"
    }
   },
   "source": [
    "N * (1 - norm.cdf(185, loc=mu,scale=sigma))"
   ],
   "outputs": [
    {
     "data": {
      "text/plain": [
       "11.375065974089605"
      ]
     },
     "execution_count": 6,
     "metadata": {},
     "output_type": "execute_result"
    }
   ],
   "execution_count": 6
  },
  {
   "cell_type": "markdown",
   "metadata": {},
   "source": [
    "Soit 11 individus..."
   ]
  },
  {
   "cell_type": "markdown",
   "metadata": {},
   "source": [
    "Voyons cela graphiquement:"
   ]
  },
  {
   "cell_type": "code",
   "metadata": {
    "ExecuteTime": {
     "end_time": "2024-10-22T19:15:19.044854Z",
     "start_time": "2024-10-22T19:15:18.956492Z"
    }
   },
   "source": [
    "#\n",
    "# Mise en évidence de la zone intéressant l'exercice a)\n",
    "#\n",
    "plt.plot(data_df['taille (cm)'],data_df['prob density'],'-')\n",
    "select_df = data_df[(data_df['taille (cm)']>=120)&(data_df['taille (cm)']<=155)]\n",
    "plt.fill_between(select_df['taille (cm)'], select_df['prob density'], alpha=0.4)\n",
    "plt.ylim(bottom=0)\n",
    "plt.xlabel('taile (cm)')\n",
    "plt.ylabel('densité de probabilité')\n",
    "plt.show()"
   ],
   "outputs": [
    {
     "data": {
      "text/plain": [
       "<Figure size 640x480 with 1 Axes>"
      ],
      "image/png": "[encoded data removed]"
     },
     "metadata": {},
     "output_type": "display_data"
    }
   ],
   "execution_count": 7
  },
  {
   "cell_type": "code",
   "metadata": {
    "ExecuteTime": {
     "end_time": "2024-10-22T19:15:19.057993Z",
     "start_time": "2024-10-22T19:15:19.054012Z"
    }
   },
   "source": [
    "#\n",
    "# Aire bleue sous la courbe\n",
    "#\n",
    "norm.cdf(155,loc=mu,scale=sigma)-norm.cdf(120,loc=mu,scale=sigma)"
   ],
   "outputs": [
    {
     "data": {
      "text/plain": [
       "0.4901846713713547"
      ]
     },
     "execution_count": 8,
     "metadata": {},
     "output_type": "execute_result"
    }
   ],
   "execution_count": 8
  },
  {
   "cell_type": "markdown",
   "metadata": {},
   "source": [
    "Revenons à notre classe de N=500 individus => multiplions le résultat précédent par N:"
   ]
  },
  {
   "cell_type": "code",
   "metadata": {
    "ExecuteTime": {
     "end_time": "2024-10-22T19:15:19.070690Z",
     "start_time": "2024-10-22T19:15:19.066518Z"
    }
   },
   "source": [
    "N*(norm.cdf(155,loc=mu,scale=sigma)-norm.cdf(120,loc=mu,scale=sigma))"
   ],
   "outputs": [
    {
     "data": {
      "text/plain": [
       "245.09233568567734"
      ]
     },
     "execution_count": 9,
     "metadata": {},
     "output_type": "execute_result"
    }
   ],
   "execution_count": 9
  },
  {
   "cell_type": "code",
   "metadata": {
    "ExecuteTime": {
     "end_time": "2024-10-22T19:15:19.089773Z",
     "start_time": "2024-10-22T19:15:19.086755Z"
    }
   },
   "source": [
    "# ou environ 245 personnes ont une taille entre 120 et 155 cm"
   ],
   "outputs": [],
   "execution_count": 10
  },
  {
   "cell_type": "code",
   "metadata": {
    "ExecuteTime": {
     "end_time": "2024-10-22T19:15:19.191775Z",
     "start_time": "2024-10-22T19:15:19.098699Z"
    }
   },
   "source": [
    "#\n",
    "# Mise en évidence de la zone intéressant l'exercice b)\n",
    "#\n",
    "plt.plot(data_df['taille (cm)'],data_df['prob density'],'-')\n",
    "select_df = data_df[(data_df['taille (cm)']>=185)]\n",
    "plt.fill_between(select_df['taille (cm)'], select_df['prob density'], alpha=0.4)\n",
    "plt.ylim(bottom=0)\n",
    "plt.xlabel('taile (cm)')\n",
    "plt.ylabel('densité de probabilité')\n",
    "plt.show()"
   ],
   "outputs": [
    {
     "data": {
      "text/plain": [
       "<Figure size 640x480 with 1 Axes>"
      ],
      "image/png": "[encoded data removed]"
     },
     "metadata": {},
     "output_type": "display_data"
    }
   ],
   "execution_count": 11
  },
  {
   "cell_type": "code",
   "metadata": {
    "ExecuteTime": {
     "end_time": "2024-10-22T19:15:19.204949Z",
     "start_time": "2024-10-22T19:15:19.200868Z"
    }
   },
   "source": [
    "#\n",
    "# Aire bleue sous la courbe\n",
    "#\n",
    "(1-norm.cdf(185,loc=mu,scale=sigma))"
   ],
   "outputs": [
    {
     "data": {
      "text/plain": [
       "0.02275013194817921"
      ]
     },
     "execution_count": 12,
     "metadata": {},
     "output_type": "execute_result"
    }
   ],
   "execution_count": 12
  },
  {
   "cell_type": "code",
   "metadata": {
    "ExecuteTime": {
     "end_time": "2024-10-22T19:15:19.293059Z",
     "start_time": "2024-10-22T19:15:19.288033Z"
    }
   },
   "source": [
    "#\n",
    "# Nombre de personne de plus de 185 cm sur un échantillon de 500 personnes\n",
    "#\n",
    "(1-norm.cdf(185,loc=mu,scale=sigma))*N"
   ],
   "outputs": [
    {
     "data": {
      "text/plain": [
       "11.375065974089605"
      ]
     },
     "execution_count": 13,
     "metadata": {},
     "output_type": "execute_result"
    }
   ],
   "execution_count": 13
  },
  {
   "cell_type": "code",
   "metadata": {
    "ExecuteTime": {
     "end_time": "2024-10-22T19:15:19.303533Z",
     "start_time": "2024-10-22T19:15:19.300922Z"
    }
   },
   "source": [
    "#\n",
    "# ou environ 11 personnes ont une taille de plus de 185 cm\n",
    "#"
   ],
   "outputs": [],
   "execution_count": 14
  },
  {
   "cell_type": "markdown",
   "metadata": {},
   "source": [
    "Solution alternative repartant des définitions mêmes (formule de la gaussienne et approximation de l'intégrale d'une fonction), plus délicate à mettre correctement en oeuvre..."
   ]
  },
  {
   "cell_type": "code",
   "metadata": {
    "ExecuteTime": {
     "end_time": "2024-10-22T19:15:19.364360Z",
     "start_time": "2024-10-22T19:15:19.315826Z"
    }
   },
   "source": [
    "data_df = pd.DataFrame()\n",
    "\n",
    "mu = 155\n",
    "sigma = 15\n",
    "\n",
    "def gaussian(x):\n",
    "    return math.exp(-((x-mu)**2)/(2*sigma**2))/sigma/math.sqrt(2*math.pi)\n",
    "\n",
    "max_taille = 250\n",
    "data_df['taille'] = np.linspace(0,max_taille,max_taille)\n",
    "data_df['prob density'] = data_df.apply(gaussian, axis=1)\n",
    "\n",
    "data_df.head(6)"
   ],
   "outputs": [
    {
     "name": "stderr",
     "output_type": "stream",
     "text": [
      "C:\\Users\\abslu\\AppData\\Local\\Temp\\ipykernel_17884\\91149757.py:7: FutureWarning: Calling float on a single element Series is deprecated and will raise a TypeError in the future. Use float(ser.iloc[0]) instead\n",
      "  return math.exp(-((x-mu)**2)/(2*sigma**2))/sigma/math.sqrt(2*math.pi)\n"
     ]
    },
    {
     "data": {
      "text/plain": [
       "     taille  prob density\n",
       "0  0.000000  1.731087e-25\n",
       "1  1.004016  3.449279e-25\n",
       "2  2.008032  6.842138e-25\n",
       "3  3.012048  1.351169e-24\n",
       "4  4.016064  2.656329e-24\n",
       "5  5.020080  5.198861e-24"
      ],
      "text/html": [
       "<div>\n",
       "<style scoped>\n",
       "    .dataframe tbody tr th:only-of-type {\n",
       "        vertical-align: middle;\n",
       "    }\n",
       "\n",
       "    .dataframe tbody tr th {\n",
       "        vertical-align: top;\n",
       "    }\n",
       "\n",
       "    .dataframe thead th {\n",
       "        text-align: right;\n",
       "    }\n",
       "</style>\n",
       "<table border=\"1\" class=\"dataframe\">\n",
       "  <thead>\n",
       "    <tr style=\"text-align: right;\">\n",
       "      <th></th>\n",
       "      <th>taille</th>\n",
       "      <th>prob density</th>\n",
       "    </tr>\n",
       "  </thead>\n",
       "  <tbody>\n",
       "    <tr>\n",
       "      <th>0</th>\n",
       "      <td>0.000000</td>\n",
       "      <td>1.731087e-25</td>\n",
       "    </tr>\n",
       "    <tr>\n",
       "      <th>1</th>\n",
       "      <td>1.004016</td>\n",
       "      <td>3.449279e-25</td>\n",
       "    </tr>\n",
       "    <tr>\n",
       "      <th>2</th>\n",
       "      <td>2.008032</td>\n",
       "      <td>6.842138e-25</td>\n",
       "    </tr>\n",
       "    <tr>\n",
       "      <th>3</th>\n",
       "      <td>3.012048</td>\n",
       "      <td>1.351169e-24</td>\n",
       "    </tr>\n",
       "    <tr>\n",
       "      <th>4</th>\n",
       "      <td>4.016064</td>\n",
       "      <td>2.656329e-24</td>\n",
       "    </tr>\n",
       "    <tr>\n",
       "      <th>5</th>\n",
       "      <td>5.020080</td>\n",
       "      <td>5.198861e-24</td>\n",
       "    </tr>\n",
       "  </tbody>\n",
       "</table>\n",
       "</div>"
      ]
     },
     "execution_count": 15,
     "metadata": {},
     "output_type": "execute_result"
    }
   ],
   "execution_count": 15
  },
  {
   "cell_type": "code",
   "metadata": {
    "ExecuteTime": {
     "end_time": "2024-10-22T19:15:19.396940Z",
     "start_time": "2024-10-22T19:15:19.392413Z"
    }
   },
   "source": [
    "data_df['prob density'].sum()"
   ],
   "outputs": [
    {
     "data": {
      "text/plain": [
       "0.9959999999046208"
      ]
     },
     "execution_count": 16,
     "metadata": {},
     "output_type": "execute_result"
    }
   ],
   "execution_count": 16
  },
  {
   "cell_type": "code",
   "metadata": {
    "ExecuteTime": {
     "end_time": "2024-10-22T19:15:19.504282Z",
     "start_time": "2024-10-22T19:15:19.427598Z"
    }
   },
   "source": [
    "plt.plot(data_df['taille'], data_df['prob density'])\n",
    "plt.ylim(bottom=0)\n",
    "plt.show()"
   ],
   "outputs": [
    {
     "data": {
      "text/plain": [
       "<Figure size 640x480 with 1 Axes>"
      ],
      "image/png": "[encoded data removed]"
     },
     "metadata": {},
     "output_type": "display_data"
    }
   ],
   "execution_count": 17
  },
  {
   "cell_type": "code",
   "metadata": {
    "ExecuteTime": {
     "end_time": "2024-10-22T19:15:19.514957Z",
     "start_time": "2024-10-22T19:15:19.509288Z"
    }
   },
   "source": [
    "N*data_df[(data_df['taille']>120)&(data_df['taille']<155)]['prob density'].sum()"
   ],
   "outputs": [
    {
     "data": {
      "text/plain": [
       "245.73114195079893"
      ]
     },
     "execution_count": 18,
     "metadata": {},
     "output_type": "execute_result"
    }
   ],
   "execution_count": 18
  },
  {
   "cell_type": "code",
   "metadata": {
    "ExecuteTime": {
     "end_time": "2024-10-22T19:15:19.529122Z",
     "start_time": "2024-10-22T19:15:19.525036Z"
    }
   },
   "source": [
    "N*data_df[data_df['taille']>185]['prob density'].sum()"
   ],
   "outputs": [
    {
     "data": {
      "text/plain": [
       "10.89472440919245"
      ]
     },
     "execution_count": 19,
     "metadata": {},
     "output_type": "execute_result"
    }
   ],
   "execution_count": 19
  },
  {
   "cell_type": "code",
   "metadata": {
    "ExecuteTime": {
     "end_time": "2024-10-22T19:15:19.539476Z",
     "start_time": "2024-10-22T19:15:19.537345Z"
    }
   },
   "source": [],
   "outputs": [],
   "execution_count": null
  }
 ],
 "metadata": {
  "kernelspec": {
   "display_name": "Python 3 (ipykernel)",
   "language": "python",
   "name": "python3"
  },
  "language_info": {
   "codemirror_mode": {
    "name": "ipython",
    "version": 3
   },
   "file_extension": ".py",
   "mimetype": "text/x-python",
   "name": "python",
   "nbconvert_exporter": "python",
   "pygments_lexer": "ipython3",
   "version": "3.11.4"
  }
 },
 "nbformat": 4,
 "nbformat_minor": 4
}
