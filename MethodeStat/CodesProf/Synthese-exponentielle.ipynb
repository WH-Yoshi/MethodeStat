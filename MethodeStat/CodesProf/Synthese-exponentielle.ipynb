{
 "cells": [
  {
   "metadata": {},
   "cell_type": "markdown",
   "source": [
    "## Ajustement d'une Fonction Exponentielle\n",
    "\n",
    "### Formule de la Régression Linéaire\n",
    "\n",
    "La formule de la régression linéaire peut être traduite en une formule de régression exponentielle :\n",
    "\n",
    "Y = b * a^X\n",
    "\n",
    "- **Formule de base** : \n",
    "  Y = aX + b\n",
    "\n",
    "- **Formule exponentielle** : \n",
    "  ln(Y) = ln(b) + X * ln(a)\n",
    "\n",
    "### Exemple\n",
    "\n",
    "Dans cet exemple, la population de bactéries croît en fonction du temps :\n",
    "\n",
    "- **x** : heure\n",
    "- **y** : population de bactéries\n",
    "\n",
    "### Covariance\n",
    "\n",
    "Nous pouvons afficher la covariance des deux variables en utilisant la commande suivante :\n",
    "```python\n",
    "data[['x', 'y']].cov()\n",
    "\n",
    "## On affiche le nuage de points correspondant:\n"
   ],
   "id": "7892a3a37bc2b706"
  },
  {
   "metadata": {},
   "cell_type": "markdown",
   "source": "## On affiche le nuage de points correspondant",
   "id": "d1179ced2b975457"
  },
  {
   "metadata": {
    "ExecuteTime": {
     "end_time": "2024-10-22T17:59:44.015531Z",
     "start_time": "2024-10-22T17:59:42.674437Z"
    }
   },
   "cell_type": "code",
   "source": [
    "import pandas as pd\n",
    "import numpy as np\n",
    "import matplotlib.pyplot as plt\n",
    "import math\n",
    "data = pd.read_csv('Bacterie.csv', sep=';')\n",
    "\n",
    "plt.plot(data['Heure'], data['population'], 'o', label='données brutes')\n",
    "plt.xlabel('Heure')\n",
    "plt.ylabel('Population')\n",
    "plt.grid()\n",
    "plt.legend()\n",
    "plt.show()"
   ],
   "id": "63f75579de697777",
   "outputs": [
    {
     "data": {
      "text/plain": [
       "<Figure size 640x480 with 1 Axes>"
      ],
      "image/png": "[encoded data removed]"
     },
     "metadata": {},
     "output_type": "display_data"
    }
   ],
   "execution_count": 1
  },
  {
   "metadata": {
    "ExecuteTime": {
     "end_time": "2024-10-22T18:00:08.522634Z",
     "start_time": "2024-10-22T18:00:08.505358Z"
    }
   },
   "cell_type": "code",
   "source": "data[['Heure','population']].cov()",
   "id": "c424c09fc6de6b93",
   "outputs": [
    {
     "data": {
      "text/plain": [
       "                 Heure   population\n",
       "Heure         4.666667   180.333333\n",
       "population  180.333333  7657.333333"
      ],
      "text/html": [
       "<div>\n",
       "<style scoped>\n",
       "    .dataframe tbody tr th:only-of-type {\n",
       "        vertical-align: middle;\n",
       "    }\n",
       "\n",
       "    .dataframe tbody tr th {\n",
       "        vertical-align: top;\n",
       "    }\n",
       "\n",
       "    .dataframe thead th {\n",
       "        text-align: right;\n",
       "    }\n",
       "</style>\n",
       "<table border=\"1\" class=\"dataframe\">\n",
       "  <thead>\n",
       "    <tr style=\"text-align: right;\">\n",
       "      <th></th>\n",
       "      <th>Heure</th>\n",
       "      <th>population</th>\n",
       "    </tr>\n",
       "  </thead>\n",
       "  <tbody>\n",
       "    <tr>\n",
       "      <th>Heure</th>\n",
       "      <td>4.666667</td>\n",
       "      <td>180.333333</td>\n",
       "    </tr>\n",
       "    <tr>\n",
       "      <th>population</th>\n",
       "      <td>180.333333</td>\n",
       "      <td>7657.333333</td>\n",
       "    </tr>\n",
       "  </tbody>\n",
       "</table>\n",
       "</div>"
      ]
     },
     "execution_count": 2,
     "metadata": {},
     "output_type": "execute_result"
    }
   ],
   "execution_count": 2
  },
  {
   "metadata": {},
   "cell_type": "markdown",
   "source": [
    "## Pour calculer notre modele on a besoin de traduire les variables pour que celle-ci soient linéaire.\n",
    "\n",
    "#### Calcul du logarithme népérien de Y\n",
    "De cette manière, on peut calculer la covariance et la variance des variables.\n"
   ],
   "id": "b06e297e9d07ad61"
  },
  {
   "metadata": {},
   "cell_type": "code",
   "outputs": [],
   "execution_count": null,
   "source": [
    "# Calcul du logarithme népérien de Y\n",
    "data['lnY'] = np.log(data['population'])"
   ],
   "id": "e391b47fc5de7f6e"
  },
  {
   "metadata": {},
   "cell_type": "markdown",
   "source": [
    "#### Grâce à la transformation de Y on peut calculer la covariance de manière classique. \n",
    "#### Après avoir calculé la covariance on récupère la variance de x pour calculer la pente a. "
   ],
   "id": "cd83320285866bbd"
  },
  {
   "metadata": {},
   "cell_type": "code",
   "outputs": [],
   "execution_count": null,
   "source": [
    "# Calcul de la covariance et de la variance\n",
    "cov_x_y = data[['Heure', 'lnY']].cov().iloc[0, 1]\n",
    "var_x = data['Heure'].var()\n",
    "\n",
    "a = cov_x_y / var_x"
   ],
   "id": "7f549613fb7801dc"
  },
  {
   "metadata": {},
   "cell_type": "markdown",
   "source": [
    "## Calcul de la constante b\n",
    "#### On sait que ln(b) = moyenne(ln(Y)) - a * moyenne(X)"
   ],
   "id": "d93d59d348e22fef"
  },
  {
   "metadata": {},
   "cell_type": "code",
   "outputs": [],
   "execution_count": null,
   "source": [
    "# Calcul des coefficients a et ln(b)\n",
    "moy_lnY = data['lnY'].mean()\n",
    "moy_x = data['Heure'].mean()\n",
    "ln_b = moy_lnY - a * moy_x"
   ],
   "id": "353e9201c828236b"
  },
  {
   "metadata": {},
   "cell_type": "markdown",
   "source": [
    "# Création d'un Modèle Linéaire et Visualisation des Données\n",
    "\n",
    "## 1. Création de la Colonne pour le Modèle Linéaire\n",
    "\n",
    "Nous commençons par créer une nouvelle colonne dans notre jeu de données appelée **Traduction Modele lineaire**. Cette colonne représente les valeurs prédites par notre modèle linéaire. La formule utilisée est la suivante :\n",
    "\n",
    "## 2. Calcul de la Population Prédite\n",
    "\n",
    "Ensuite, nous calculons la **Population Prédite** en utilisant la fonction exponentielle. Cela nous permet de revenir à l'échelle originale des données (population). La formule est :\n",
    "\n",
    "- **Population Prédite** = exp(Traduction Modele lineaire)\n",
    "\n",
    "  - **exp()** représente la fonction exponentielle.\n",
    "\n",
    "## 3. Visualisation des Résultats\n",
    "\n",
    "Pour mieux comprendre nos résultats, nous visualisons les données. Nous utilisons un graphique pour comparer la **Population Observée** et la **Population Prédite** :\n",
    "\n",
    "- Les points bleus représentent les données observées de la population.\n",
    "- La ligne rouge représente notre modèle ajusté (population prédite).\n"
   ],
   "id": "d091ba44f459a44"
  },
  {
   "metadata": {},
   "cell_type": "code",
   "outputs": [],
   "execution_count": null,
   "source": [
    "# Créer la colonne pour le modèle linéaire\n",
    "data['Traduction Modele lineaire'] = a * data['Heure'] + ln_b\n",
    "\n",
    "# Calculer la population prédite\n",
    "data['Population Prédite'] = np.exp(data['Traduction Modele lineaire'])\n",
    "\n",
    "# Visualisation\n",
    "plt.figure(figsize=(10, 6))\n",
    "plt.scatter(data['Heure'], data['population'], color='blue', label='Données observées (Population)', s=100)\n",
    "plt.plot(data['Heure'], data['Population Prédite'], color='red', label='Modèle ajusté (Population prédite)', linewidth=2)\n",
    "plt.xlabel('Heure')\n",
    "plt.ylabel('Population')\n",
    "plt.title('Comparaison entre la Population Observée et le Modèle Ajusté')\n",
    "plt.legend()\n",
    "plt.grid()\n",
    "plt.show()"
   ],
   "id": "b01e8be03af9ecfd"
  },
  {
   "metadata": {},
   "cell_type": "markdown",
   "source": [
    "# Analyse des Résidus pour Évaluer la Cohérence du Modèle\n",
    "\n",
    "## 1. Calcul de la Population Prédite\n",
    "\n",
    "Nous commençons par calculer la **Population Prédite** en utilisant la colonne **Traduction Modele lineaire** que nous avons créée précédemment. Pour obtenir la population prédite, nous appliquons la fonction exponentielle :\n",
    "\n",
    "- **Population Prédite** = exp(Traduction Modele lineaire)\n",
    "\n",
    "Cela nous permet de revenir à l'échelle originale de notre variable dépendante.\n",
    "\n",
    "## 2. Calcul des Résidus\n",
    "\n",
    "Les **Résidus** représentent la différence entre les valeurs observées de la population et les valeurs prédites par notre modèle. Ils sont calculés comme suit :\n",
    "\n",
    "- **Résidus** = Population Observée - Population Prédite\n",
    "\n",
    "Cette étape nous aide à comprendre à quel point notre modèle s'écarte des données réelles.\n",
    "\n",
    "## 3. Visualisation des Résidus\n",
    "\n",
    "Pour analyser les résidus, nous visualisons les données à l'aide d'un graphique. Nous traçons les résidus en fonction de la population prédite :\n",
    "\n",
    "- Les points violets représentent les résidus.\n",
    "- Une ligne rouge est ajoutée à y=0 pour montrer où les résidus seraient nuls."
   ],
   "id": "3a77a236a055c1c4"
  },
  {
   "metadata": {},
   "cell_type": "code",
   "outputs": [],
   "execution_count": null,
   "source": [
    "# Calculer la population prédite\n",
    "data['Population Prédite'] = np.exp(data['Traduction Modele lineaire'])\n",
    "\n",
    "# Calcul des résidus\n",
    "data['Résidus'] = data['population'] - data['Population Prédite']\n",
    "\n",
    "# Visualisation : Résidus vs Population Prédite\n",
    "plt.figure(figsize=(10, 6))\n",
    "plt.scatter(data['Population Prédite'], data['Résidus'], color='purple', label='Résidus')\n",
    "plt.axhline(0, color='red', linestyle='-')  # Ligne horizontale à y=0\n",
    "plt.xlabel('Population Prédite')\n",
    "plt.ylabel('Résidus')\n",
    "plt.title('Analyse des Résidus vs Population Prédite')\n",
    "plt.grid()\n",
    "plt.legend()\n",
    "plt.show()"
   ],
   "id": "6835473685e10a5a"
  }
 ],
 "metadata": {
  "kernelspec": {
   "display_name": "Python 3",
   "language": "python",
   "name": "python3"
  },
  "language_info": {
   "codemirror_mode": {
    "name": "ipython",
    "version": 2
   },
   "file_extension": ".py",
   "mimetype": "text/x-python",
   "name": "python",
   "nbconvert_exporter": "python",
   "pygments_lexer": "ipython2",
   "version": "2.7.6"
  }
 },
 "nbformat": 4,
 "nbformat_minor": 5
}
