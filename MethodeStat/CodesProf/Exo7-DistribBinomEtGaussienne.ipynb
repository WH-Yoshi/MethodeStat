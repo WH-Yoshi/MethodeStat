{
 "cells": [
  {
   "cell_type": "markdown",
   "metadata": {},
   "source": [
    "## Distribution Gaussienne: principes"
   ]
  },
  {
   "cell_type": "code",
   "execution_count": 8,
   "metadata": {},
   "outputs": [],
   "source": [
    "import pandas as pd\n",
    "import matplotlib.pyplot as plt\n",
    "import math\n",
    "import numpy as np\n",
    "from scipy.special import comb\n",
    "from scipy.stats import binom\n",
    "from scipy.stats import norm"
   ]
  },
  {
   "cell_type": "markdown",
   "metadata": {},
   "source": [
    "# Exercice 7"
   ]
  },
  {
   "cell_type": "code",
   "execution_count": 9,
   "metadata": {},
   "outputs": [],
   "source": [
    "N = 10\n",
    "p = 0.5\n",
    "q = 1-p"
   ]
  },
  {
   "cell_type": "code",
   "execution_count": 11,
   "metadata": {},
   "outputs": [],
   "source": [
    "data_df = pd.DataFrame()\n",
    "\n",
    "data_df['X'] = range(0,N+1)\n",
    "data_df['p**X'] = p**data_df['X']\n",
    "data_df['q**(N-X)'] = q**(N-data_df['X'])\n",
    "data_df['fac'] = comb(N,data_df['X'])\n",
    "data_df['prob'] = data_df['fac'] * data_df['p**X'] * data_df['q**(N-X)']\n",
    "data_df['scipy.stats.binom'] = data_df['X'].apply(lambda x:binom.pmf(x,N,p))"
   ]
  },
  {
   "cell_type": "code",
   "execution_count": 12,
   "metadata": {},
   "outputs": [
    {
     "data": {
      "text/html": [
       "<div>\n",
       "<style scoped>\n",
       "    .dataframe tbody tr th:only-of-type {\n",
       "        vertical-align: middle;\n",
       "    }\n",
       "\n",
       "    .dataframe tbody tr th {\n",
       "        vertical-align: top;\n",
       "    }\n",
       "\n",
       "    .dataframe thead th {\n",
       "        text-align: right;\n",
       "    }\n",
       "</style>\n",
       "<table border=\"1\" class=\"dataframe\">\n",
       "  <thead>\n",
       "    <tr style=\"text-align: right;\">\n",
       "      <th></th>\n",
       "      <th>X</th>\n",
       "      <th>p**X</th>\n",
       "      <th>q**(N-X)</th>\n",
       "      <th>fac</th>\n",
       "      <th>prob</th>\n",
       "      <th>scipy.stats.binom</th>\n",
       "    </tr>\n",
       "  </thead>\n",
       "  <tbody>\n",
       "    <tr>\n",
       "      <th>0</th>\n",
       "      <td>0</td>\n",
       "      <td>1.000000</td>\n",
       "      <td>0.000977</td>\n",
       "      <td>1.0</td>\n",
       "      <td>0.000977</td>\n",
       "      <td>0.000977</td>\n",
       "    </tr>\n",
       "    <tr>\n",
       "      <th>1</th>\n",
       "      <td>1</td>\n",
       "      <td>0.500000</td>\n",
       "      <td>0.001953</td>\n",
       "      <td>10.0</td>\n",
       "      <td>0.009766</td>\n",
       "      <td>0.009766</td>\n",
       "    </tr>\n",
       "    <tr>\n",
       "      <th>2</th>\n",
       "      <td>2</td>\n",
       "      <td>0.250000</td>\n",
       "      <td>0.003906</td>\n",
       "      <td>45.0</td>\n",
       "      <td>0.043945</td>\n",
       "      <td>0.043945</td>\n",
       "    </tr>\n",
       "    <tr>\n",
       "      <th>3</th>\n",
       "      <td>3</td>\n",
       "      <td>0.125000</td>\n",
       "      <td>0.007812</td>\n",
       "      <td>120.0</td>\n",
       "      <td>0.117188</td>\n",
       "      <td>0.117188</td>\n",
       "    </tr>\n",
       "    <tr>\n",
       "      <th>4</th>\n",
       "      <td>4</td>\n",
       "      <td>0.062500</td>\n",
       "      <td>0.015625</td>\n",
       "      <td>210.0</td>\n",
       "      <td>0.205078</td>\n",
       "      <td>0.205078</td>\n",
       "    </tr>\n",
       "    <tr>\n",
       "      <th>5</th>\n",
       "      <td>5</td>\n",
       "      <td>0.031250</td>\n",
       "      <td>0.031250</td>\n",
       "      <td>252.0</td>\n",
       "      <td>0.246094</td>\n",
       "      <td>0.246094</td>\n",
       "    </tr>\n",
       "    <tr>\n",
       "      <th>6</th>\n",
       "      <td>6</td>\n",
       "      <td>0.015625</td>\n",
       "      <td>0.062500</td>\n",
       "      <td>210.0</td>\n",
       "      <td>0.205078</td>\n",
       "      <td>0.205078</td>\n",
       "    </tr>\n",
       "    <tr>\n",
       "      <th>7</th>\n",
       "      <td>7</td>\n",
       "      <td>0.007812</td>\n",
       "      <td>0.125000</td>\n",
       "      <td>120.0</td>\n",
       "      <td>0.117188</td>\n",
       "      <td>0.117187</td>\n",
       "    </tr>\n",
       "    <tr>\n",
       "      <th>8</th>\n",
       "      <td>8</td>\n",
       "      <td>0.003906</td>\n",
       "      <td>0.250000</td>\n",
       "      <td>45.0</td>\n",
       "      <td>0.043945</td>\n",
       "      <td>0.043945</td>\n",
       "    </tr>\n",
       "    <tr>\n",
       "      <th>9</th>\n",
       "      <td>9</td>\n",
       "      <td>0.001953</td>\n",
       "      <td>0.500000</td>\n",
       "      <td>10.0</td>\n",
       "      <td>0.009766</td>\n",
       "      <td>0.009766</td>\n",
       "    </tr>\n",
       "    <tr>\n",
       "      <th>10</th>\n",
       "      <td>10</td>\n",
       "      <td>0.000977</td>\n",
       "      <td>1.000000</td>\n",
       "      <td>1.0</td>\n",
       "      <td>0.000977</td>\n",
       "      <td>0.000977</td>\n",
       "    </tr>\n",
       "  </tbody>\n",
       "</table>\n",
       "</div>"
      ],
      "text/plain": [
       "     X      p**X  q**(N-X)    fac      prob  scipy.stats.binom\n",
       "0    0  1.000000  0.000977    1.0  0.000977           0.000977\n",
       "1    1  0.500000  0.001953   10.0  0.009766           0.009766\n",
       "2    2  0.250000  0.003906   45.0  0.043945           0.043945\n",
       "3    3  0.125000  0.007812  120.0  0.117188           0.117188\n",
       "4    4  0.062500  0.015625  210.0  0.205078           0.205078\n",
       "5    5  0.031250  0.031250  252.0  0.246094           0.246094\n",
       "6    6  0.015625  0.062500  210.0  0.205078           0.205078\n",
       "7    7  0.007812  0.125000  120.0  0.117188           0.117187\n",
       "8    8  0.003906  0.250000   45.0  0.043945           0.043945\n",
       "9    9  0.001953  0.500000   10.0  0.009766           0.009766\n",
       "10  10  0.000977  1.000000    1.0  0.000977           0.000977"
      ]
     },
     "execution_count": 12,
     "metadata": {},
     "output_type": "execute_result"
    }
   ],
   "source": [
    "data_df"
   ]
  },
  {
   "cell_type": "code",
   "execution_count": 13,
   "metadata": {},
   "outputs": [
    {
     "data": {
      "image/png": "[encoded data removed]",
      "text/plain": [
       "<Figure size 640x480 with 1 Axes>"
      ]
     },
     "metadata": {},
     "output_type": "display_data"
    }
   ],
   "source": [
    "plt.plot(data_df['X'],data_df['prob'],'o')\n",
    "plt.xlabel('Nombre de succès (X) sur {} tirage(s)'.format(N))\n",
    "plt.ylabel('probabilité')\n",
    "plt.title('p = {}'.format(p))\n",
    "plt.show()"
   ]
  },
  {
   "cell_type": "code",
   "execution_count": 14,
   "metadata": {},
   "outputs": [
    {
     "data": {
      "text/html": [
       "<div>\n",
       "<style scoped>\n",
       "    .dataframe tbody tr th:only-of-type {\n",
       "        vertical-align: middle;\n",
       "    }\n",
       "\n",
       "    .dataframe tbody tr th {\n",
       "        vertical-align: top;\n",
       "    }\n",
       "\n",
       "    .dataframe thead th {\n",
       "        text-align: right;\n",
       "    }\n",
       "</style>\n",
       "<table border=\"1\" class=\"dataframe\">\n",
       "  <thead>\n",
       "    <tr style=\"text-align: right;\">\n",
       "      <th></th>\n",
       "      <th>X</th>\n",
       "      <th>p**X</th>\n",
       "      <th>q**(N-X)</th>\n",
       "      <th>fac</th>\n",
       "      <th>prob</th>\n",
       "      <th>scipy.stats.binom</th>\n",
       "    </tr>\n",
       "  </thead>\n",
       "  <tbody>\n",
       "    <tr>\n",
       "      <th>3</th>\n",
       "      <td>3</td>\n",
       "      <td>0.125000</td>\n",
       "      <td>0.007812</td>\n",
       "      <td>120.0</td>\n",
       "      <td>0.117188</td>\n",
       "      <td>0.117188</td>\n",
       "    </tr>\n",
       "    <tr>\n",
       "      <th>4</th>\n",
       "      <td>4</td>\n",
       "      <td>0.062500</td>\n",
       "      <td>0.015625</td>\n",
       "      <td>210.0</td>\n",
       "      <td>0.205078</td>\n",
       "      <td>0.205078</td>\n",
       "    </tr>\n",
       "    <tr>\n",
       "      <th>5</th>\n",
       "      <td>5</td>\n",
       "      <td>0.031250</td>\n",
       "      <td>0.031250</td>\n",
       "      <td>252.0</td>\n",
       "      <td>0.246094</td>\n",
       "      <td>0.246094</td>\n",
       "    </tr>\n",
       "    <tr>\n",
       "      <th>6</th>\n",
       "      <td>6</td>\n",
       "      <td>0.015625</td>\n",
       "      <td>0.062500</td>\n",
       "      <td>210.0</td>\n",
       "      <td>0.205078</td>\n",
       "      <td>0.205078</td>\n",
       "    </tr>\n",
       "  </tbody>\n",
       "</table>\n",
       "</div>"
      ],
      "text/plain": [
       "   X      p**X  q**(N-X)    fac      prob  scipy.stats.binom\n",
       "3  3  0.125000  0.007812  120.0  0.117188           0.117188\n",
       "4  4  0.062500  0.015625  210.0  0.205078           0.205078\n",
       "5  5  0.031250  0.031250  252.0  0.246094           0.246094\n",
       "6  6  0.015625  0.062500  210.0  0.205078           0.205078"
      ]
     },
     "execution_count": 14,
     "metadata": {},
     "output_type": "execute_result"
    }
   ],
   "source": [
    "data_df[(data_df['X']<=6)&(data_df['X']>=3)]"
   ]
  },
  {
   "cell_type": "code",
   "execution_count": 15,
   "metadata": {},
   "outputs": [
    {
     "data": {
      "text/plain": [
       "0.7734375"
      ]
     },
     "execution_count": 15,
     "metadata": {},
     "output_type": "execute_result"
    }
   ],
   "source": [
    "data_df[(data_df['X']<=6)&(data_df['X']>=3)]['prob'].sum()"
   ]
  },
  {
   "cell_type": "code",
   "execution_count": 16,
   "metadata": {},
   "outputs": [],
   "source": [
    "#\n",
    "# Approximation par une gaussienne: OK on est bien dans les conditions puisque \n",
    "# p ET q sont bien éloignés de 0 (=0.5 tous les deux!!!)\n",
    "#"
   ]
  },
  {
   "cell_type": "code",
   "execution_count": 17,
   "metadata": {},
   "outputs": [
    {
     "data": {
      "text/html": [
       "<div>\n",
       "<style scoped>\n",
       "    .dataframe tbody tr th:only-of-type {\n",
       "        vertical-align: middle;\n",
       "    }\n",
       "\n",
       "    .dataframe tbody tr th {\n",
       "        vertical-align: top;\n",
       "    }\n",
       "\n",
       "    .dataframe thead th {\n",
       "        text-align: right;\n",
       "    }\n",
       "</style>\n",
       "<table border=\"1\" class=\"dataframe\">\n",
       "  <thead>\n",
       "    <tr style=\"text-align: right;\">\n",
       "      <th></th>\n",
       "      <th>X</th>\n",
       "      <th>prob density</th>\n",
       "    </tr>\n",
       "  </thead>\n",
       "  <tbody>\n",
       "    <tr>\n",
       "      <th>0</th>\n",
       "      <td>0.00</td>\n",
       "      <td>0.001700</td>\n",
       "    </tr>\n",
       "    <tr>\n",
       "      <th>1</th>\n",
       "      <td>0.01</td>\n",
       "      <td>0.001734</td>\n",
       "    </tr>\n",
       "    <tr>\n",
       "      <th>2</th>\n",
       "      <td>0.02</td>\n",
       "      <td>0.001769</td>\n",
       "    </tr>\n",
       "    <tr>\n",
       "      <th>3</th>\n",
       "      <td>0.03</td>\n",
       "      <td>0.001805</td>\n",
       "    </tr>\n",
       "    <tr>\n",
       "      <th>4</th>\n",
       "      <td>0.04</td>\n",
       "      <td>0.001841</td>\n",
       "    </tr>\n",
       "    <tr>\n",
       "      <th>...</th>\n",
       "      <td>...</td>\n",
       "      <td>...</td>\n",
       "    </tr>\n",
       "    <tr>\n",
       "      <th>996</th>\n",
       "      <td>9.96</td>\n",
       "      <td>0.001841</td>\n",
       "    </tr>\n",
       "    <tr>\n",
       "      <th>997</th>\n",
       "      <td>9.97</td>\n",
       "      <td>0.001805</td>\n",
       "    </tr>\n",
       "    <tr>\n",
       "      <th>998</th>\n",
       "      <td>9.98</td>\n",
       "      <td>0.001769</td>\n",
       "    </tr>\n",
       "    <tr>\n",
       "      <th>999</th>\n",
       "      <td>9.99</td>\n",
       "      <td>0.001734</td>\n",
       "    </tr>\n",
       "    <tr>\n",
       "      <th>1000</th>\n",
       "      <td>10.00</td>\n",
       "      <td>0.001700</td>\n",
       "    </tr>\n",
       "  </tbody>\n",
       "</table>\n",
       "<p>1001 rows × 2 columns</p>\n",
       "</div>"
      ],
      "text/plain": [
       "          X  prob density\n",
       "0      0.00      0.001700\n",
       "1      0.01      0.001734\n",
       "2      0.02      0.001769\n",
       "3      0.03      0.001805\n",
       "4      0.04      0.001841\n",
       "...     ...           ...\n",
       "996    9.96      0.001841\n",
       "997    9.97      0.001805\n",
       "998    9.98      0.001769\n",
       "999    9.99      0.001734\n",
       "1000  10.00      0.001700\n",
       "\n",
       "[1001 rows x 2 columns]"
      ]
     },
     "execution_count": 17,
     "metadata": {},
     "output_type": "execute_result"
    }
   ],
   "source": [
    "gauss_df = pd.DataFrame()\n",
    "\n",
    "gauss_df['X'] = range(0,N*100+1)\n",
    "gauss_df['X'] = gauss_df['X']/100\n",
    "gauss_df['prob density'] = norm.pdf(gauss_df['X'],loc=N*p,scale=math.sqrt(N*p*q))\n",
    "gauss_df"
   ]
  },
  {
   "cell_type": "code",
   "execution_count": 18,
   "metadata": {},
   "outputs": [
    {
     "data": {
      "image/png": "[encoded data removed]",
      "text/plain": [
       "<Figure size 640x480 with 1 Axes>"
      ]
     },
     "metadata": {},
     "output_type": "display_data"
    }
   ],
   "source": [
    "plt.plot(data_df['X'],data_df['prob'],'o')\n",
    "plt.plot(gauss_df['X'],gauss_df['prob density'])\n",
    "select_df = gauss_df[(gauss_df['X']>=3)&(gauss_df['X']<=6)]\n",
    "plt.fill_between(select_df['X'], select_df['prob density'], alpha=0.4)\n",
    "\n",
    "plt.xlabel('Nombre de succès (X) sur {} tirage(s)'.format(N))\n",
    "plt.ylabel('probabilité')\n",
    "plt.title('p = {}'.format(p))\n",
    "plt.show()"
   ]
  },
  {
   "cell_type": "code",
   "execution_count": 19,
   "metadata": {},
   "outputs": [
    {
     "data": {
      "text/plain": [
       "0.6335037662011967"
      ]
     },
     "execution_count": 19,
     "metadata": {},
     "output_type": "execute_result"
    }
   ],
   "source": [
    "(norm.cdf(6,loc=N*p,scale=math.sqrt(N*p*q))-norm.cdf(3,loc=N*p,scale=math.sqrt(N*p*q)))"
   ]
  },
  {
   "cell_type": "code",
   "execution_count": 20,
   "metadata": {},
   "outputs": [],
   "source": [
    "#\n",
    "# On a dit que c une 'bonne' approximation...\n",
    "#\n",
    "# Même si la courbe continue (approximation continue = courbe gaussienne)\n",
    "# passe pratiquement par tous les points (distribution discrète)... attention\n",
    "# que ce n'est qu'une approximation!!!\n",
    "#"
   ]
  },
  {
   "cell_type": "code",
   "execution_count": null,
   "metadata": {},
   "outputs": [],
   "source": []
  }
 ],
 "metadata": {
  "kernelspec": {
   "display_name": "Python 3 (ipykernel)",
   "language": "python",
   "name": "python3"
  },
  "language_info": {
   "codemirror_mode": {
    "name": "ipython",
    "version": 3
   },
   "file_extension": ".py",
   "mimetype": "text/x-python",
   "name": "python",
   "nbconvert_exporter": "python",
   "pygments_lexer": "ipython3",
   "version": "3.9.13"
  }
 },
 "nbformat": 4,
 "nbformat_minor": 2
}
