{
 "cells": [
  {
   "cell_type": "markdown",
   "metadata": {},
   "source": [
    "## Distribution Binomiale: principes"
   ]
  },
  {
   "cell_type": "code",
   "metadata": {
    "ExecuteTime": {
     "end_time": "2024-10-22T18:35:08.399212Z",
     "start_time": "2024-10-22T18:35:07.256537Z"
    }
   },
   "source": [
    "import pandas as pd\n",
    "import matplotlib.pyplot as plt\n",
    "import math\n",
    "import numpy as np\n",
    "from scipy.stats import binom\n",
    "import scipy.special as sp"
   ],
   "outputs": [],
   "execution_count": 1
  },
  {
   "cell_type": "markdown",
   "metadata": {},
   "source": [
    "# Exercice 2"
   ]
  },
  {
   "cell_type": "code",
   "metadata": {
    "ExecuteTime": {
     "end_time": "2024-10-22T18:35:08.407308Z",
     "start_time": "2024-10-22T18:35:08.404220Z"
    }
   },
   "source": [
    "N = 10\n",
    "p = 0.2\n",
    "q = 1-p"
   ],
   "outputs": [],
   "execution_count": 2
  },
  {
   "cell_type": "markdown",
   "metadata": {},
   "source": [
    "Je vous propose de créer un dataframe contenant:  \n",
    "\n",
    "- une colonne 'X' reprenant le nombre de fois que l'évènement se produit sur N expériences\n",
    "- une colonne 'fac' reprenant le facteur C(N,X) ou encore N!/(X!(N-X)!), premier facteur de la formule des slides\n",
    "- une colonne 'p**X' reprenant le deuxième facteur\n",
    "- une colonne 'q**(N-X)' reprenant le troisième facteur\n",
    "- une colonne 'prob' reprenant le calcul explicite sur base de la formule des slides = prob(p,N,X) = facteur1*facteur2*facteur3\n",
    "- une colonne 'scipy.stats.binom' reprenant le résultat comme directement calculé par le point d'entrée scipy.stats.binom dans le package scipy"
   ]
  },
  {
   "cell_type": "code",
   "metadata": {
    "ExecuteTime": {
     "end_time": "2024-10-22T18:35:08.733115Z",
     "start_time": "2024-10-22T18:35:08.725855Z"
    }
   },
   "source": [
    "data_df = pd.DataFrame()\n",
    "\n",
    "data_df['X'] = range(0,N+1) # toutes les valeurs entières de arg1 à arg2-1 soit ici, de 0 à N, N compris\n",
    "data_df['p**X'] = p**data_df['X']\n",
    "data_df['q**(N-X)'] = q**(N-data_df['X'])\n",
    "data_df['fac'] = sp.comb(N,data_df['X']) # voir la doc en ligne\n",
    "data_df['prob'] = data_df['fac'] * data_df['p**X'] * data_df['q**(N-X)']\n",
    "data_df['scipy.stats.binom'] = data_df['X'].apply(lambda x:binom.pmf(x,N,p))"
   ],
   "outputs": [],
   "execution_count": 3
  },
  {
   "cell_type": "code",
   "metadata": {
    "ExecuteTime": {
     "end_time": "2024-10-22T18:35:08.755745Z",
     "start_time": "2024-10-22T18:35:08.743936Z"
    }
   },
   "source": [
    "data_df"
   ],
   "outputs": [
    {
     "data": {
      "text/plain": [
       "     X          p**X  q**(N-X)    fac          prob  scipy.stats.binom\n",
       "0    0  1.000000e+00  0.107374    1.0  1.073742e-01       1.073742e-01\n",
       "1    1  2.000000e-01  0.134218   10.0  2.684355e-01       2.684355e-01\n",
       "2    2  4.000000e-02  0.167772   45.0  3.019899e-01       3.019899e-01\n",
       "3    3  8.000000e-03  0.209715  120.0  2.013266e-01       2.013266e-01\n",
       "4    4  1.600000e-03  0.262144  210.0  8.808038e-02       8.808038e-02\n",
       "5    5  3.200000e-04  0.327680  252.0  2.642412e-02       2.642412e-02\n",
       "6    6  6.400000e-05  0.409600  210.0  5.505024e-03       5.505024e-03\n",
       "7    7  1.280000e-05  0.512000  120.0  7.864320e-04       7.864320e-04\n",
       "8    8  2.560000e-06  0.640000   45.0  7.372800e-05       7.372800e-05\n",
       "9    9  5.120000e-07  0.800000   10.0  4.096000e-06       4.096000e-06\n",
       "10  10  1.024000e-07  1.000000    1.0  1.024000e-07       1.024000e-07"
      ],
      "text/html": [
       "<div>\n",
       "<style scoped>\n",
       "    .dataframe tbody tr th:only-of-type {\n",
       "        vertical-align: middle;\n",
       "    }\n",
       "\n",
       "    .dataframe tbody tr th {\n",
       "        vertical-align: top;\n",
       "    }\n",
       "\n",
       "    .dataframe thead th {\n",
       "        text-align: right;\n",
       "    }\n",
       "</style>\n",
       "<table border=\"1\" class=\"dataframe\">\n",
       "  <thead>\n",
       "    <tr style=\"text-align: right;\">\n",
       "      <th></th>\n",
       "      <th>X</th>\n",
       "      <th>p**X</th>\n",
       "      <th>q**(N-X)</th>\n",
       "      <th>fac</th>\n",
       "      <th>prob</th>\n",
       "      <th>scipy.stats.binom</th>\n",
       "    </tr>\n",
       "  </thead>\n",
       "  <tbody>\n",
       "    <tr>\n",
       "      <th>0</th>\n",
       "      <td>0</td>\n",
       "      <td>1.000000e+00</td>\n",
       "      <td>0.107374</td>\n",
       "      <td>1.0</td>\n",
       "      <td>1.073742e-01</td>\n",
       "      <td>1.073742e-01</td>\n",
       "    </tr>\n",
       "    <tr>\n",
       "      <th>1</th>\n",
       "      <td>1</td>\n",
       "      <td>2.000000e-01</td>\n",
       "      <td>0.134218</td>\n",
       "      <td>10.0</td>\n",
       "      <td>2.684355e-01</td>\n",
       "      <td>2.684355e-01</td>\n",
       "    </tr>\n",
       "    <tr>\n",
       "      <th>2</th>\n",
       "      <td>2</td>\n",
       "      <td>4.000000e-02</td>\n",
       "      <td>0.167772</td>\n",
       "      <td>45.0</td>\n",
       "      <td>3.019899e-01</td>\n",
       "      <td>3.019899e-01</td>\n",
       "    </tr>\n",
       "    <tr>\n",
       "      <th>3</th>\n",
       "      <td>3</td>\n",
       "      <td>8.000000e-03</td>\n",
       "      <td>0.209715</td>\n",
       "      <td>120.0</td>\n",
       "      <td>2.013266e-01</td>\n",
       "      <td>2.013266e-01</td>\n",
       "    </tr>\n",
       "    <tr>\n",
       "      <th>4</th>\n",
       "      <td>4</td>\n",
       "      <td>1.600000e-03</td>\n",
       "      <td>0.262144</td>\n",
       "      <td>210.0</td>\n",
       "      <td>8.808038e-02</td>\n",
       "      <td>8.808038e-02</td>\n",
       "    </tr>\n",
       "    <tr>\n",
       "      <th>5</th>\n",
       "      <td>5</td>\n",
       "      <td>3.200000e-04</td>\n",
       "      <td>0.327680</td>\n",
       "      <td>252.0</td>\n",
       "      <td>2.642412e-02</td>\n",
       "      <td>2.642412e-02</td>\n",
       "    </tr>\n",
       "    <tr>\n",
       "      <th>6</th>\n",
       "      <td>6</td>\n",
       "      <td>6.400000e-05</td>\n",
       "      <td>0.409600</td>\n",
       "      <td>210.0</td>\n",
       "      <td>5.505024e-03</td>\n",
       "      <td>5.505024e-03</td>\n",
       "    </tr>\n",
       "    <tr>\n",
       "      <th>7</th>\n",
       "      <td>7</td>\n",
       "      <td>1.280000e-05</td>\n",
       "      <td>0.512000</td>\n",
       "      <td>120.0</td>\n",
       "      <td>7.864320e-04</td>\n",
       "      <td>7.864320e-04</td>\n",
       "    </tr>\n",
       "    <tr>\n",
       "      <th>8</th>\n",
       "      <td>8</td>\n",
       "      <td>2.560000e-06</td>\n",
       "      <td>0.640000</td>\n",
       "      <td>45.0</td>\n",
       "      <td>7.372800e-05</td>\n",
       "      <td>7.372800e-05</td>\n",
       "    </tr>\n",
       "    <tr>\n",
       "      <th>9</th>\n",
       "      <td>9</td>\n",
       "      <td>5.120000e-07</td>\n",
       "      <td>0.800000</td>\n",
       "      <td>10.0</td>\n",
       "      <td>4.096000e-06</td>\n",
       "      <td>4.096000e-06</td>\n",
       "    </tr>\n",
       "    <tr>\n",
       "      <th>10</th>\n",
       "      <td>10</td>\n",
       "      <td>1.024000e-07</td>\n",
       "      <td>1.000000</td>\n",
       "      <td>1.0</td>\n",
       "      <td>1.024000e-07</td>\n",
       "      <td>1.024000e-07</td>\n",
       "    </tr>\n",
       "  </tbody>\n",
       "</table>\n",
       "</div>"
      ]
     },
     "execution_count": 4,
     "metadata": {},
     "output_type": "execute_result"
    }
   ],
   "execution_count": 4
  },
  {
   "cell_type": "code",
   "metadata": {
    "ExecuteTime": {
     "end_time": "2024-10-22T18:35:08.905098Z",
     "start_time": "2024-10-22T18:35:08.786179Z"
    }
   },
   "source": [
    "plt.plot(data_df['X'],data_df['prob'],'o')\n",
    "plt.xlabel('Nombre de succès (X) sur {} tirage(s)'.format(N))\n",
    "plt.ylabel('probabilité')\n",
    "plt.title('p = {}'.format(p))\n",
    "plt.xticks(ticks=range(N+1)) \n",
    "plt.show()"
   ],
   "outputs": [
    {
     "data": {
      "text/plain": [
       "<Figure size 640x480 with 1 Axes>"
      ],
      "image/png": "[encoded data removed]"
     },
     "metadata": {},
     "output_type": "display_data"
    }
   ],
   "execution_count": 5
  },
  {
   "cell_type": "code",
   "metadata": {
    "ExecuteTime": {
     "end_time": "2024-10-22T18:35:08.934706Z",
     "start_time": "2024-10-22T18:35:08.930785Z"
    }
   },
   "source": [
    "data_df[data_df['X']>10]['prob'].sum()"
   ],
   "outputs": [
    {
     "data": {
      "text/plain": [
       "0.0"
      ]
     },
     "execution_count": 6,
     "metadata": {},
     "output_type": "execute_result"
    }
   ],
   "execution_count": 6
  },
  {
   "cell_type": "markdown",
   "metadata": {},
   "source": [
    "Ici, la distribution n'est pas symétrique parce que la pièce qui sert au tirage n'est pas équilibrée... la probabilité de tirer pile est de 0.2 alors que la probabilité de tirer face est de 0.8.\n",
    "Donc, la probabilité que sur 10 tirages on obtienne 10 piles (10 succès) est de $(0.2)**10=1.024e-07$ alors que la probabilité d'obtenir 10 faces (0 succès) est de $(0.8)**10=0.107$"
   ]
  },
  {
   "cell_type": "markdown",
   "metadata": {},
   "source": [
    "Voyez aussi que sur 10 tirages le plus probable est d'avoir 2 succès (2 piles) avec une probabilité de 0.302."
   ]
  },
  {
   "cell_type": "markdown",
   "metadata": {},
   "source": [
    "Calculons la moyenne de cette distribution et vérifions qu'elle est bien égale à N*p comme repris dans les slides:"
   ]
  },
  {
   "cell_type": "code",
   "metadata": {
    "ExecuteTime": {
     "end_time": "2024-10-22T18:35:08.954086Z",
     "start_time": "2024-10-22T18:35:08.949713Z"
    }
   },
   "source": [
    "def valeurFoisProba(r):\n",
    "    return r['X']*r['prob']\n",
    "\n",
    "data_df['valeur * proba'] = data_df.apply(valeurFoisProba, axis=1)\n",
    "# Same as:\n",
    "data_df['valeur * proba'] = data_df.apply(lambda r:r['X']*r['prob'], axis=1)\n",
    "\n",
    "moyenne = data_df['valeur * proba'].sum()\n",
    "\n",
    "print('moyenne (calcul explicite):{}'.format(moyenne))\n",
    "print('moyenne (calcul par la formule):{}'.format(N*p))"
   ],
   "outputs": [
    {
     "name": "stdout",
     "output_type": "stream",
     "text": [
      "moyenne (calcul explicite):2.000000000000001\n",
      "moyenne (calcul par la formule):2.0\n"
     ]
    }
   ],
   "execution_count": 7
  },
  {
   "cell_type": "markdown",
   "metadata": {},
   "source": [
    "De même pour la variance, on peut la calculer suivant:"
   ]
  },
  {
   "cell_type": "code",
   "metadata": {
    "ExecuteTime": {
     "end_time": "2024-10-22T18:35:09.006063Z",
     "start_time": "2024-10-22T18:35:09.001279Z"
    }
   },
   "source": [
    "data_df['(carre ecart a la moyenne) * proba'] = data_df.apply(lambda r:(r['X']-moyenne)**2*r['prob'], axis=1)\n",
    "\n",
    "variance = data_df['(carre ecart a la moyenne) * proba'].sum()\n",
    "\n",
    "print('variance (calcul explicite):{}'.format(variance))\n",
    "print('variance (calcul par la formule:{}'.format(N*p*(1-p)))"
   ],
   "outputs": [
    {
     "name": "stdout",
     "output_type": "stream",
     "text": [
      "variance (calcul explicite):1.600000000000001\n",
      "variance (calcul par la formule:1.6\n"
     ]
    }
   ],
   "execution_count": 8
  },
  {
   "cell_type": "markdown",
   "metadata": {},
   "source": [
    "## Exercice 3"
   ]
  },
  {
   "cell_type": "markdown",
   "metadata": {},
   "source": [
    "Pour une pièce équilibrée, nous aurons $p=0.5$ et nous obtiendrons une distribution symétrique. Voyons cela:"
   ]
  },
  {
   "cell_type": "code",
   "metadata": {
    "ExecuteTime": {
     "end_time": "2024-10-22T18:35:09.020908Z",
     "start_time": "2024-10-22T18:35:09.018307Z"
    }
   },
   "source": [
    "p = 0.5\n",
    "q = 1-p"
   ],
   "outputs": [],
   "execution_count": 9
  },
  {
   "cell_type": "code",
   "metadata": {
    "ExecuteTime": {
     "end_time": "2024-10-22T18:35:09.058576Z",
     "start_time": "2024-10-22T18:35:09.047085Z"
    }
   },
   "source": [
    "data_df = pd.DataFrame()\n",
    "\n",
    "data_df['X'] = range(0,N+1)\n",
    "data_df['p**X'] = p**data_df['X']\n",
    "data_df['q**(N-X)'] = q**(N-data_df['X'])\n",
    "data_df['fac'] = sp.comb(N,data_df['X'])\n",
    "data_df['prob'] = data_df['fac'] * data_df['p**X'] * data_df['q**(N-X)']\n",
    "data_df['scipy.stats.binom'] = data_df['X'].apply(lambda x:binom.pmf(x,N,p))\n",
    "\n",
    "data_df.head(6)"
   ],
   "outputs": [
    {
     "data": {
      "text/plain": [
       "   X     p**X  q**(N-X)    fac      prob  scipy.stats.binom\n",
       "0  0  1.00000  0.000977    1.0  0.000977           0.000977\n",
       "1  1  0.50000  0.001953   10.0  0.009766           0.009766\n",
       "2  2  0.25000  0.003906   45.0  0.043945           0.043945\n",
       "3  3  0.12500  0.007812  120.0  0.117188           0.117188\n",
       "4  4  0.06250  0.015625  210.0  0.205078           0.205078\n",
       "5  5  0.03125  0.031250  252.0  0.246094           0.246094"
      ],
      "text/html": [
       "<div>\n",
       "<style scoped>\n",
       "    .dataframe tbody tr th:only-of-type {\n",
       "        vertical-align: middle;\n",
       "    }\n",
       "\n",
       "    .dataframe tbody tr th {\n",
       "        vertical-align: top;\n",
       "    }\n",
       "\n",
       "    .dataframe thead th {\n",
       "        text-align: right;\n",
       "    }\n",
       "</style>\n",
       "<table border=\"1\" class=\"dataframe\">\n",
       "  <thead>\n",
       "    <tr style=\"text-align: right;\">\n",
       "      <th></th>\n",
       "      <th>X</th>\n",
       "      <th>p**X</th>\n",
       "      <th>q**(N-X)</th>\n",
       "      <th>fac</th>\n",
       "      <th>prob</th>\n",
       "      <th>scipy.stats.binom</th>\n",
       "    </tr>\n",
       "  </thead>\n",
       "  <tbody>\n",
       "    <tr>\n",
       "      <th>0</th>\n",
       "      <td>0</td>\n",
       "      <td>1.00000</td>\n",
       "      <td>0.000977</td>\n",
       "      <td>1.0</td>\n",
       "      <td>0.000977</td>\n",
       "      <td>0.000977</td>\n",
       "    </tr>\n",
       "    <tr>\n",
       "      <th>1</th>\n",
       "      <td>1</td>\n",
       "      <td>0.50000</td>\n",
       "      <td>0.001953</td>\n",
       "      <td>10.0</td>\n",
       "      <td>0.009766</td>\n",
       "      <td>0.009766</td>\n",
       "    </tr>\n",
       "    <tr>\n",
       "      <th>2</th>\n",
       "      <td>2</td>\n",
       "      <td>0.25000</td>\n",
       "      <td>0.003906</td>\n",
       "      <td>45.0</td>\n",
       "      <td>0.043945</td>\n",
       "      <td>0.043945</td>\n",
       "    </tr>\n",
       "    <tr>\n",
       "      <th>3</th>\n",
       "      <td>3</td>\n",
       "      <td>0.12500</td>\n",
       "      <td>0.007812</td>\n",
       "      <td>120.0</td>\n",
       "      <td>0.117188</td>\n",
       "      <td>0.117188</td>\n",
       "    </tr>\n",
       "    <tr>\n",
       "      <th>4</th>\n",
       "      <td>4</td>\n",
       "      <td>0.06250</td>\n",
       "      <td>0.015625</td>\n",
       "      <td>210.0</td>\n",
       "      <td>0.205078</td>\n",
       "      <td>0.205078</td>\n",
       "    </tr>\n",
       "    <tr>\n",
       "      <th>5</th>\n",
       "      <td>5</td>\n",
       "      <td>0.03125</td>\n",
       "      <td>0.031250</td>\n",
       "      <td>252.0</td>\n",
       "      <td>0.246094</td>\n",
       "      <td>0.246094</td>\n",
       "    </tr>\n",
       "  </tbody>\n",
       "</table>\n",
       "</div>"
      ]
     },
     "execution_count": 10,
     "metadata": {},
     "output_type": "execute_result"
    }
   ],
   "execution_count": 10
  },
  {
   "cell_type": "code",
   "metadata": {
    "ExecuteTime": {
     "end_time": "2024-10-22T18:35:09.186298Z",
     "start_time": "2024-10-22T18:35:09.089713Z"
    }
   },
   "source": [
    "plt.plot(data_df['X'],data_df['prob'],'o')\n",
    "plt.xlabel('Nombre de succès (X) sur {} tirage(s)'.format(N))\n",
    "plt.ylabel('probabilité')\n",
    "plt.title('p = {}'.format(p))\n",
    "plt.xticks(ticks=range(N+1)) \n",
    "plt.show()"
   ],
   "outputs": [
    {
     "data": {
      "text/plain": [
       "<Figure size 640x480 with 1 Axes>"
      ],
      "image/png": "[encoded data removed]"
     },
     "metadata": {},
     "output_type": "display_data"
    }
   ],
   "execution_count": 11
  },
  {
   "cell_type": "markdown",
   "metadata": {},
   "source": [
    "Ici, le plus probable est d'obtenir 5 fois piles et 5 fois faces, avec une probabilité de 0.246"
   ]
  },
  {
   "cell_type": "markdown",
   "metadata": {},
   "source": [
    "## Exercice 4"
   ]
  },
  {
   "cell_type": "code",
   "metadata": {
    "ExecuteTime": {
     "end_time": "2024-10-22T18:35:09.226602Z",
     "start_time": "2024-10-22T18:35:09.213197Z"
    }
   },
   "source": [
    "N = 4       # Famille de 4 enfants => maximum 4 essais!!!\n",
    "p = 0.5     # Autant de chance d'avoir une fille qu'un garçon\n",
    "q = 1-p\n",
    "\n",
    "data_df = pd.DataFrame()\n",
    "\n",
    "data_df['X'] = range(0,N+1)\n",
    "data_df['p**X'] = p**data_df['X']\n",
    "data_df['q**(N-X)'] = q**(N-data_df['X'])\n",
    "data_df['fac'] = sp.comb(N,data_df['X'])\n",
    "data_df['prob'] = data_df['fac'] * data_df['p**X'] * data_df['q**(N-X)']\n",
    "data_df['scipy.stats.binom'] = data_df['X'].apply(lambda x:binom.pmf(x,N,p))\n",
    "data_df['n_families'] = 2000*data_df['prob']  # Nombre de famille dans un cas de figure = prob du cas de figure * 2000 familles \n",
    "\n",
    "data_df"
   ],
   "outputs": [
    {
     "data": {
      "text/plain": [
       "   X    p**X  q**(N-X)  fac    prob  scipy.stats.binom  n_families\n",
       "0  0  1.0000    0.0625  1.0  0.0625             0.0625       125.0\n",
       "1  1  0.5000    0.1250  4.0  0.2500             0.2500       500.0\n",
       "2  2  0.2500    0.2500  6.0  0.3750             0.3750       750.0\n",
       "3  3  0.1250    0.5000  4.0  0.2500             0.2500       500.0\n",
       "4  4  0.0625    1.0000  1.0  0.0625             0.0625       125.0"
      ],
      "text/html": [
       "<div>\n",
       "<style scoped>\n",
       "    .dataframe tbody tr th:only-of-type {\n",
       "        vertical-align: middle;\n",
       "    }\n",
       "\n",
       "    .dataframe tbody tr th {\n",
       "        vertical-align: top;\n",
       "    }\n",
       "\n",
       "    .dataframe thead th {\n",
       "        text-align: right;\n",
       "    }\n",
       "</style>\n",
       "<table border=\"1\" class=\"dataframe\">\n",
       "  <thead>\n",
       "    <tr style=\"text-align: right;\">\n",
       "      <th></th>\n",
       "      <th>X</th>\n",
       "      <th>p**X</th>\n",
       "      <th>q**(N-X)</th>\n",
       "      <th>fac</th>\n",
       "      <th>prob</th>\n",
       "      <th>scipy.stats.binom</th>\n",
       "      <th>n_families</th>\n",
       "    </tr>\n",
       "  </thead>\n",
       "  <tbody>\n",
       "    <tr>\n",
       "      <th>0</th>\n",
       "      <td>0</td>\n",
       "      <td>1.0000</td>\n",
       "      <td>0.0625</td>\n",
       "      <td>1.0</td>\n",
       "      <td>0.0625</td>\n",
       "      <td>0.0625</td>\n",
       "      <td>125.0</td>\n",
       "    </tr>\n",
       "    <tr>\n",
       "      <th>1</th>\n",
       "      <td>1</td>\n",
       "      <td>0.5000</td>\n",
       "      <td>0.1250</td>\n",
       "      <td>4.0</td>\n",
       "      <td>0.2500</td>\n",
       "      <td>0.2500</td>\n",
       "      <td>500.0</td>\n",
       "    </tr>\n",
       "    <tr>\n",
       "      <th>2</th>\n",
       "      <td>2</td>\n",
       "      <td>0.2500</td>\n",
       "      <td>0.2500</td>\n",
       "      <td>6.0</td>\n",
       "      <td>0.3750</td>\n",
       "      <td>0.3750</td>\n",
       "      <td>750.0</td>\n",
       "    </tr>\n",
       "    <tr>\n",
       "      <th>3</th>\n",
       "      <td>3</td>\n",
       "      <td>0.1250</td>\n",
       "      <td>0.5000</td>\n",
       "      <td>4.0</td>\n",
       "      <td>0.2500</td>\n",
       "      <td>0.2500</td>\n",
       "      <td>500.0</td>\n",
       "    </tr>\n",
       "    <tr>\n",
       "      <th>4</th>\n",
       "      <td>4</td>\n",
       "      <td>0.0625</td>\n",
       "      <td>1.0000</td>\n",
       "      <td>1.0</td>\n",
       "      <td>0.0625</td>\n",
       "      <td>0.0625</td>\n",
       "      <td>125.0</td>\n",
       "    </tr>\n",
       "  </tbody>\n",
       "</table>\n",
       "</div>"
      ]
     },
     "execution_count": 12,
     "metadata": {},
     "output_type": "execute_result"
    }
   ],
   "execution_count": 12
  },
  {
   "cell_type": "code",
   "metadata": {
    "ExecuteTime": {
     "end_time": "2024-10-22T18:35:09.325662Z",
     "start_time": "2024-10-22T18:35:09.253809Z"
    }
   },
   "source": [
    "plt.plot(data_df['X'],data_df['n_families'],'o')\n",
    "plt.xlabel('Nombre de garçons sur 4 enfants'.format(N))\n",
    "plt.ylabel('Nombre de famille sur 2000')\n",
    "plt.xticks(ticks=range(N+1))      # des fractions d'enfant n'ont pas de sens => fixons la position des ticks aux 5 premiers entiers\n",
    "plt.show()"
   ],
   "outputs": [
    {
     "data": {
      "text/plain": [
       "<Figure size 640x480 with 1 Axes>"
      ],
      "image/png": "[encoded data removed]"
     },
     "metadata": {},
     "output_type": "display_data"
    }
   ],
   "execution_count": 13
  },
  {
   "cell_type": "markdown",
   "metadata": {},
   "source": [
    "De là (de ces valeurs-là), on obtient:  \n",
    "a) \"au moins 1 garçon\" équivalent à \"1, 2, 3 ou 4 garçons\" = 500 + 750 + 500 + 125 = 1875  \n",
    "b) exactement 2 garçons: 750  \n",
    "c) \"au plus deux garçons\" équivalent à \"0, 1 ou 2 garçons\" = 125 + 500 + 750 = 1375  \n",
    "d) \"1 ou 2 filles\" équivalent à \"3 garçons ou 2 garçons\" = 500 + 750 = 1250  \n",
    "e) \"aucune fille\" équivalent à \"4 garçons\" = 125"
   ]
  },
  {
   "cell_type": "markdown",
   "metadata": {},
   "source": [
    "## Exercice 4.bis avec les 'bonnes' proportions garçons/filles à la naissance"
   ]
  },
  {
   "cell_type": "code",
   "metadata": {
    "ExecuteTime": {
     "end_time": "2024-10-22T18:35:09.364354Z",
     "start_time": "2024-10-22T18:35:09.352759Z"
    }
   },
   "source": [
    "N = 4\n",
    "\n",
    "p = 105/(105+100) # 100 filles pour 105 garçons\n",
    "print('p:{}'.format(p))\n",
    "q = 1-p\n",
    "\n",
    "data_df = pd.DataFrame()\n",
    "\n",
    "data_df['X'] = range(0,N+1)\n",
    "data_df['p**X'] = p**data_df['X']\n",
    "data_df['q**(N-X)'] = q**(N-data_df['X'])\n",
    "data_df['fac'] = sp.comb(N,data_df['X'])\n",
    "data_df['prob'] = data_df['fac'] * data_df['p**X'] * data_df['q**(N-X)']\n",
    "data_df['scipy.stats.binom'] = data_df['X'].apply(lambda x:binom.pmf(x,N,p))\n",
    "data_df['n_families'] = 2000*data_df['prob']  # Nombre de famille dans un cas de figure = prob du cas de figure * 2000 familles \n",
    "\n",
    "data_df"
   ],
   "outputs": [
    {
     "name": "stdout",
     "output_type": "stream",
     "text": [
      "p:0.5121951219512195\n"
     ]
    },
    {
     "data": {
      "text/plain": [
       "   X      p**X  q**(N-X)  fac      prob  scipy.stats.binom  n_families\n",
       "0  0  1.000000  0.056622  1.0  0.056622           0.056622  113.243831\n",
       "1  1  0.512195  0.116075  4.0  0.237812           0.237812  475.624089\n",
       "2  2  0.262344  0.237954  6.0  0.374554           0.374554  749.107939\n",
       "3  3  0.134371  0.487805  4.0  0.262188           0.262188  524.375558\n",
       "4  4  0.068824  1.000000  1.0  0.068824           0.068824  137.648584"
      ],
      "text/html": [
       "<div>\n",
       "<style scoped>\n",
       "    .dataframe tbody tr th:only-of-type {\n",
       "        vertical-align: middle;\n",
       "    }\n",
       "\n",
       "    .dataframe tbody tr th {\n",
       "        vertical-align: top;\n",
       "    }\n",
       "\n",
       "    .dataframe thead th {\n",
       "        text-align: right;\n",
       "    }\n",
       "</style>\n",
       "<table border=\"1\" class=\"dataframe\">\n",
       "  <thead>\n",
       "    <tr style=\"text-align: right;\">\n",
       "      <th></th>\n",
       "      <th>X</th>\n",
       "      <th>p**X</th>\n",
       "      <th>q**(N-X)</th>\n",
       "      <th>fac</th>\n",
       "      <th>prob</th>\n",
       "      <th>scipy.stats.binom</th>\n",
       "      <th>n_families</th>\n",
       "    </tr>\n",
       "  </thead>\n",
       "  <tbody>\n",
       "    <tr>\n",
       "      <th>0</th>\n",
       "      <td>0</td>\n",
       "      <td>1.000000</td>\n",
       "      <td>0.056622</td>\n",
       "      <td>1.0</td>\n",
       "      <td>0.056622</td>\n",
       "      <td>0.056622</td>\n",
       "      <td>113.243831</td>\n",
       "    </tr>\n",
       "    <tr>\n",
       "      <th>1</th>\n",
       "      <td>1</td>\n",
       "      <td>0.512195</td>\n",
       "      <td>0.116075</td>\n",
       "      <td>4.0</td>\n",
       "      <td>0.237812</td>\n",
       "      <td>0.237812</td>\n",
       "      <td>475.624089</td>\n",
       "    </tr>\n",
       "    <tr>\n",
       "      <th>2</th>\n",
       "      <td>2</td>\n",
       "      <td>0.262344</td>\n",
       "      <td>0.237954</td>\n",
       "      <td>6.0</td>\n",
       "      <td>0.374554</td>\n",
       "      <td>0.374554</td>\n",
       "      <td>749.107939</td>\n",
       "    </tr>\n",
       "    <tr>\n",
       "      <th>3</th>\n",
       "      <td>3</td>\n",
       "      <td>0.134371</td>\n",
       "      <td>0.487805</td>\n",
       "      <td>4.0</td>\n",
       "      <td>0.262188</td>\n",
       "      <td>0.262188</td>\n",
       "      <td>524.375558</td>\n",
       "    </tr>\n",
       "    <tr>\n",
       "      <th>4</th>\n",
       "      <td>4</td>\n",
       "      <td>0.068824</td>\n",
       "      <td>1.000000</td>\n",
       "      <td>1.0</td>\n",
       "      <td>0.068824</td>\n",
       "      <td>0.068824</td>\n",
       "      <td>137.648584</td>\n",
       "    </tr>\n",
       "  </tbody>\n",
       "</table>\n",
       "</div>"
      ]
     },
     "execution_count": 14,
     "metadata": {},
     "output_type": "execute_result"
    }
   ],
   "execution_count": 14
  },
  {
   "cell_type": "code",
   "metadata": {
    "ExecuteTime": {
     "end_time": "2024-10-22T18:35:09.404945Z",
     "start_time": "2024-10-22T18:35:09.400898Z"
    }
   },
   "source": [
    "data_df['n_families'].sum()"
   ],
   "outputs": [
    {
     "data": {
      "text/plain": [
       "1999.9999999999998"
      ]
     },
     "execution_count": 15,
     "metadata": {},
     "output_type": "execute_result"
    }
   ],
   "execution_count": 15
  },
  {
   "cell_type": "code",
   "metadata": {
    "ExecuteTime": {
     "end_time": "2024-10-22T18:35:09.513493Z",
     "start_time": "2024-10-22T18:35:09.442794Z"
    }
   },
   "source": [
    "plt.plot(data_df['X'],data_df['n_families'],'o')\n",
    "plt.xticks(ticks=range(5))\n",
    "plt.xlabel('Nombre de garçons sur 4 enfants'.format(N))\n",
    "plt.ylabel('Nombre de famille sur 2000')\n",
    "plt.xticks(ticks=range(N+1)) \n",
    "plt.show()"
   ],
   "outputs": [
    {
     "data": {
      "text/plain": [
       "<Figure size 640x480 with 1 Axes>"
      ],
      "image/png": "[encoded data removed]"
     },
     "metadata": {},
     "output_type": "display_data"
    }
   ],
   "execution_count": 16
  },
  {
   "cell_type": "code",
   "metadata": {
    "ExecuteTime": {
     "end_time": "2024-10-22T18:35:09.524963Z",
     "start_time": "2024-10-22T18:35:09.520499Z"
    }
   },
   "source": [
    "data_df[(data_df['X']==2)|(data_df['X']==3)]['n_families'].sum()"
   ],
   "outputs": [
    {
     "data": {
      "text/plain": [
       "1273.4834970119553"
      ]
     },
     "execution_count": 17,
     "metadata": {},
     "output_type": "execute_result"
    }
   ],
   "execution_count": 17
  },
  {
   "cell_type": "markdown",
   "metadata": {},
   "source": [
    "L'asymétrie fille/garçon est bien visible!\n",
    "\n",
    "De là (de ces valeurs-là), on obtient:  \n",
    "a) \"au moins 1 garçon\" équivalent à \"1, 2, 3 ou 4 garçons\" = data_df[data_df['X']!=0]['n_families'].sum() = 1886.756 arrondi à 1887 familles  \n",
    "b) exactement 2 garçons: 749.10 arrondi à 749  \n",
    "c) \"au plus deux garçons\" équivalent à \"0, 1 ou 2 garçons\" = data_df[data_df['X']<=2]['n_families'].sum() = 1337.97 arrondi à 1338 familles  \n",
    "d) \"1 ou 2 filles\" équivalent à \"3 garçons ou 2 garçons\" = data_df[data_df['X']==2)|(data_df['X']==3)]['n_families'].sum() = 1273.48 arrondi à 1273 familles  \n",
    "e) \"aucune fille\" équivalent à \"4 garçons\" = 137.65 arrondi à 138 familles"
   ]
  },
  {
   "cell_type": "markdown",
   "metadata": {},
   "source": [
    "## Exercice 5"
   ]
  },
  {
   "cell_type": "code",
   "metadata": {
    "ExecuteTime": {
     "end_time": "2024-10-22T18:35:09.565093Z",
     "start_time": "2024-10-22T18:35:09.554225Z"
    }
   },
   "source": [
    "N = 4       # Echantillon de 4 pièces\n",
    "p = 0.05    # Probabilité d'avoir un défaut\n",
    "q = 1-p\n",
    "\n",
    "data_df = pd.DataFrame()\n",
    "\n",
    "data_df['X'] = range(0,N+1)\n",
    "data_df['p**X'] = p**data_df['X']\n",
    "data_df['q**(N-X)'] = q**(N-data_df['X'])\n",
    "data_df['fac'] = sp.comb(N,data_df['X'])\n",
    "data_df['prob'] = data_df['fac'] * data_df['p**X'] * data_df['q**(N-X)']\n",
    "data_df['scipy.stats.binom'] = data_df['X'].apply(lambda x:binom.pmf(x,N,p))\n",
    "\n",
    "data_df"
   ],
   "outputs": [
    {
     "data": {
      "text/plain": [
       "   X      p**X  q**(N-X)  fac      prob  scipy.stats.binom\n",
       "0  0  1.000000  0.814506  1.0  0.814506           0.814506\n",
       "1  1  0.050000  0.857375  4.0  0.171475           0.171475\n",
       "2  2  0.002500  0.902500  6.0  0.013538           0.013538\n",
       "3  3  0.000125  0.950000  4.0  0.000475           0.000475\n",
       "4  4  0.000006  1.000000  1.0  0.000006           0.000006"
      ],
      "text/html": [
       "<div>\n",
       "<style scoped>\n",
       "    .dataframe tbody tr th:only-of-type {\n",
       "        vertical-align: middle;\n",
       "    }\n",
       "\n",
       "    .dataframe tbody tr th {\n",
       "        vertical-align: top;\n",
       "    }\n",
       "\n",
       "    .dataframe thead th {\n",
       "        text-align: right;\n",
       "    }\n",
       "</style>\n",
       "<table border=\"1\" class=\"dataframe\">\n",
       "  <thead>\n",
       "    <tr style=\"text-align: right;\">\n",
       "      <th></th>\n",
       "      <th>X</th>\n",
       "      <th>p**X</th>\n",
       "      <th>q**(N-X)</th>\n",
       "      <th>fac</th>\n",
       "      <th>prob</th>\n",
       "      <th>scipy.stats.binom</th>\n",
       "    </tr>\n",
       "  </thead>\n",
       "  <tbody>\n",
       "    <tr>\n",
       "      <th>0</th>\n",
       "      <td>0</td>\n",
       "      <td>1.000000</td>\n",
       "      <td>0.814506</td>\n",
       "      <td>1.0</td>\n",
       "      <td>0.814506</td>\n",
       "      <td>0.814506</td>\n",
       "    </tr>\n",
       "    <tr>\n",
       "      <th>1</th>\n",
       "      <td>1</td>\n",
       "      <td>0.050000</td>\n",
       "      <td>0.857375</td>\n",
       "      <td>4.0</td>\n",
       "      <td>0.171475</td>\n",
       "      <td>0.171475</td>\n",
       "    </tr>\n",
       "    <tr>\n",
       "      <th>2</th>\n",
       "      <td>2</td>\n",
       "      <td>0.002500</td>\n",
       "      <td>0.902500</td>\n",
       "      <td>6.0</td>\n",
       "      <td>0.013538</td>\n",
       "      <td>0.013538</td>\n",
       "    </tr>\n",
       "    <tr>\n",
       "      <th>3</th>\n",
       "      <td>3</td>\n",
       "      <td>0.000125</td>\n",
       "      <td>0.950000</td>\n",
       "      <td>4.0</td>\n",
       "      <td>0.000475</td>\n",
       "      <td>0.000475</td>\n",
       "    </tr>\n",
       "    <tr>\n",
       "      <th>4</th>\n",
       "      <td>4</td>\n",
       "      <td>0.000006</td>\n",
       "      <td>1.000000</td>\n",
       "      <td>1.0</td>\n",
       "      <td>0.000006</td>\n",
       "      <td>0.000006</td>\n",
       "    </tr>\n",
       "  </tbody>\n",
       "</table>\n",
       "</div>"
      ]
     },
     "execution_count": 18,
     "metadata": {},
     "output_type": "execute_result"
    }
   ],
   "execution_count": 18
  },
  {
   "cell_type": "raw",
   "metadata": {},
   "source": [
    "- a. Exactement un seul défaut (parmi les quatre): 0.171475\n",
    "- b. Zéro défaut (parmi les quatre): 0.814506\n",
    "- c. 2 défauts au plus: 0.814506+0.171475+0.013538 = 0.999519"
   ]
  },
  {
   "cell_type": "code",
   "metadata": {
    "ExecuteTime": {
     "end_time": "2024-10-22T18:35:09.656634Z",
     "start_time": "2024-10-22T18:35:09.652603Z"
    }
   },
   "source": [
    "#\n",
    "# Réponse à c) en une ligne python:\n",
    "#\n",
    "data_df[data_df['X']<=2]['prob'].sum()"
   ],
   "outputs": [
    {
     "data": {
      "text/plain": [
       "0.9995187499999998"
      ]
     },
     "execution_count": 19,
     "metadata": {},
     "output_type": "execute_result"
    }
   ],
   "execution_count": 19
  },
  {
   "cell_type": "code",
   "metadata": {
    "ExecuteTime": {
     "end_time": "2024-10-22T18:35:09.767337Z",
     "start_time": "2024-10-22T18:35:09.688132Z"
    }
   },
   "source": [
    "#\n",
    "# Représentation graphique des probabilités de tous les échantillons possibles\n",
    "# de 4 tirages, en fonction du nombre de défauts constaté (de 0 à 4 défauts)\n",
    "#\n",
    "plt.scatter(x=data_df['X'],y=data_df['prob'])\n",
    "plt.xlabel('#defaults on a sample of {}'.format(N))\n",
    "plt.ylabel('probability')\n",
    "plt.xticks(data_df['X'])\n",
    "plt.show()"
   ],
   "outputs": [
    {
     "data": {
      "text/plain": [
       "<Figure size 640x480 with 1 Axes>"
      ],
      "image/png": "[encoded data removed]"
     },
     "metadata": {},
     "output_type": "display_data"
    }
   ],
   "execution_count": 20
  },
  {
   "cell_type": "code",
   "metadata": {
    "ExecuteTime": {
     "end_time": "2024-10-22T18:35:10.123778Z",
     "start_time": "2024-10-22T18:35:09.772346Z"
    }
   },
   "source": [
    "#\n",
    "# Représentation graphique des probabilités de tous les échantillons possibles\n",
    "# de 4 tirages, en fonction du nombre de défauts constaté (de 0 à 4 défauts)\n",
    "#\n",
    "# Une échelle logarithmique en Y s'impose car sinon, il est très difficile de \n",
    "# faire la différence entre proba(3 défauts) et proba(4 défauts)\n",
    "#\n",
    "plt.scatter(x=data_df['X'],y=data_df['prob'])\n",
    "plt.xlabel('#defaults on a sample of {}'.format(N))\n",
    "plt.ylabel('probability')\n",
    "plt.xticks(data_df['X'])\n",
    "plt.yscale('log')\n",
    "plt.show()"
   ],
   "outputs": [
    {
     "data": {
      "text/plain": [
       "<Figure size 640x480 with 1 Axes>"
      ],
      "image/png": "[encoded data removed]"
     },
     "metadata": {},
     "output_type": "display_data"
    }
   ],
   "execution_count": 21
  },
  {
   "cell_type": "code",
   "metadata": {
    "ExecuteTime": {
     "end_time": "2024-10-22T18:35:10.133281Z",
     "start_time": "2024-10-22T18:35:10.131285Z"
    }
   },
   "source": [],
   "outputs": [],
   "execution_count": null
  }
 ],
 "metadata": {
  "kernelspec": {
   "display_name": "Python 3 (ipykernel)",
   "language": "python",
   "name": "python3"
  },
  "language_info": {
   "codemirror_mode": {
    "name": "ipython",
    "version": 3
   },
   "file_extension": ".py",
   "mimetype": "text/x-python",
   "name": "python",
   "nbconvert_exporter": "python",
   "pygments_lexer": "ipython3",
   "version": "3.11.7"
  }
 },
 "nbformat": 4,
 "nbformat_minor": 4
}
