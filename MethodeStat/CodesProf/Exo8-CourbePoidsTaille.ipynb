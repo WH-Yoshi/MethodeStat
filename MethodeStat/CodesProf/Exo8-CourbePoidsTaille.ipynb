{
 "cells": [
  {
   "cell_type": "markdown",
   "metadata": {},
   "source": [
    "## Exercice 8\n",
    "\n",
    "- Fichier de données: CourbePoidsTaille.csv\n",
    "- Descriptif: Poids à 1 kg près et taille à 1 cm près d’un échantillon de 12 étudiants de sexe masculin tirés au hasard parmi les étudiants de 1ière année d’une université\n",
    "\n",
    "    - Représenter le nuage de points correspondant\n",
    "    - Construire les droites des moindres carrés qui ajuste ces données, en utilisant respectivement le poids et la taille comme variable indépendante (variable explicative)\n",
    "    - Donner leurs équations\n",
    "    - Estimer la taille d’un étudiant dont le poids serait de 63 kilogrammes\n",
    "    - Estimer le poids d’un étudiant dont la taille serait de 178 centimètres"
   ]
  },
  {
   "cell_type": "code",
   "metadata": {
    "ExecuteTime": {
     "end_time": "2024-10-22T19:38:38.181879Z",
     "start_time": "2024-10-22T19:38:38.179025Z"
    }
   },
   "source": [
    "import pandas as pd\n",
    "import matplotlib.pyplot as plt\n",
    "import math\n",
    "import numpy as np"
   ],
   "outputs": [],
   "execution_count": 11
  },
  {
   "cell_type": "code",
   "metadata": {
    "ExecuteTime": {
     "end_time": "2024-10-22T19:38:38.193499Z",
     "start_time": "2024-10-22T19:38:38.188891Z"
    }
   },
   "source": "input_df = pd.read_csv(\"../ressources/CourbePoidsTaille.csv\",sep=\";\")",
   "outputs": [],
   "execution_count": 12
  },
  {
   "cell_type": "code",
   "metadata": {
    "ExecuteTime": {
     "end_time": "2024-10-22T19:38:38.206817Z",
     "start_time": "2024-10-22T19:38:38.201354Z"
    }
   },
   "source": [
    "input_df"
   ],
   "outputs": [
    {
     "data": {
      "text/plain": [
       "    Poids  Taille\n",
       "0      70     155\n",
       "1      63     150\n",
       "2      72     180\n",
       "3      60     135\n",
       "4      66     156\n",
       "5      70     168\n",
       "6      74     178\n",
       "7      65     160\n",
       "8      62     132\n",
       "9      67     145\n",
       "10     65     139\n",
       "11     68     152"
      ],
      "text/html": [
       "<div>\n",
       "<style scoped>\n",
       "    .dataframe tbody tr th:only-of-type {\n",
       "        vertical-align: middle;\n",
       "    }\n",
       "\n",
       "    .dataframe tbody tr th {\n",
       "        vertical-align: top;\n",
       "    }\n",
       "\n",
       "    .dataframe thead th {\n",
       "        text-align: right;\n",
       "    }\n",
       "</style>\n",
       "<table border=\"1\" class=\"dataframe\">\n",
       "  <thead>\n",
       "    <tr style=\"text-align: right;\">\n",
       "      <th></th>\n",
       "      <th>Poids</th>\n",
       "      <th>Taille</th>\n",
       "    </tr>\n",
       "  </thead>\n",
       "  <tbody>\n",
       "    <tr>\n",
       "      <th>0</th>\n",
       "      <td>70</td>\n",
       "      <td>155</td>\n",
       "    </tr>\n",
       "    <tr>\n",
       "      <th>1</th>\n",
       "      <td>63</td>\n",
       "      <td>150</td>\n",
       "    </tr>\n",
       "    <tr>\n",
       "      <th>2</th>\n",
       "      <td>72</td>\n",
       "      <td>180</td>\n",
       "    </tr>\n",
       "    <tr>\n",
       "      <th>3</th>\n",
       "      <td>60</td>\n",
       "      <td>135</td>\n",
       "    </tr>\n",
       "    <tr>\n",
       "      <th>4</th>\n",
       "      <td>66</td>\n",
       "      <td>156</td>\n",
       "    </tr>\n",
       "    <tr>\n",
       "      <th>5</th>\n",
       "      <td>70</td>\n",
       "      <td>168</td>\n",
       "    </tr>\n",
       "    <tr>\n",
       "      <th>6</th>\n",
       "      <td>74</td>\n",
       "      <td>178</td>\n",
       "    </tr>\n",
       "    <tr>\n",
       "      <th>7</th>\n",
       "      <td>65</td>\n",
       "      <td>160</td>\n",
       "    </tr>\n",
       "    <tr>\n",
       "      <th>8</th>\n",
       "      <td>62</td>\n",
       "      <td>132</td>\n",
       "    </tr>\n",
       "    <tr>\n",
       "      <th>9</th>\n",
       "      <td>67</td>\n",
       "      <td>145</td>\n",
       "    </tr>\n",
       "    <tr>\n",
       "      <th>10</th>\n",
       "      <td>65</td>\n",
       "      <td>139</td>\n",
       "    </tr>\n",
       "    <tr>\n",
       "      <th>11</th>\n",
       "      <td>68</td>\n",
       "      <td>152</td>\n",
       "    </tr>\n",
       "  </tbody>\n",
       "</table>\n",
       "</div>"
      ]
     },
     "execution_count": 13,
     "metadata": {},
     "output_type": "execute_result"
    }
   ],
   "execution_count": 13
  },
  {
   "cell_type": "code",
   "metadata": {
    "ExecuteTime": {
     "end_time": "2024-10-22T19:38:38.335968Z",
     "start_time": "2024-10-22T19:38:38.234051Z"
    }
   },
   "source": [
    "plt.plot(input_df['Taille'],input_df['Poids'],'o')\n",
    "plt.xlabel('Taille (centimetre)')\n",
    "plt.ylabel('Poids (kilogramme)')\n",
    "plt.show()"
   ],
   "outputs": [
    {
     "data": {
      "text/plain": [
       "<Figure size 640x480 with 1 Axes>"
      ],
      "image/png": "[encoded data removed]"
     },
     "metadata": {},
     "output_type": "display_data"
    }
   ],
   "execution_count": 14
  },
  {
   "cell_type": "code",
   "metadata": {
    "ExecuteTime": {
     "end_time": "2024-10-22T19:38:38.362489Z",
     "start_time": "2024-10-22T19:38:38.359404Z"
    }
   },
   "source": [
    "input_df = input_df.rename(columns={'Taille (centimetre)':'Taille','Poids (kilogramme)':'Poids'})"
   ],
   "outputs": [],
   "execution_count": 15
  },
  {
   "cell_type": "code",
   "metadata": {
    "ExecuteTime": {
     "end_time": "2024-10-22T19:38:38.414563Z",
     "start_time": "2024-10-22T19:38:38.409342Z"
    }
   },
   "source": [
    "input_df"
   ],
   "outputs": [
    {
     "data": {
      "text/plain": [
       "    Poids  Taille\n",
       "0      70     155\n",
       "1      63     150\n",
       "2      72     180\n",
       "3      60     135\n",
       "4      66     156\n",
       "5      70     168\n",
       "6      74     178\n",
       "7      65     160\n",
       "8      62     132\n",
       "9      67     145\n",
       "10     65     139\n",
       "11     68     152"
      ],
      "text/html": [
       "<div>\n",
       "<style scoped>\n",
       "    .dataframe tbody tr th:only-of-type {\n",
       "        vertical-align: middle;\n",
       "    }\n",
       "\n",
       "    .dataframe tbody tr th {\n",
       "        vertical-align: top;\n",
       "    }\n",
       "\n",
       "    .dataframe thead th {\n",
       "        text-align: right;\n",
       "    }\n",
       "</style>\n",
       "<table border=\"1\" class=\"dataframe\">\n",
       "  <thead>\n",
       "    <tr style=\"text-align: right;\">\n",
       "      <th></th>\n",
       "      <th>Poids</th>\n",
       "      <th>Taille</th>\n",
       "    </tr>\n",
       "  </thead>\n",
       "  <tbody>\n",
       "    <tr>\n",
       "      <th>0</th>\n",
       "      <td>70</td>\n",
       "      <td>155</td>\n",
       "    </tr>\n",
       "    <tr>\n",
       "      <th>1</th>\n",
       "      <td>63</td>\n",
       "      <td>150</td>\n",
       "    </tr>\n",
       "    <tr>\n",
       "      <th>2</th>\n",
       "      <td>72</td>\n",
       "      <td>180</td>\n",
       "    </tr>\n",
       "    <tr>\n",
       "      <th>3</th>\n",
       "      <td>60</td>\n",
       "      <td>135</td>\n",
       "    </tr>\n",
       "    <tr>\n",
       "      <th>4</th>\n",
       "      <td>66</td>\n",
       "      <td>156</td>\n",
       "    </tr>\n",
       "    <tr>\n",
       "      <th>5</th>\n",
       "      <td>70</td>\n",
       "      <td>168</td>\n",
       "    </tr>\n",
       "    <tr>\n",
       "      <th>6</th>\n",
       "      <td>74</td>\n",
       "      <td>178</td>\n",
       "    </tr>\n",
       "    <tr>\n",
       "      <th>7</th>\n",
       "      <td>65</td>\n",
       "      <td>160</td>\n",
       "    </tr>\n",
       "    <tr>\n",
       "      <th>8</th>\n",
       "      <td>62</td>\n",
       "      <td>132</td>\n",
       "    </tr>\n",
       "    <tr>\n",
       "      <th>9</th>\n",
       "      <td>67</td>\n",
       "      <td>145</td>\n",
       "    </tr>\n",
       "    <tr>\n",
       "      <th>10</th>\n",
       "      <td>65</td>\n",
       "      <td>139</td>\n",
       "    </tr>\n",
       "    <tr>\n",
       "      <th>11</th>\n",
       "      <td>68</td>\n",
       "      <td>152</td>\n",
       "    </tr>\n",
       "  </tbody>\n",
       "</table>\n",
       "</div>"
      ]
     },
     "execution_count": 16,
     "metadata": {},
     "output_type": "execute_result"
    }
   ],
   "execution_count": 16
  },
  {
   "cell_type": "code",
   "metadata": {
    "ExecuteTime": {
     "end_time": "2024-10-22T19:38:38.489157Z",
     "start_time": "2024-10-22T19:38:38.459267Z"
    }
   },
   "source": [
    "input_df.cov()"
   ],
   "outputs": [
    {
     "data": {
      "text/plain": [
       "            Poids      Taille\n",
       "Poids   17.424242   56.030303\n",
       "Taille  56.030303  241.787879"
      ],
      "text/html": [
       "<div>\n",
       "<style scoped>\n",
       "    .dataframe tbody tr th:only-of-type {\n",
       "        vertical-align: middle;\n",
       "    }\n",
       "\n",
       "    .dataframe tbody tr th {\n",
       "        vertical-align: top;\n",
       "    }\n",
       "\n",
       "    .dataframe thead th {\n",
       "        text-align: right;\n",
       "    }\n",
       "</style>\n",
       "<table border=\"1\" class=\"dataframe\">\n",
       "  <thead>\n",
       "    <tr style=\"text-align: right;\">\n",
       "      <th></th>\n",
       "      <th>Poids</th>\n",
       "      <th>Taille</th>\n",
       "    </tr>\n",
       "  </thead>\n",
       "  <tbody>\n",
       "    <tr>\n",
       "      <th>Poids</th>\n",
       "      <td>17.424242</td>\n",
       "      <td>56.030303</td>\n",
       "    </tr>\n",
       "    <tr>\n",
       "      <th>Taille</th>\n",
       "      <td>56.030303</td>\n",
       "      <td>241.787879</td>\n",
       "    </tr>\n",
       "  </tbody>\n",
       "</table>\n",
       "</div>"
      ]
     },
     "execution_count": 17,
     "metadata": {},
     "output_type": "execute_result"
    }
   ],
   "execution_count": 17
  },
  {
   "cell_type": "code",
   "metadata": {
    "ExecuteTime": {
     "end_time": "2024-10-22T19:38:38.618283Z",
     "start_time": "2024-10-22T19:38:38.614439Z"
    }
   },
   "source": [
    "a = input_df.cov()['Poids']['Taille']/input_df.cov()['Taille']['Taille']"
   ],
   "outputs": [],
   "execution_count": 18
  },
  {
   "cell_type": "code",
   "metadata": {
    "ExecuteTime": {
     "end_time": "2024-10-22T19:38:38.677029Z",
     "start_time": "2024-10-22T19:38:38.673291Z"
    }
   },
   "source": [
    "b = input_df['Poids'].mean() - a * input_df['Taille'].mean()"
   ],
   "outputs": [],
   "execution_count": 19
  },
  {
   "cell_type": "code",
   "metadata": {
    "ExecuteTime": {
     "end_time": "2024-10-22T19:38:38.710315Z",
     "start_time": "2024-10-22T19:38:38.706496Z"
    }
   },
   "source": [
    "a, b"
   ],
   "outputs": [
    {
     "data": {
      "text/plain": [
       "(0.23173329991226965, 31.10778293019176)"
      ]
     },
     "execution_count": 20,
     "metadata": {},
     "output_type": "execute_result"
    }
   ],
   "execution_count": 20
  },
  {
   "cell_type": "code",
   "metadata": {
    "ExecuteTime": {
     "end_time": "2024-10-22T19:38:38.766595Z",
     "start_time": "2024-10-22T19:38:38.763291Z"
    }
   },
   "source": [
    "input_df['Modele Poids vs Taille'] = a * input_df['Taille'] + b"
   ],
   "outputs": [],
   "execution_count": 21
  },
  {
   "cell_type": "code",
   "metadata": {
    "ExecuteTime": {
     "end_time": "2024-10-22T19:38:38.835084Z",
     "start_time": "2024-10-22T19:38:38.829602Z"
    }
   },
   "source": [
    "input_df"
   ],
   "outputs": [
    {
     "data": {
      "text/plain": [
       "    Poids  Taille  Modele Poids vs Taille\n",
       "0      70     155               67.026444\n",
       "1      63     150               65.867778\n",
       "2      72     180               72.819777\n",
       "3      60     135               62.391778\n",
       "4      66     156               67.258178\n",
       "5      70     168               70.038977\n",
       "6      74     178               72.356310\n",
       "7      65     160               68.185111\n",
       "8      62     132               61.696579\n",
       "9      67     145               64.709111\n",
       "10     65     139               63.318712\n",
       "11     68     152               66.331245"
      ],
      "text/html": [
       "<div>\n",
       "<style scoped>\n",
       "    .dataframe tbody tr th:only-of-type {\n",
       "        vertical-align: middle;\n",
       "    }\n",
       "\n",
       "    .dataframe tbody tr th {\n",
       "        vertical-align: top;\n",
       "    }\n",
       "\n",
       "    .dataframe thead th {\n",
       "        text-align: right;\n",
       "    }\n",
       "</style>\n",
       "<table border=\"1\" class=\"dataframe\">\n",
       "  <thead>\n",
       "    <tr style=\"text-align: right;\">\n",
       "      <th></th>\n",
       "      <th>Poids</th>\n",
       "      <th>Taille</th>\n",
       "      <th>Modele Poids vs Taille</th>\n",
       "    </tr>\n",
       "  </thead>\n",
       "  <tbody>\n",
       "    <tr>\n",
       "      <th>0</th>\n",
       "      <td>70</td>\n",
       "      <td>155</td>\n",
       "      <td>67.026444</td>\n",
       "    </tr>\n",
       "    <tr>\n",
       "      <th>1</th>\n",
       "      <td>63</td>\n",
       "      <td>150</td>\n",
       "      <td>65.867778</td>\n",
       "    </tr>\n",
       "    <tr>\n",
       "      <th>2</th>\n",
       "      <td>72</td>\n",
       "      <td>180</td>\n",
       "      <td>72.819777</td>\n",
       "    </tr>\n",
       "    <tr>\n",
       "      <th>3</th>\n",
       "      <td>60</td>\n",
       "      <td>135</td>\n",
       "      <td>62.391778</td>\n",
       "    </tr>\n",
       "    <tr>\n",
       "      <th>4</th>\n",
       "      <td>66</td>\n",
       "      <td>156</td>\n",
       "      <td>67.258178</td>\n",
       "    </tr>\n",
       "    <tr>\n",
       "      <th>5</th>\n",
       "      <td>70</td>\n",
       "      <td>168</td>\n",
       "      <td>70.038977</td>\n",
       "    </tr>\n",
       "    <tr>\n",
       "      <th>6</th>\n",
       "      <td>74</td>\n",
       "      <td>178</td>\n",
       "      <td>72.356310</td>\n",
       "    </tr>\n",
       "    <tr>\n",
       "      <th>7</th>\n",
       "      <td>65</td>\n",
       "      <td>160</td>\n",
       "      <td>68.185111</td>\n",
       "    </tr>\n",
       "    <tr>\n",
       "      <th>8</th>\n",
       "      <td>62</td>\n",
       "      <td>132</td>\n",
       "      <td>61.696579</td>\n",
       "    </tr>\n",
       "    <tr>\n",
       "      <th>9</th>\n",
       "      <td>67</td>\n",
       "      <td>145</td>\n",
       "      <td>64.709111</td>\n",
       "    </tr>\n",
       "    <tr>\n",
       "      <th>10</th>\n",
       "      <td>65</td>\n",
       "      <td>139</td>\n",
       "      <td>63.318712</td>\n",
       "    </tr>\n",
       "    <tr>\n",
       "      <th>11</th>\n",
       "      <td>68</td>\n",
       "      <td>152</td>\n",
       "      <td>66.331245</td>\n",
       "    </tr>\n",
       "  </tbody>\n",
       "</table>\n",
       "</div>"
      ]
     },
     "execution_count": 22,
     "metadata": {},
     "output_type": "execute_result"
    }
   ],
   "execution_count": 22
  },
  {
   "cell_type": "code",
   "metadata": {
    "scrolled": true,
    "ExecuteTime": {
     "end_time": "2024-10-22T19:38:38.974120Z",
     "start_time": "2024-10-22T19:38:38.891149Z"
    }
   },
   "source": [
    "plt.plot(input_df['Taille'],input_df['Poids'],'o')\n",
    "plt.plot(input_df['Taille'],input_df['Modele Poids vs Taille'],'-')\n",
    "plt.xlabel('Taille (centimetre)')\n",
    "plt.ylabel('Poids (kilogramme)')\n",
    "plt.show()"
   ],
   "outputs": [
    {
     "data": {
      "text/plain": [
       "<Figure size 640x480 with 1 Axes>"
      ],
      "image/png": "[encoded data removed]"
     },
     "metadata": {},
     "output_type": "display_data"
    }
   ],
   "execution_count": 23
  },
  {
   "cell_type": "markdown",
   "metadata": {},
   "source": [
    "Ceci correspond donc à l'explication du poids par la taille."
   ]
  },
  {
   "cell_type": "markdown",
   "metadata": {},
   "source": [
    "Poids estimé d'un étudiant de 1m78:"
   ]
  },
  {
   "cell_type": "code",
   "metadata": {
    "ExecuteTime": {
     "end_time": "2024-10-22T19:38:39.003046Z",
     "start_time": "2024-10-22T19:38:38.999147Z"
    }
   },
   "source": [
    "a*178+b"
   ],
   "outputs": [
    {
     "data": {
      "text/plain": [
       "72.35631031457575"
      ]
     },
     "execution_count": 24,
     "metadata": {},
     "output_type": "execute_result"
    }
   ],
   "execution_count": 24
  },
  {
   "cell_type": "markdown",
   "metadata": {},
   "source": [
    "Même exercice mais dans l'autre sens, soit estimer la taille à partir du poids..."
   ]
  },
  {
   "cell_type": "code",
   "metadata": {
    "ExecuteTime": {
     "end_time": "2024-10-22T19:38:39.017936Z",
     "start_time": "2024-10-22T19:38:39.014053Z"
    }
   },
   "source": [
    "aa = input_df.cov()['Poids']['Taille']/input_df.cov()['Poids']['Poids']"
   ],
   "outputs": [],
   "execution_count": 25
  },
  {
   "cell_type": "code",
   "metadata": {
    "ExecuteTime": {
     "end_time": "2024-10-22T19:38:39.060415Z",
     "start_time": "2024-10-22T19:38:39.057Z"
    }
   },
   "source": [
    "bb = input_df['Taille'].mean() - aa * input_df['Poids'].mean()"
   ],
   "outputs": [],
   "execution_count": 26
  },
  {
   "cell_type": "code",
   "metadata": {
    "ExecuteTime": {
     "end_time": "2024-10-22T19:38:39.070105Z",
     "start_time": "2024-10-22T19:38:39.066420Z"
    }
   },
   "source": [
    "aa,bb"
   ],
   "outputs": [
    {
     "data": {
      "text/plain": [
       "(3.2156521739130435, -60.74608695652174)"
      ]
     },
     "execution_count": 27,
     "metadata": {},
     "output_type": "execute_result"
    }
   ],
   "execution_count": 27
  },
  {
   "cell_type": "code",
   "metadata": {
    "ExecuteTime": {
     "end_time": "2024-10-22T19:38:39.088613Z",
     "start_time": "2024-10-22T19:38:39.084692Z"
    }
   },
   "source": [
    "input_df['Modele Taille vs Poids'] = aa * input_df['Poids'] + bb"
   ],
   "outputs": [],
   "execution_count": 28
  },
  {
   "cell_type": "code",
   "metadata": {
    "ExecuteTime": {
     "end_time": "2024-10-22T19:38:39.125725Z",
     "start_time": "2024-10-22T19:38:39.118607Z"
    }
   },
   "source": [
    "input_df"
   ],
   "outputs": [
    {
     "data": {
      "text/plain": [
       "    Poids  Taille  Modele Poids vs Taille  Modele Taille vs Poids\n",
       "0      70     155               67.026444              164.349565\n",
       "1      63     150               65.867778              141.840000\n",
       "2      72     180               72.819777              170.780870\n",
       "3      60     135               62.391778              132.193043\n",
       "4      66     156               67.258178              151.486957\n",
       "5      70     168               70.038977              164.349565\n",
       "6      74     178               72.356310              177.212174\n",
       "7      65     160               68.185111              148.271304\n",
       "8      62     132               61.696579              138.624348\n",
       "9      67     145               64.709111              154.702609\n",
       "10     65     139               63.318712              148.271304\n",
       "11     68     152               66.331245              157.918261"
      ],
      "text/html": [
       "<div>\n",
       "<style scoped>\n",
       "    .dataframe tbody tr th:only-of-type {\n",
       "        vertical-align: middle;\n",
       "    }\n",
       "\n",
       "    .dataframe tbody tr th {\n",
       "        vertical-align: top;\n",
       "    }\n",
       "\n",
       "    .dataframe thead th {\n",
       "        text-align: right;\n",
       "    }\n",
       "</style>\n",
       "<table border=\"1\" class=\"dataframe\">\n",
       "  <thead>\n",
       "    <tr style=\"text-align: right;\">\n",
       "      <th></th>\n",
       "      <th>Poids</th>\n",
       "      <th>Taille</th>\n",
       "      <th>Modele Poids vs Taille</th>\n",
       "      <th>Modele Taille vs Poids</th>\n",
       "    </tr>\n",
       "  </thead>\n",
       "  <tbody>\n",
       "    <tr>\n",
       "      <th>0</th>\n",
       "      <td>70</td>\n",
       "      <td>155</td>\n",
       "      <td>67.026444</td>\n",
       "      <td>164.349565</td>\n",
       "    </tr>\n",
       "    <tr>\n",
       "      <th>1</th>\n",
       "      <td>63</td>\n",
       "      <td>150</td>\n",
       "      <td>65.867778</td>\n",
       "      <td>141.840000</td>\n",
       "    </tr>\n",
       "    <tr>\n",
       "      <th>2</th>\n",
       "      <td>72</td>\n",
       "      <td>180</td>\n",
       "      <td>72.819777</td>\n",
       "      <td>170.780870</td>\n",
       "    </tr>\n",
       "    <tr>\n",
       "      <th>3</th>\n",
       "      <td>60</td>\n",
       "      <td>135</td>\n",
       "      <td>62.391778</td>\n",
       "      <td>132.193043</td>\n",
       "    </tr>\n",
       "    <tr>\n",
       "      <th>4</th>\n",
       "      <td>66</td>\n",
       "      <td>156</td>\n",
       "      <td>67.258178</td>\n",
       "      <td>151.486957</td>\n",
       "    </tr>\n",
       "    <tr>\n",
       "      <th>5</th>\n",
       "      <td>70</td>\n",
       "      <td>168</td>\n",
       "      <td>70.038977</td>\n",
       "      <td>164.349565</td>\n",
       "    </tr>\n",
       "    <tr>\n",
       "      <th>6</th>\n",
       "      <td>74</td>\n",
       "      <td>178</td>\n",
       "      <td>72.356310</td>\n",
       "      <td>177.212174</td>\n",
       "    </tr>\n",
       "    <tr>\n",
       "      <th>7</th>\n",
       "      <td>65</td>\n",
       "      <td>160</td>\n",
       "      <td>68.185111</td>\n",
       "      <td>148.271304</td>\n",
       "    </tr>\n",
       "    <tr>\n",
       "      <th>8</th>\n",
       "      <td>62</td>\n",
       "      <td>132</td>\n",
       "      <td>61.696579</td>\n",
       "      <td>138.624348</td>\n",
       "    </tr>\n",
       "    <tr>\n",
       "      <th>9</th>\n",
       "      <td>67</td>\n",
       "      <td>145</td>\n",
       "      <td>64.709111</td>\n",
       "      <td>154.702609</td>\n",
       "    </tr>\n",
       "    <tr>\n",
       "      <th>10</th>\n",
       "      <td>65</td>\n",
       "      <td>139</td>\n",
       "      <td>63.318712</td>\n",
       "      <td>148.271304</td>\n",
       "    </tr>\n",
       "    <tr>\n",
       "      <th>11</th>\n",
       "      <td>68</td>\n",
       "      <td>152</td>\n",
       "      <td>66.331245</td>\n",
       "      <td>157.918261</td>\n",
       "    </tr>\n",
       "  </tbody>\n",
       "</table>\n",
       "</div>"
      ]
     },
     "execution_count": 29,
     "metadata": {},
     "output_type": "execute_result"
    }
   ],
   "execution_count": 29
  },
  {
   "cell_type": "code",
   "metadata": {
    "ExecuteTime": {
     "end_time": "2024-10-22T19:38:39.255220Z",
     "start_time": "2024-10-22T19:38:39.167268Z"
    }
   },
   "source": [
    "plt.plot(input_df['Poids'],input_df['Taille'],'o',alpha=0.8)\n",
    "plt.plot(input_df['Poids'],input_df['Modele Taille vs Poids'],'-o',alpha=0.8,color='red')\n",
    "plt.xlabel('Poids (kg)')\n",
    "plt.ylabel('Taille (cm)')\n",
    "plt.show()"
   ],
   "outputs": [
    {
     "data": {
      "text/plain": [
       "<Figure size 640x480 with 1 Axes>"
      ],
      "image/png": "[encoded data removed]"
     },
     "metadata": {},
     "output_type": "display_data"
    }
   ],
   "execution_count": 30
  },
  {
   "cell_type": "markdown",
   "metadata": {},
   "source": [
    "Taille estimée d'une personne pesant 63 kg:"
   ]
  },
  {
   "cell_type": "code",
   "metadata": {
    "ExecuteTime": {
     "end_time": "2024-10-22T19:38:39.283602Z",
     "start_time": "2024-10-22T19:38:39.279496Z"
    }
   },
   "source": [
    "aa*63+bb"
   ],
   "outputs": [
    {
     "data": {
      "text/plain": [
       "141.84"
      ]
     },
     "execution_count": 31,
     "metadata": {},
     "output_type": "execute_result"
    }
   ],
   "execution_count": 31
  },
  {
   "cell_type": "markdown",
   "metadata": {},
   "source": [
    "Représentons les deux analyses (explication du poids en fonction de la taille ou l'inverse) dans un même graphe \n",
    "et reprenons les deux estimations demandées: poids d'une personne de 1m78 pour le premier modèle et taille d'une personne \n",
    "de 63 kg pour le deuxième modèle."
   ]
  },
  {
   "cell_type": "code",
   "metadata": {
    "ExecuteTime": {
     "end_time": "2024-10-22T19:38:39.396946Z",
     "start_time": "2024-10-22T19:38:39.293610Z"
    }
   },
   "source": [
    "plt.plot(input_df['Taille'],input_df['Poids'],'o',alpha=0.8)\n",
    "\n",
    "plt.plot(input_df['Modele Taille vs Poids'], input_df['Poids'], '-o', alpha=0.8, color='red', label='Modele Taille vs Poids')\n",
    "plt.hlines(y=63, xmin=np.min(input_df['Taille']), xmax=np.max(input_df['Taille']), color='red', linestyles='dotted')\n",
    "plt.vlines(x=aa*63+bb, ymin=np.min(input_df['Poids']), ymax=np.max(input_df['Poids']), color='red', linestyles='dotted')\n",
    "\n",
    "plt.plot(input_df['Taille'], input_df['Modele Poids vs Taille'], '-o', alpha=0.8, color='orange', label='Modele Poids vs Taille')\n",
    "plt.vlines(x=178, ymin=np.min(input_df['Poids']), ymax=np.max(input_df['Poids']), color='orange', linestyles='dotted')\n",
    "plt.hlines(y=a*178+b, xmin=np.min(input_df['Taille']), xmax=np.max(input_df['Taille']), color='orange', linestyles='dotted')\n",
    "\n",
    "plt.ylabel('Poids (kg)')\n",
    "plt.xlabel('Taille (cm)')\n",
    "plt.legend()\n",
    "plt.show()"
   ],
   "outputs": [
    {
     "data": {
      "text/plain": [
       "<Figure size 640x480 with 1 Axes>"
      ],
      "image/png": "[encoded data removed]"
     },
     "metadata": {},
     "output_type": "display_data"
    }
   ],
   "execution_count": 32
  },
  {
   "cell_type": "code",
   "metadata": {
    "ExecuteTime": {
     "end_time": "2024-10-22T19:38:39.412449Z",
     "start_time": "2024-10-22T19:38:39.410142Z"
    }
   },
   "source": [],
   "outputs": [],
   "execution_count": null
  }
 ],
 "metadata": {
  "kernelspec": {
   "display_name": "Python 3 (ipykernel)",
   "language": "python",
   "name": "python3"
  },
  "language_info": {
   "codemirror_mode": {
    "name": "ipython",
    "version": 3
   },
   "file_extension": ".py",
   "mimetype": "text/x-python",
   "name": "python",
   "nbconvert_exporter": "python",
   "pygments_lexer": "ipython3",
   "version": "3.9.13"
  }
 },
 "nbformat": 4,
 "nbformat_minor": 2
}
