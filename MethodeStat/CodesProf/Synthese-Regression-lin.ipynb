{
 "cells": [
  {
   "metadata": {},
   "cell_type": "markdown",
   "source": [
    "## Régression Linéaire\n",
    "\n",
    "\n",
    "Dans cet exercice, la variable poids dépend de la variable taille. En d'autres termes, le poids dépend de la taille.\n",
    "\n",
    "### Formule de la Régression Linéaire\n",
    "La formule de la régression linéaire s'exprime comme suit :\n",
    "\n",
    "Y = ax + b\n",
    "\n",
    "Où :\n",
    "- **Y** représente le poids (variable dépendante)\n",
    "- **X** représente la taille (variable indépendante)\n",
    "- **a** est la pente de la droite de régression\n",
    "- **b** est l'ordonnée à l'origine\n",
    "\n",
    "### Interprétation\n",
    "- **X** (taille) est la variable indépendante qui influence **Y** (poids).\n",
    "- **Y** (poids) est la variable dépendante qui est expliquée par **X** (taille).\n",
    "\n",
    "\n",
    "\n",
    "\n",
    "On importe les librairies nécessaires pour l'exercice.\n",
    "On importe les données du csv."
   ],
   "id": "752f8d38dbaa7222"
  },
  {
   "cell_type": "code",
   "id": "initial_id",
   "metadata": {
    "collapsed": true,
    "ExecuteTime": {
     "end_time": "2024-10-22T16:52:52.582707Z",
     "start_time": "2024-10-22T16:52:50.711219Z"
    }
   },
   "source": [
    "import pandas as pd\n",
    "import matplotlib.pyplot as plt\n",
    "from scipy.stats import linregress\n",
    "\n",
    "df = pd.read_csv('CourbePoidsTaille.csv', sep=';')\n",
    "df"
   ],
   "outputs": [
    {
     "data": {
      "text/plain": [
       "    Poids  Taille\n",
       "0      70     155\n",
       "1      63     150\n",
       "2      72     180\n",
       "3      60     135\n",
       "4      66     156\n",
       "5      70     168\n",
       "6      74     178\n",
       "7      65     160\n",
       "8      62     132\n",
       "9      67     145\n",
       "10     65     139\n",
       "11     68     152"
      ],
      "text/html": [
       "<div>\n",
       "<style scoped>\n",
       "    .dataframe tbody tr th:only-of-type {\n",
       "        vertical-align: middle;\n",
       "    }\n",
       "\n",
       "    .dataframe tbody tr th {\n",
       "        vertical-align: top;\n",
       "    }\n",
       "\n",
       "    .dataframe thead th {\n",
       "        text-align: right;\n",
       "    }\n",
       "</style>\n",
       "<table border=\"1\" class=\"dataframe\">\n",
       "  <thead>\n",
       "    <tr style=\"text-align: right;\">\n",
       "      <th></th>\n",
       "      <th>Poids</th>\n",
       "      <th>Taille</th>\n",
       "    </tr>\n",
       "  </thead>\n",
       "  <tbody>\n",
       "    <tr>\n",
       "      <th>0</th>\n",
       "      <td>70</td>\n",
       "      <td>155</td>\n",
       "    </tr>\n",
       "    <tr>\n",
       "      <th>1</th>\n",
       "      <td>63</td>\n",
       "      <td>150</td>\n",
       "    </tr>\n",
       "    <tr>\n",
       "      <th>2</th>\n",
       "      <td>72</td>\n",
       "      <td>180</td>\n",
       "    </tr>\n",
       "    <tr>\n",
       "      <th>3</th>\n",
       "      <td>60</td>\n",
       "      <td>135</td>\n",
       "    </tr>\n",
       "    <tr>\n",
       "      <th>4</th>\n",
       "      <td>66</td>\n",
       "      <td>156</td>\n",
       "    </tr>\n",
       "    <tr>\n",
       "      <th>5</th>\n",
       "      <td>70</td>\n",
       "      <td>168</td>\n",
       "    </tr>\n",
       "    <tr>\n",
       "      <th>6</th>\n",
       "      <td>74</td>\n",
       "      <td>178</td>\n",
       "    </tr>\n",
       "    <tr>\n",
       "      <th>7</th>\n",
       "      <td>65</td>\n",
       "      <td>160</td>\n",
       "    </tr>\n",
       "    <tr>\n",
       "      <th>8</th>\n",
       "      <td>62</td>\n",
       "      <td>132</td>\n",
       "    </tr>\n",
       "    <tr>\n",
       "      <th>9</th>\n",
       "      <td>67</td>\n",
       "      <td>145</td>\n",
       "    </tr>\n",
       "    <tr>\n",
       "      <th>10</th>\n",
       "      <td>65</td>\n",
       "      <td>139</td>\n",
       "    </tr>\n",
       "    <tr>\n",
       "      <th>11</th>\n",
       "      <td>68</td>\n",
       "      <td>152</td>\n",
       "    </tr>\n",
       "  </tbody>\n",
       "</table>\n",
       "</div>"
      ]
     },
     "execution_count": 1,
     "metadata": {},
     "output_type": "execute_result"
    }
   ],
   "execution_count": 1
  },
  {
   "metadata": {},
   "cell_type": "markdown",
   "source": "On trace le nuage de points. ",
   "id": "ea704d7a47032fb"
  },
  {
   "metadata": {
    "ExecuteTime": {
     "end_time": "2024-10-22T16:52:54.607815Z",
     "start_time": "2024-10-22T16:52:54.454204Z"
    }
   },
   "cell_type": "code",
   "source": [
    "plt.plot( df['Poids'],df['Taille'], 'o')\n",
    "plt.legend(['Poids en fonction de la taille'])\n",
    "plt.ylabel('Taille (cm)')\n",
    "plt.xlabel('Poids (kg)')"
   ],
   "id": "741c0065cc3fb8a3",
   "outputs": [
    {
     "data": {
      "text/plain": [
       "Text(0.5, 0, 'Poids (kg)')"
      ]
     },
     "execution_count": 2,
     "metadata": {},
     "output_type": "execute_result"
    },
    {
     "data": {
      "text/plain": [
       "<Figure size 640x480 with 1 Axes>"
      ],
      "image/png": "[encoded data removed]"
     },
     "metadata": {},
     "output_type": "display_data"
    }
   ],
   "execution_count": 2
  },
  {
   "metadata": {},
   "cell_type": "markdown",
   "source": "",
   "id": "ac37d0811e6d1095"
  },
  {
   "metadata": {},
   "cell_type": "markdown",
   "source": [
    "## Calcul de la Régression Linéaire\n",
    "\n",
    "Pour effectuer le calcul de la régression linéaire, nous pouvons utiliser la covariance entre les variables **X** (taille) et **Y** (poids)\n",
    "\n",
    "\n",
    "### Remarque\n",
    "\n",
    "- La covariance peut être calculée comme suit : **cov(X, Y)** ou **cov(Y, X)**, mais dans le contexte de la régression linéaire, la formule se concentre généralement sur **cov(X, Y)**, car nous cherchons à prédire **Y** à partir de **X**.\n",
    "\n"
   ],
   "id": "8915565070c50cd0"
  },
  {
   "metadata": {
    "ExecuteTime": {
     "end_time": "2024-10-22T16:54:31.133329Z",
     "start_time": "2024-10-22T16:54:31.115299Z"
    }
   },
   "cell_type": "code",
   "source": "df.cov()",
   "id": "b4194726bae5b6d8",
   "outputs": [
    {
     "data": {
      "text/plain": [
       "            Poids      Taille\n",
       "Poids   17.424242   56.030303\n",
       "Taille  56.030303  241.787879"
      ],
      "text/html": [
       "<div>\n",
       "<style scoped>\n",
       "    .dataframe tbody tr th:only-of-type {\n",
       "        vertical-align: middle;\n",
       "    }\n",
       "\n",
       "    .dataframe tbody tr th {\n",
       "        vertical-align: top;\n",
       "    }\n",
       "\n",
       "    .dataframe thead th {\n",
       "        text-align: right;\n",
       "    }\n",
       "</style>\n",
       "<table border=\"1\" class=\"dataframe\">\n",
       "  <thead>\n",
       "    <tr style=\"text-align: right;\">\n",
       "      <th></th>\n",
       "      <th>Poids</th>\n",
       "      <th>Taille</th>\n",
       "    </tr>\n",
       "  </thead>\n",
       "  <tbody>\n",
       "    <tr>\n",
       "      <th>Poids</th>\n",
       "      <td>17.424242</td>\n",
       "      <td>56.030303</td>\n",
       "    </tr>\n",
       "    <tr>\n",
       "      <th>Taille</th>\n",
       "      <td>56.030303</td>\n",
       "      <td>241.787879</td>\n",
       "    </tr>\n",
       "  </tbody>\n",
       "</table>\n",
       "</div>"
      ]
     },
     "execution_count": 3,
     "metadata": {},
     "output_type": "execute_result"
    }
   ],
   "execution_count": 3
  },
  {
   "metadata": {},
   "cell_type": "markdown",
   "source": "Maintenant on peut calculer a et b qui nous sont indispensables pour la calculer Y = ax+b\n",
   "id": "3aa304239ad1f4af"
  },
  {
   "metadata": {},
   "cell_type": "code",
   "outputs": [],
   "execution_count": null,
   "source": "a = df.cov()['Poids']['Taille']/df.cov()['Taille']['Taille']",
   "id": "86f9f50ede2548cb"
  },
  {
   "metadata": {},
   "cell_type": "markdown",
   "source": [
    "a = cov(x,y) / var(x) donc a = cov(poids, taille) / var(taille)\n",
    "\n",
    "On peut avoir la variance de deux manières, soit on fait df['x'].var() ou bien on fait df.cov()['x']['x']"
   ],
   "id": "b5c5342bb7436bf4"
  },
  {
   "metadata": {},
   "cell_type": "markdown",
   "source": "Pour trouver b on sait que b = moyenne(y) - a * moyenne(x)",
   "id": "365966a831202e4"
  },
  {
   "metadata": {},
   "cell_type": "code",
   "outputs": [],
   "execution_count": null,
   "source": "b = df['Poids'].mean() - a * df['Taille'].mean()",
   "id": "3a24fcf8003c04e9"
  },
  {
   "metadata": {},
   "cell_type": "markdown",
   "source": "On peut donc calculer Y = aX + b de cette facon : \n",
   "id": "d65c58946bcd3369"
  },
  {
   "metadata": {},
   "cell_type": "code",
   "outputs": [],
   "execution_count": null,
   "source": "df['Modele poids en fonction de la taille'] = a * df['Taille'] + b",
   "id": "b4d427a6fa1b3d62"
  },
  {
   "metadata": {},
   "cell_type": "markdown",
   "source": "Afficher les deux : ",
   "id": "65496f0ae3066fad"
  },
  {
   "metadata": {},
   "cell_type": "code",
   "outputs": [],
   "execution_count": null,
   "source": [
    "plt.plot(df['Taille'],df['Poids'],'o')\n",
    "plt.plot(df['Taille'],df['Modele Poids vs Taille'],'-')\n",
    "plt.xlabel('Taille (centimetre)')\n",
    "plt.ylabel('Poids (kilogramme)')\n",
    "plt.show()"
   ],
   "id": "7b2c941fd341c5c8"
  }
 ],
 "metadata": {
  "kernelspec": {
   "display_name": "Python 3",
   "language": "python",
   "name": "python3"
  },
  "language_info": {
   "codemirror_mode": {
    "name": "ipython",
    "version": 2
   },
   "file_extension": ".py",
   "mimetype": "text/x-python",
   "name": "python",
   "nbconvert_exporter": "python",
   "pygments_lexer": "ipython2",
   "version": "2.7.6"
  }
 },
 "nbformat": 4,
 "nbformat_minor": 5
}
