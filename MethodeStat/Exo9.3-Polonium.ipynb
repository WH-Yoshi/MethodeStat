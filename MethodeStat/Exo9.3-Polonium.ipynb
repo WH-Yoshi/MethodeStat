{
 "cells": [
  {
   "cell_type": "code",
   "id": "1ced835ea794d2af",
   "metadata": {
    "ExecuteTime": {
     "end_time": "2024-10-21T07:59:30.219115Z",
     "start_time": "2024-10-21T07:59:30.203947Z"
    }
   },
   "source": [
    "import pandas as pd\n",
    "import matplotlib.pyplot as plt\n",
    "import numpy as np"
   ],
   "outputs": [],
   "execution_count": 34
  },
  {
   "metadata": {
    "collapsed": true,
    "ExecuteTime": {
     "end_time": "2024-10-21T07:59:30.282139Z",
     "start_time": "2024-10-21T07:59:30.266089Z"
    }
   },
   "cell_type": "code",
   "source": [
    "data_df = pd.read_csv('ressources/Polonium210.csv', sep=';')\n",
    "data_df"
   ],
   "id": "initial_id",
   "outputs": [
    {
     "data": {
      "text/plain": [
       "   Temps  Proportion\n",
       "0      0         100\n",
       "1     40          82\n",
       "2     80          67\n",
       "3    120          55\n",
       "4    160          45\n",
       "5    200          37\n",
       "6    240          30"
      ],
      "text/html": [
       "<div>\n",
       "<style scoped>\n",
       "    .dataframe tbody tr th:only-of-type {\n",
       "        vertical-align: middle;\n",
       "    }\n",
       "\n",
       "    .dataframe tbody tr th {\n",
       "        vertical-align: top;\n",
       "    }\n",
       "\n",
       "    .dataframe thead th {\n",
       "        text-align: right;\n",
       "    }\n",
       "</style>\n",
       "<table border=\"1\" class=\"dataframe\">\n",
       "  <thead>\n",
       "    <tr style=\"text-align: right;\">\n",
       "      <th></th>\n",
       "      <th>Temps</th>\n",
       "      <th>Proportion</th>\n",
       "    </tr>\n",
       "  </thead>\n",
       "  <tbody>\n",
       "    <tr>\n",
       "      <th>0</th>\n",
       "      <td>0</td>\n",
       "      <td>100</td>\n",
       "    </tr>\n",
       "    <tr>\n",
       "      <th>1</th>\n",
       "      <td>40</td>\n",
       "      <td>82</td>\n",
       "    </tr>\n",
       "    <tr>\n",
       "      <th>2</th>\n",
       "      <td>80</td>\n",
       "      <td>67</td>\n",
       "    </tr>\n",
       "    <tr>\n",
       "      <th>3</th>\n",
       "      <td>120</td>\n",
       "      <td>55</td>\n",
       "    </tr>\n",
       "    <tr>\n",
       "      <th>4</th>\n",
       "      <td>160</td>\n",
       "      <td>45</td>\n",
       "    </tr>\n",
       "    <tr>\n",
       "      <th>5</th>\n",
       "      <td>200</td>\n",
       "      <td>37</td>\n",
       "    </tr>\n",
       "    <tr>\n",
       "      <th>6</th>\n",
       "      <td>240</td>\n",
       "      <td>30</td>\n",
       "    </tr>\n",
       "  </tbody>\n",
       "</table>\n",
       "</div>"
      ]
     },
     "execution_count": 35,
     "metadata": {},
     "output_type": "execute_result"
    }
   ],
   "execution_count": 35
  },
  {
   "metadata": {
    "ExecuteTime": {
     "end_time": "2024-10-21T07:59:30.445974Z",
     "start_time": "2024-10-21T07:59:30.345150Z"
    }
   },
   "cell_type": "code",
   "source": [
    "plt.plot(data_df['Temps'], data_df['Proportion'],'o', label='données brutes')\n",
    "plt.xlabel('Temps (jours)')\n",
    "plt.ylabel('Proportion (%)')\n",
    "plt.grid()\n",
    "plt.legend()\n",
    "plt.show()"
   ],
   "id": "f869af40d661bf3a",
   "outputs": [
    {
     "data": {
      "text/plain": [
       "<Figure size 640x480 with 1 Axes>"
      ],
      "image/png": "[encoded data removed]"
     },
     "metadata": {},
     "output_type": "display_data"
    }
   ],
   "execution_count": 36
  },
  {
   "metadata": {
    "ExecuteTime": {
     "end_time": "2024-10-21T07:59:30.632635Z",
     "start_time": "2024-10-21T07:59:30.610849Z"
    }
   },
   "cell_type": "code",
   "source": [
    "data_df['ln(Proportion)'] = np.log(data_df['Proportion'])\n",
    "data_df"
   ],
   "id": "229550db9d80dfab",
   "outputs": [
    {
     "data": {
      "text/plain": [
       "   Temps  Proportion  ln(Proportion)\n",
       "0      0         100        4.605170\n",
       "1     40          82        4.406719\n",
       "2     80          67        4.204693\n",
       "3    120          55        4.007333\n",
       "4    160          45        3.806662\n",
       "5    200          37        3.610918\n",
       "6    240          30        3.401197"
      ],
      "text/html": [
       "<div>\n",
       "<style scoped>\n",
       "    .dataframe tbody tr th:only-of-type {\n",
       "        vertical-align: middle;\n",
       "    }\n",
       "\n",
       "    .dataframe tbody tr th {\n",
       "        vertical-align: top;\n",
       "    }\n",
       "\n",
       "    .dataframe thead th {\n",
       "        text-align: right;\n",
       "    }\n",
       "</style>\n",
       "<table border=\"1\" class=\"dataframe\">\n",
       "  <thead>\n",
       "    <tr style=\"text-align: right;\">\n",
       "      <th></th>\n",
       "      <th>Temps</th>\n",
       "      <th>Proportion</th>\n",
       "      <th>ln(Proportion)</th>\n",
       "    </tr>\n",
       "  </thead>\n",
       "  <tbody>\n",
       "    <tr>\n",
       "      <th>0</th>\n",
       "      <td>0</td>\n",
       "      <td>100</td>\n",
       "      <td>4.605170</td>\n",
       "    </tr>\n",
       "    <tr>\n",
       "      <th>1</th>\n",
       "      <td>40</td>\n",
       "      <td>82</td>\n",
       "      <td>4.406719</td>\n",
       "    </tr>\n",
       "    <tr>\n",
       "      <th>2</th>\n",
       "      <td>80</td>\n",
       "      <td>67</td>\n",
       "      <td>4.204693</td>\n",
       "    </tr>\n",
       "    <tr>\n",
       "      <th>3</th>\n",
       "      <td>120</td>\n",
       "      <td>55</td>\n",
       "      <td>4.007333</td>\n",
       "    </tr>\n",
       "    <tr>\n",
       "      <th>4</th>\n",
       "      <td>160</td>\n",
       "      <td>45</td>\n",
       "      <td>3.806662</td>\n",
       "    </tr>\n",
       "    <tr>\n",
       "      <th>5</th>\n",
       "      <td>200</td>\n",
       "      <td>37</td>\n",
       "      <td>3.610918</td>\n",
       "    </tr>\n",
       "    <tr>\n",
       "      <th>6</th>\n",
       "      <td>240</td>\n",
       "      <td>30</td>\n",
       "      <td>3.401197</td>\n",
       "    </tr>\n",
       "  </tbody>\n",
       "</table>\n",
       "</div>"
      ]
     },
     "execution_count": 37,
     "metadata": {},
     "output_type": "execute_result"
    }
   ],
   "execution_count": 37
  },
  {
   "metadata": {
    "ExecuteTime": {
     "end_time": "2024-10-21T07:59:30.789780Z",
     "start_time": "2024-10-21T07:59:30.775263Z"
    }
   },
   "cell_type": "code",
   "source": "data_df[['Temps', 'ln(Proportion)']].cov()",
   "id": "a8d0049a4898ced8",
   "outputs": [
    {
     "data": {
      "text/plain": [
       "                      Temps  ln(Proportion)\n",
       "Temps           7466.666667      -37.343675\n",
       "ln(Proportion)   -37.343675        0.186779"
      ],
      "text/html": [
       "<div>\n",
       "<style scoped>\n",
       "    .dataframe tbody tr th:only-of-type {\n",
       "        vertical-align: middle;\n",
       "    }\n",
       "\n",
       "    .dataframe tbody tr th {\n",
       "        vertical-align: top;\n",
       "    }\n",
       "\n",
       "    .dataframe thead th {\n",
       "        text-align: right;\n",
       "    }\n",
       "</style>\n",
       "<table border=\"1\" class=\"dataframe\">\n",
       "  <thead>\n",
       "    <tr style=\"text-align: right;\">\n",
       "      <th></th>\n",
       "      <th>Temps</th>\n",
       "      <th>ln(Proportion)</th>\n",
       "    </tr>\n",
       "  </thead>\n",
       "  <tbody>\n",
       "    <tr>\n",
       "      <th>Temps</th>\n",
       "      <td>7466.666667</td>\n",
       "      <td>-37.343675</td>\n",
       "    </tr>\n",
       "    <tr>\n",
       "      <th>ln(Proportion)</th>\n",
       "      <td>-37.343675</td>\n",
       "      <td>0.186779</td>\n",
       "    </tr>\n",
       "  </tbody>\n",
       "</table>\n",
       "</div>"
      ]
     },
     "execution_count": 38,
     "metadata": {},
     "output_type": "execute_result"
    }
   ],
   "execution_count": 38
  },
  {
   "metadata": {
    "ExecuteTime": {
     "end_time": "2024-10-21T07:59:31.072384Z",
     "start_time": "2024-10-21T07:59:31.057591Z"
    }
   },
   "cell_type": "code",
   "source": [
    "a = data_df[['Temps', 'ln(Proportion)']].cov().iloc[0,1] / data_df['Temps'].var()\n",
    "b = data_df['ln(Proportion)'].mean() - a * data_df['Temps'].mean()\n",
    "\n",
    "a, b"
   ],
   "id": "f0513ce6680679cf",
   "outputs": [
    {
     "data": {
      "text/plain": [
       "(-0.005001385010570101, 4.606265204404481)"
      ]
     },
     "execution_count": 39,
     "metadata": {},
     "output_type": "execute_result"
    }
   ],
   "execution_count": 39
  },
  {
   "metadata": {
    "ExecuteTime": {
     "end_time": "2024-10-21T07:59:31.375081Z",
     "start_time": "2024-10-21T07:59:31.361553Z"
    }
   },
   "cell_type": "code",
   "source": "data_df['ln(Proportion)_mod'] = a * data_df['Temps'] + b",
   "id": "96f56d16df126625",
   "outputs": [],
   "execution_count": 40
  }
 ],
 "metadata": {
  "kernelspec": {
   "display_name": "Python 3",
   "language": "python",
   "name": "python3"
  },
  "language_info": {
   "codemirror_mode": {
    "name": "ipython",
    "version": 2
   },
   "file_extension": ".py",
   "mimetype": "text/x-python",
   "name": "python",
   "nbconvert_exporter": "python",
   "pygments_lexer": "ipython2",
   "version": "2.7.6"
  }
 },
 "nbformat": 4,
 "nbformat_minor": 5
}
