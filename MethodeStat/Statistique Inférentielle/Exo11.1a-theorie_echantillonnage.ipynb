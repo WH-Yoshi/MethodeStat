{
 "cells": [
  {
   "metadata": {
    "ExecuteTime": {
     "end_time": "2025-01-04T15:16:32.856289Z",
     "start_time": "2025-01-04T15:16:32.848768Z"
    }
   },
   "cell_type": "code",
   "source": [
    "import random\n",
    "from itertools import product\n",
    "from math import sqrt\n",
    "import numpy as np\n",
    "\n",
    "import pandas as pd\n",
    "from numpy import mean\n",
    "\n",
    "\n",
    "np.random.seed(69)\n",
    "random.seed(69)"
   ],
   "id": "1c55513ceed3c83d",
   "outputs": [],
   "execution_count": 117
  },
  {
   "metadata": {
    "ExecuteTime": {
     "end_time": "2025-01-04T15:16:32.906250Z",
     "start_time": "2025-01-04T15:16:32.898148Z"
    }
   },
   "cell_type": "code",
   "source": [
    "mu = 68.0\n",
    "sigma = 3.0\n",
    "N = 3000\n",
    "\n",
    "population_df = pd.DataFrame({'poids':np.random.normal(loc=mu,scale=sigma,size=N)})\n",
    "population_df"
   ],
   "id": "a292c85db860161",
   "outputs": [
    {
     "data": {
      "text/plain": [
       "          poids\n",
       "0     70.746521\n",
       "1     66.189374\n",
       "2     71.486886\n",
       "3     66.195800\n",
       "4     63.207543\n",
       "...         ...\n",
       "2995  65.546805\n",
       "2996  69.607160\n",
       "2997  65.985854\n",
       "2998  70.210994\n",
       "2999  68.297560\n",
       "\n",
       "[3000 rows x 1 columns]"
      ],
      "text/html": [
       "<div>\n",
       "<style scoped>\n",
       "    .dataframe tbody tr th:only-of-type {\n",
       "        vertical-align: middle;\n",
       "    }\n",
       "\n",
       "    .dataframe tbody tr th {\n",
       "        vertical-align: top;\n",
       "    }\n",
       "\n",
       "    .dataframe thead th {\n",
       "        text-align: right;\n",
       "    }\n",
       "</style>\n",
       "<table border=\"1\" class=\"dataframe\">\n",
       "  <thead>\n",
       "    <tr style=\"text-align: right;\">\n",
       "      <th></th>\n",
       "      <th>poids</th>\n",
       "    </tr>\n",
       "  </thead>\n",
       "  <tbody>\n",
       "    <tr>\n",
       "      <th>0</th>\n",
       "      <td>70.746521</td>\n",
       "    </tr>\n",
       "    <tr>\n",
       "      <th>1</th>\n",
       "      <td>66.189374</td>\n",
       "    </tr>\n",
       "    <tr>\n",
       "      <th>2</th>\n",
       "      <td>71.486886</td>\n",
       "    </tr>\n",
       "    <tr>\n",
       "      <th>3</th>\n",
       "      <td>66.195800</td>\n",
       "    </tr>\n",
       "    <tr>\n",
       "      <th>4</th>\n",
       "      <td>63.207543</td>\n",
       "    </tr>\n",
       "    <tr>\n",
       "      <th>...</th>\n",
       "      <td>...</td>\n",
       "    </tr>\n",
       "    <tr>\n",
       "      <th>2995</th>\n",
       "      <td>65.546805</td>\n",
       "    </tr>\n",
       "    <tr>\n",
       "      <th>2996</th>\n",
       "      <td>69.607160</td>\n",
       "    </tr>\n",
       "    <tr>\n",
       "      <th>2997</th>\n",
       "      <td>65.985854</td>\n",
       "    </tr>\n",
       "    <tr>\n",
       "      <th>2998</th>\n",
       "      <td>70.210994</td>\n",
       "    </tr>\n",
       "    <tr>\n",
       "      <th>2999</th>\n",
       "      <td>68.297560</td>\n",
       "    </tr>\n",
       "  </tbody>\n",
       "</table>\n",
       "<p>3000 rows × 1 columns</p>\n",
       "</div>"
      ]
     },
     "execution_count": 118,
     "metadata": {},
     "output_type": "execute_result"
    }
   ],
   "execution_count": 118
  },
  {
   "metadata": {},
   "cell_type": "markdown",
   "source": "### Non-exhaustif",
   "id": "11f98bc2a5bb9704"
  },
  {
   "metadata": {
    "ExecuteTime": {
     "end_time": "2025-01-04T15:16:32.978016Z",
     "start_time": "2025-01-04T15:16:32.952782Z"
    }
   },
   "cell_type": "code",
   "source": [
    "n_echantillons = 80\n",
    "taille_echantillon = 25\n",
    "\n",
    "moyenne_list = [\n",
    "    mean(random.sample(list(population_df['poids']), taille_echantillon))\n",
    "    for _ in range(n_echantillons)\n",
    "]\n",
    "\n",
    "poids_moyen_ne_df = pd.DataFrame({'poids_moyen':moyenne_list})\n",
    "poids_moyen_ne_df"
   ],
   "id": "4d1c1908e5f0c110",
   "outputs": [
    {
     "data": {
      "text/plain": [
       "    poids_moyen\n",
       "0     68.571725\n",
       "1     67.901270\n",
       "2     69.007062\n",
       "3     67.598820\n",
       "4     67.081813\n",
       "..          ...\n",
       "75    68.581542\n",
       "76    66.922548\n",
       "77    68.467467\n",
       "78    69.223948\n",
       "79    67.032019\n",
       "\n",
       "[80 rows x 1 columns]"
      ],
      "text/html": [
       "<div>\n",
       "<style scoped>\n",
       "    .dataframe tbody tr th:only-of-type {\n",
       "        vertical-align: middle;\n",
       "    }\n",
       "\n",
       "    .dataframe tbody tr th {\n",
       "        vertical-align: top;\n",
       "    }\n",
       "\n",
       "    .dataframe thead th {\n",
       "        text-align: right;\n",
       "    }\n",
       "</style>\n",
       "<table border=\"1\" class=\"dataframe\">\n",
       "  <thead>\n",
       "    <tr style=\"text-align: right;\">\n",
       "      <th></th>\n",
       "      <th>poids_moyen</th>\n",
       "    </tr>\n",
       "  </thead>\n",
       "  <tbody>\n",
       "    <tr>\n",
       "      <th>0</th>\n",
       "      <td>68.571725</td>\n",
       "    </tr>\n",
       "    <tr>\n",
       "      <th>1</th>\n",
       "      <td>67.901270</td>\n",
       "    </tr>\n",
       "    <tr>\n",
       "      <th>2</th>\n",
       "      <td>69.007062</td>\n",
       "    </tr>\n",
       "    <tr>\n",
       "      <th>3</th>\n",
       "      <td>67.598820</td>\n",
       "    </tr>\n",
       "    <tr>\n",
       "      <th>4</th>\n",
       "      <td>67.081813</td>\n",
       "    </tr>\n",
       "    <tr>\n",
       "      <th>...</th>\n",
       "      <td>...</td>\n",
       "    </tr>\n",
       "    <tr>\n",
       "      <th>75</th>\n",
       "      <td>68.581542</td>\n",
       "    </tr>\n",
       "    <tr>\n",
       "      <th>76</th>\n",
       "      <td>66.922548</td>\n",
       "    </tr>\n",
       "    <tr>\n",
       "      <th>77</th>\n",
       "      <td>68.467467</td>\n",
       "    </tr>\n",
       "    <tr>\n",
       "      <th>78</th>\n",
       "      <td>69.223948</td>\n",
       "    </tr>\n",
       "    <tr>\n",
       "      <th>79</th>\n",
       "      <td>67.032019</td>\n",
       "    </tr>\n",
       "  </tbody>\n",
       "</table>\n",
       "<p>80 rows × 1 columns</p>\n",
       "</div>"
      ]
     },
     "execution_count": 119,
     "metadata": {},
     "output_type": "execute_result"
    }
   ],
   "execution_count": 119
  },
  {
   "metadata": {
    "ExecuteTime": {
     "end_time": "2025-01-04T15:16:33.076356Z",
     "start_time": "2025-01-04T15:16:33.070390Z"
    }
   },
   "cell_type": "code",
   "source": "np.mean(poids_moyen_ne_df[\"poids_moyen\"]), np.std(poids_moyen_ne_df[\"poids_moyen\"], ddof=0)",
   "id": "dd29207828359241",
   "outputs": [
    {
     "data": {
      "text/plain": [
       "(67.95233023594703, 0.633098488505203)"
      ]
     },
     "execution_count": 120,
     "metadata": {},
     "output_type": "execute_result"
    }
   ],
   "execution_count": 120
  },
  {
   "metadata": {},
   "cell_type": "markdown",
   "source": "### Exhaustif",
   "id": "c237e5c069c33f0a"
  },
  {
   "metadata": {
    "ExecuteTime": {
     "end_time": "2025-01-04T15:16:33.374602Z",
     "start_time": "2025-01-04T15:16:33.343606Z"
    }
   },
   "cell_type": "code",
   "source": [
    "moyenne_list = [\n",
    "    mean(random.choices(list(population_df['poids']), k=taille_echantillon))\n",
    "    for _ in range(n_echantillons)\n",
    "]\n",
    "\n",
    "poids_moyen_e_df = pd.DataFrame({'poids_moyen':moyenne_list})\n",
    "poids_moyen_e_df"
   ],
   "id": "e928962daf3eca8b",
   "outputs": [
    {
     "data": {
      "text/plain": [
       "    poids_moyen\n",
       "0     67.899004\n",
       "1     66.182137\n",
       "2     67.930960\n",
       "3     66.953504\n",
       "4     66.989246\n",
       "..          ...\n",
       "75    68.132871\n",
       "76    67.517935\n",
       "77    67.905571\n",
       "78    67.727580\n",
       "79    68.158821\n",
       "\n",
       "[80 rows x 1 columns]"
      ],
      "text/html": [
       "<div>\n",
       "<style scoped>\n",
       "    .dataframe tbody tr th:only-of-type {\n",
       "        vertical-align: middle;\n",
       "    }\n",
       "\n",
       "    .dataframe tbody tr th {\n",
       "        vertical-align: top;\n",
       "    }\n",
       "\n",
       "    .dataframe thead th {\n",
       "        text-align: right;\n",
       "    }\n",
       "</style>\n",
       "<table border=\"1\" class=\"dataframe\">\n",
       "  <thead>\n",
       "    <tr style=\"text-align: right;\">\n",
       "      <th></th>\n",
       "      <th>poids_moyen</th>\n",
       "    </tr>\n",
       "  </thead>\n",
       "  <tbody>\n",
       "    <tr>\n",
       "      <th>0</th>\n",
       "      <td>67.899004</td>\n",
       "    </tr>\n",
       "    <tr>\n",
       "      <th>1</th>\n",
       "      <td>66.182137</td>\n",
       "    </tr>\n",
       "    <tr>\n",
       "      <th>2</th>\n",
       "      <td>67.930960</td>\n",
       "    </tr>\n",
       "    <tr>\n",
       "      <th>3</th>\n",
       "      <td>66.953504</td>\n",
       "    </tr>\n",
       "    <tr>\n",
       "      <th>4</th>\n",
       "      <td>66.989246</td>\n",
       "    </tr>\n",
       "    <tr>\n",
       "      <th>...</th>\n",
       "      <td>...</td>\n",
       "    </tr>\n",
       "    <tr>\n",
       "      <th>75</th>\n",
       "      <td>68.132871</td>\n",
       "    </tr>\n",
       "    <tr>\n",
       "      <th>76</th>\n",
       "      <td>67.517935</td>\n",
       "    </tr>\n",
       "    <tr>\n",
       "      <th>77</th>\n",
       "      <td>67.905571</td>\n",
       "    </tr>\n",
       "    <tr>\n",
       "      <th>78</th>\n",
       "      <td>67.727580</td>\n",
       "    </tr>\n",
       "    <tr>\n",
       "      <th>79</th>\n",
       "      <td>68.158821</td>\n",
       "    </tr>\n",
       "  </tbody>\n",
       "</table>\n",
       "<p>80 rows × 1 columns</p>\n",
       "</div>"
      ]
     },
     "execution_count": 121,
     "metadata": {},
     "output_type": "execute_result"
    }
   ],
   "execution_count": 121
  },
  {
   "metadata": {
    "ExecuteTime": {
     "end_time": "2025-01-04T15:16:33.504256Z",
     "start_time": "2025-01-04T15:16:33.498358Z"
    }
   },
   "cell_type": "code",
   "source": "np.mean(poids_moyen_e_df[\"poids_moyen\"]), np.std(poids_moyen_e_df[\"poids_moyen\"], ddof=0)\n",
   "id": "15900fb6b32670b8",
   "outputs": [
    {
     "data": {
      "text/plain": [
       "(68.01510092377546, 0.5855743280850417)"
      ]
     },
     "execution_count": 122,
     "metadata": {},
     "output_type": "execute_result"
    }
   ],
   "execution_count": 122
  }
 ],
 "metadata": {
  "kernelspec": {
   "display_name": "Python 3",
   "language": "python",
   "name": "python3"
  },
  "language_info": {
   "codemirror_mode": {
    "name": "ipython",
    "version": 2
   },
   "file_extension": ".py",
   "mimetype": "text/x-python",
   "name": "python",
   "nbconvert_exporter": "python",
   "pygments_lexer": "ipython2",
   "version": "2.7.6"
  }
 },
 "nbformat": 4,
 "nbformat_minor": 5
}
