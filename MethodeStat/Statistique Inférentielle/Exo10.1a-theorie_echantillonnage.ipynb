{
 "cells": [
  {
   "metadata": {},
   "cell_type": "markdown",
   "source": "Une population est constituée des cinq nombres 2, 3, 6, 8 et 11. On considère tous les échantillons non exhaustifs possibles de taille deux de cette population.",
   "id": "16a3c1833d5a160"
  },
  {
   "metadata": {},
   "cell_type": "markdown",
   "source": [
    "Trouver:\n",
    "- La moyenne de la population\n",
    "- L’écart-type de la population\n",
    "- La moyenne de la distribution des moyennes d'échantillon\n",
    "- L’écart-type de la distribution des moyennes d'échantillon"
   ],
   "id": "c9ed7fb4adc8fdb9"
  },
  {
   "metadata": {
    "ExecuteTime": {
     "end_time": "2025-01-04T14:13:05.101425Z",
     "start_time": "2025-01-04T14:13:05.093376Z"
    }
   },
   "cell_type": "code",
   "source": [
    "from itertools import product\n",
    "from math import sqrt\n",
    "import numpy as np\n",
    "\n",
    "import pandas as pd\n",
    "\n",
    "pop = [2,3,6,8,11]\n",
    "n_pop = len(pop)"
   ],
   "id": "1c55513ceed3c83d",
   "outputs": [],
   "execution_count": 179
  },
  {
   "metadata": {
    "ExecuteTime": {
     "end_time": "2025-01-04T14:13:05.146063Z",
     "start_time": "2025-01-04T14:13:05.136574Z"
    }
   },
   "cell_type": "code",
   "source": [
    "df = pd.DataFrame({\"nombres\": pop})\n",
    "df"
   ],
   "id": "4891ffa6d9706b6c",
   "outputs": [
    {
     "data": {
      "text/plain": [
       "   nombres\n",
       "0        2\n",
       "1        3\n",
       "2        6\n",
       "3        8\n",
       "4       11"
      ],
      "text/html": [
       "<div>\n",
       "<style scoped>\n",
       "    .dataframe tbody tr th:only-of-type {\n",
       "        vertical-align: middle;\n",
       "    }\n",
       "\n",
       "    .dataframe tbody tr th {\n",
       "        vertical-align: top;\n",
       "    }\n",
       "\n",
       "    .dataframe thead th {\n",
       "        text-align: right;\n",
       "    }\n",
       "</style>\n",
       "<table border=\"1\" class=\"dataframe\">\n",
       "  <thead>\n",
       "    <tr style=\"text-align: right;\">\n",
       "      <th></th>\n",
       "      <th>nombres</th>\n",
       "    </tr>\n",
       "  </thead>\n",
       "  <tbody>\n",
       "    <tr>\n",
       "      <th>0</th>\n",
       "      <td>2</td>\n",
       "    </tr>\n",
       "    <tr>\n",
       "      <th>1</th>\n",
       "      <td>3</td>\n",
       "    </tr>\n",
       "    <tr>\n",
       "      <th>2</th>\n",
       "      <td>6</td>\n",
       "    </tr>\n",
       "    <tr>\n",
       "      <th>3</th>\n",
       "      <td>8</td>\n",
       "    </tr>\n",
       "    <tr>\n",
       "      <th>4</th>\n",
       "      <td>11</td>\n",
       "    </tr>\n",
       "  </tbody>\n",
       "</table>\n",
       "</div>"
      ]
     },
     "execution_count": 180,
     "metadata": {},
     "output_type": "execute_result"
    }
   ],
   "execution_count": 180
  },
  {
   "metadata": {},
   "cell_type": "markdown",
   "source": "## 1 Moyenne population",
   "id": "cdef72a0ea9d9b63"
  },
  {
   "metadata": {
    "ExecuteTime": {
     "end_time": "2025-01-04T14:13:05.285816Z",
     "start_time": "2025-01-04T14:13:05.279430Z"
    }
   },
   "cell_type": "code",
   "source": [
    "moyenne_pop = np.mean(df[\"nombres\"])\n",
    "moyenne_pop"
   ],
   "id": "bff13fcf183f7c1f",
   "outputs": [
    {
     "data": {
      "text/plain": [
       "6.0"
      ]
     },
     "execution_count": 181,
     "metadata": {},
     "output_type": "execute_result"
    }
   ],
   "execution_count": 181
  },
  {
   "metadata": {},
   "cell_type": "markdown",
   "source": "## 2 Écart-type population",
   "id": "c4602017bde2c16f"
  },
  {
   "metadata": {
    "ExecuteTime": {
     "end_time": "2025-01-04T14:13:05.521567Z",
     "start_time": "2025-01-04T14:13:05.510962Z"
    }
   },
   "cell_type": "code",
   "source": [
    "ecart_type_pop = np.std(df[\"nombres\"])\n",
    "ecart_type_pop"
   ],
   "id": "912cd64d248b3e11",
   "outputs": [
    {
     "data": {
      "text/plain": [
       "3.286335345030997"
      ]
     },
     "execution_count": 182,
     "metadata": {},
     "output_type": "execute_result"
    }
   ],
   "execution_count": 182
  },
  {
   "metadata": {},
   "cell_type": "markdown",
   "source": "## 3 Moyenne des moyennes d'échantillons",
   "id": "1c4b94e2ca301a45"
  },
  {
   "metadata": {
    "ExecuteTime": {
     "end_time": "2025-01-04T14:13:05.668004Z",
     "start_time": "2025-01-04T14:13:05.659862Z"
    }
   },
   "cell_type": "code",
   "source": [
    "echantillons = list(product(pop, repeat=2))\n",
    "df_echantillons = pd.DataFrame(echantillons, columns=[\"nombre1\", \"nombre2\"])\n",
    "df_echantillons"
   ],
   "id": "e4462237c05b4db1",
   "outputs": [
    {
     "data": {
      "text/plain": [
       "    nombre1  nombre2\n",
       "0         2        2\n",
       "1         2        3\n",
       "2         2        6\n",
       "3         2        8\n",
       "4         2       11\n",
       "5         3        2\n",
       "6         3        3\n",
       "7         3        6\n",
       "8         3        8\n",
       "9         3       11\n",
       "10        6        2\n",
       "11        6        3\n",
       "12        6        6\n",
       "13        6        8\n",
       "14        6       11\n",
       "15        8        2\n",
       "16        8        3\n",
       "17        8        6\n",
       "18        8        8\n",
       "19        8       11\n",
       "20       11        2\n",
       "21       11        3\n",
       "22       11        6\n",
       "23       11        8\n",
       "24       11       11"
      ],
      "text/html": [
       "<div>\n",
       "<style scoped>\n",
       "    .dataframe tbody tr th:only-of-type {\n",
       "        vertical-align: middle;\n",
       "    }\n",
       "\n",
       "    .dataframe tbody tr th {\n",
       "        vertical-align: top;\n",
       "    }\n",
       "\n",
       "    .dataframe thead th {\n",
       "        text-align: right;\n",
       "    }\n",
       "</style>\n",
       "<table border=\"1\" class=\"dataframe\">\n",
       "  <thead>\n",
       "    <tr style=\"text-align: right;\">\n",
       "      <th></th>\n",
       "      <th>nombre1</th>\n",
       "      <th>nombre2</th>\n",
       "    </tr>\n",
       "  </thead>\n",
       "  <tbody>\n",
       "    <tr>\n",
       "      <th>0</th>\n",
       "      <td>2</td>\n",
       "      <td>2</td>\n",
       "    </tr>\n",
       "    <tr>\n",
       "      <th>1</th>\n",
       "      <td>2</td>\n",
       "      <td>3</td>\n",
       "    </tr>\n",
       "    <tr>\n",
       "      <th>2</th>\n",
       "      <td>2</td>\n",
       "      <td>6</td>\n",
       "    </tr>\n",
       "    <tr>\n",
       "      <th>3</th>\n",
       "      <td>2</td>\n",
       "      <td>8</td>\n",
       "    </tr>\n",
       "    <tr>\n",
       "      <th>4</th>\n",
       "      <td>2</td>\n",
       "      <td>11</td>\n",
       "    </tr>\n",
       "    <tr>\n",
       "      <th>5</th>\n",
       "      <td>3</td>\n",
       "      <td>2</td>\n",
       "    </tr>\n",
       "    <tr>\n",
       "      <th>6</th>\n",
       "      <td>3</td>\n",
       "      <td>3</td>\n",
       "    </tr>\n",
       "    <tr>\n",
       "      <th>7</th>\n",
       "      <td>3</td>\n",
       "      <td>6</td>\n",
       "    </tr>\n",
       "    <tr>\n",
       "      <th>8</th>\n",
       "      <td>3</td>\n",
       "      <td>8</td>\n",
       "    </tr>\n",
       "    <tr>\n",
       "      <th>9</th>\n",
       "      <td>3</td>\n",
       "      <td>11</td>\n",
       "    </tr>\n",
       "    <tr>\n",
       "      <th>10</th>\n",
       "      <td>6</td>\n",
       "      <td>2</td>\n",
       "    </tr>\n",
       "    <tr>\n",
       "      <th>11</th>\n",
       "      <td>6</td>\n",
       "      <td>3</td>\n",
       "    </tr>\n",
       "    <tr>\n",
       "      <th>12</th>\n",
       "      <td>6</td>\n",
       "      <td>6</td>\n",
       "    </tr>\n",
       "    <tr>\n",
       "      <th>13</th>\n",
       "      <td>6</td>\n",
       "      <td>8</td>\n",
       "    </tr>\n",
       "    <tr>\n",
       "      <th>14</th>\n",
       "      <td>6</td>\n",
       "      <td>11</td>\n",
       "    </tr>\n",
       "    <tr>\n",
       "      <th>15</th>\n",
       "      <td>8</td>\n",
       "      <td>2</td>\n",
       "    </tr>\n",
       "    <tr>\n",
       "      <th>16</th>\n",
       "      <td>8</td>\n",
       "      <td>3</td>\n",
       "    </tr>\n",
       "    <tr>\n",
       "      <th>17</th>\n",
       "      <td>8</td>\n",
       "      <td>6</td>\n",
       "    </tr>\n",
       "    <tr>\n",
       "      <th>18</th>\n",
       "      <td>8</td>\n",
       "      <td>8</td>\n",
       "    </tr>\n",
       "    <tr>\n",
       "      <th>19</th>\n",
       "      <td>8</td>\n",
       "      <td>11</td>\n",
       "    </tr>\n",
       "    <tr>\n",
       "      <th>20</th>\n",
       "      <td>11</td>\n",
       "      <td>2</td>\n",
       "    </tr>\n",
       "    <tr>\n",
       "      <th>21</th>\n",
       "      <td>11</td>\n",
       "      <td>3</td>\n",
       "    </tr>\n",
       "    <tr>\n",
       "      <th>22</th>\n",
       "      <td>11</td>\n",
       "      <td>6</td>\n",
       "    </tr>\n",
       "    <tr>\n",
       "      <th>23</th>\n",
       "      <td>11</td>\n",
       "      <td>8</td>\n",
       "    </tr>\n",
       "    <tr>\n",
       "      <th>24</th>\n",
       "      <td>11</td>\n",
       "      <td>11</td>\n",
       "    </tr>\n",
       "  </tbody>\n",
       "</table>\n",
       "</div>"
      ]
     },
     "execution_count": 183,
     "metadata": {},
     "output_type": "execute_result"
    }
   ],
   "execution_count": 183
  },
  {
   "metadata": {
    "ExecuteTime": {
     "end_time": "2025-01-04T14:13:06.140790Z",
     "start_time": "2025-01-04T14:13:06.121261Z"
    }
   },
   "cell_type": "code",
   "source": [
    "df_echantillons['moyenne'] = df_echantillons.apply(lambda r:(r['nombre1'] + r['nombre2']) / 2, axis=1)\n",
    "df_echantillons"
   ],
   "id": "2f19af2466865ca9",
   "outputs": [
    {
     "data": {
      "text/plain": [
       "    nombre1  nombre2  moyenne\n",
       "0         2        2      2.0\n",
       "1         2        3      2.5\n",
       "2         2        6      4.0\n",
       "3         2        8      5.0\n",
       "4         2       11      6.5\n",
       "5         3        2      2.5\n",
       "6         3        3      3.0\n",
       "7         3        6      4.5\n",
       "8         3        8      5.5\n",
       "9         3       11      7.0\n",
       "10        6        2      4.0\n",
       "11        6        3      4.5\n",
       "12        6        6      6.0\n",
       "13        6        8      7.0\n",
       "14        6       11      8.5\n",
       "15        8        2      5.0\n",
       "16        8        3      5.5\n",
       "17        8        6      7.0\n",
       "18        8        8      8.0\n",
       "19        8       11      9.5\n",
       "20       11        2      6.5\n",
       "21       11        3      7.0\n",
       "22       11        6      8.5\n",
       "23       11        8      9.5\n",
       "24       11       11     11.0"
      ],
      "text/html": [
       "<div>\n",
       "<style scoped>\n",
       "    .dataframe tbody tr th:only-of-type {\n",
       "        vertical-align: middle;\n",
       "    }\n",
       "\n",
       "    .dataframe tbody tr th {\n",
       "        vertical-align: top;\n",
       "    }\n",
       "\n",
       "    .dataframe thead th {\n",
       "        text-align: right;\n",
       "    }\n",
       "</style>\n",
       "<table border=\"1\" class=\"dataframe\">\n",
       "  <thead>\n",
       "    <tr style=\"text-align: right;\">\n",
       "      <th></th>\n",
       "      <th>nombre1</th>\n",
       "      <th>nombre2</th>\n",
       "      <th>moyenne</th>\n",
       "    </tr>\n",
       "  </thead>\n",
       "  <tbody>\n",
       "    <tr>\n",
       "      <th>0</th>\n",
       "      <td>2</td>\n",
       "      <td>2</td>\n",
       "      <td>2.0</td>\n",
       "    </tr>\n",
       "    <tr>\n",
       "      <th>1</th>\n",
       "      <td>2</td>\n",
       "      <td>3</td>\n",
       "      <td>2.5</td>\n",
       "    </tr>\n",
       "    <tr>\n",
       "      <th>2</th>\n",
       "      <td>2</td>\n",
       "      <td>6</td>\n",
       "      <td>4.0</td>\n",
       "    </tr>\n",
       "    <tr>\n",
       "      <th>3</th>\n",
       "      <td>2</td>\n",
       "      <td>8</td>\n",
       "      <td>5.0</td>\n",
       "    </tr>\n",
       "    <tr>\n",
       "      <th>4</th>\n",
       "      <td>2</td>\n",
       "      <td>11</td>\n",
       "      <td>6.5</td>\n",
       "    </tr>\n",
       "    <tr>\n",
       "      <th>5</th>\n",
       "      <td>3</td>\n",
       "      <td>2</td>\n",
       "      <td>2.5</td>\n",
       "    </tr>\n",
       "    <tr>\n",
       "      <th>6</th>\n",
       "      <td>3</td>\n",
       "      <td>3</td>\n",
       "      <td>3.0</td>\n",
       "    </tr>\n",
       "    <tr>\n",
       "      <th>7</th>\n",
       "      <td>3</td>\n",
       "      <td>6</td>\n",
       "      <td>4.5</td>\n",
       "    </tr>\n",
       "    <tr>\n",
       "      <th>8</th>\n",
       "      <td>3</td>\n",
       "      <td>8</td>\n",
       "      <td>5.5</td>\n",
       "    </tr>\n",
       "    <tr>\n",
       "      <th>9</th>\n",
       "      <td>3</td>\n",
       "      <td>11</td>\n",
       "      <td>7.0</td>\n",
       "    </tr>\n",
       "    <tr>\n",
       "      <th>10</th>\n",
       "      <td>6</td>\n",
       "      <td>2</td>\n",
       "      <td>4.0</td>\n",
       "    </tr>\n",
       "    <tr>\n",
       "      <th>11</th>\n",
       "      <td>6</td>\n",
       "      <td>3</td>\n",
       "      <td>4.5</td>\n",
       "    </tr>\n",
       "    <tr>\n",
       "      <th>12</th>\n",
       "      <td>6</td>\n",
       "      <td>6</td>\n",
       "      <td>6.0</td>\n",
       "    </tr>\n",
       "    <tr>\n",
       "      <th>13</th>\n",
       "      <td>6</td>\n",
       "      <td>8</td>\n",
       "      <td>7.0</td>\n",
       "    </tr>\n",
       "    <tr>\n",
       "      <th>14</th>\n",
       "      <td>6</td>\n",
       "      <td>11</td>\n",
       "      <td>8.5</td>\n",
       "    </tr>\n",
       "    <tr>\n",
       "      <th>15</th>\n",
       "      <td>8</td>\n",
       "      <td>2</td>\n",
       "      <td>5.0</td>\n",
       "    </tr>\n",
       "    <tr>\n",
       "      <th>16</th>\n",
       "      <td>8</td>\n",
       "      <td>3</td>\n",
       "      <td>5.5</td>\n",
       "    </tr>\n",
       "    <tr>\n",
       "      <th>17</th>\n",
       "      <td>8</td>\n",
       "      <td>6</td>\n",
       "      <td>7.0</td>\n",
       "    </tr>\n",
       "    <tr>\n",
       "      <th>18</th>\n",
       "      <td>8</td>\n",
       "      <td>8</td>\n",
       "      <td>8.0</td>\n",
       "    </tr>\n",
       "    <tr>\n",
       "      <th>19</th>\n",
       "      <td>8</td>\n",
       "      <td>11</td>\n",
       "      <td>9.5</td>\n",
       "    </tr>\n",
       "    <tr>\n",
       "      <th>20</th>\n",
       "      <td>11</td>\n",
       "      <td>2</td>\n",
       "      <td>6.5</td>\n",
       "    </tr>\n",
       "    <tr>\n",
       "      <th>21</th>\n",
       "      <td>11</td>\n",
       "      <td>3</td>\n",
       "      <td>7.0</td>\n",
       "    </tr>\n",
       "    <tr>\n",
       "      <th>22</th>\n",
       "      <td>11</td>\n",
       "      <td>6</td>\n",
       "      <td>8.5</td>\n",
       "    </tr>\n",
       "    <tr>\n",
       "      <th>23</th>\n",
       "      <td>11</td>\n",
       "      <td>8</td>\n",
       "      <td>9.5</td>\n",
       "    </tr>\n",
       "    <tr>\n",
       "      <th>24</th>\n",
       "      <td>11</td>\n",
       "      <td>11</td>\n",
       "      <td>11.0</td>\n",
       "    </tr>\n",
       "  </tbody>\n",
       "</table>\n",
       "</div>"
      ]
     },
     "execution_count": 184,
     "metadata": {},
     "output_type": "execute_result"
    }
   ],
   "execution_count": 184
  },
  {
   "metadata": {
    "ExecuteTime": {
     "end_time": "2025-01-04T14:13:06.240027Z",
     "start_time": "2025-01-04T14:13:06.232961Z"
    }
   },
   "cell_type": "code",
   "source": [
    "nombre_echantillons = df_echantillons.shape[0]\n",
    "moyenne_des_moyennes_pd = np.mean(df_echantillons['moyenne'])\n",
    "moyenne_des_moyennes_mano = df_echantillons['moyenne'].sum()/nombre_echantillons\n",
    "moyenne_des_moyennes_pd, moyenne_des_moyennes_mano"
   ],
   "id": "be0355361a325a9d",
   "outputs": [
    {
     "data": {
      "text/plain": [
       "(6.0, 6.0)"
      ]
     },
     "execution_count": 185,
     "metadata": {},
     "output_type": "execute_result"
    }
   ],
   "execution_count": 185
  },
  {
   "metadata": {},
   "cell_type": "markdown",
   "source": "## 4 Écart-type des moyennes d'échantillons",
   "id": "4932cbd6689b5cc3"
  },
  {
   "metadata": {
    "ExecuteTime": {
     "end_time": "2025-01-04T14:13:06.511551Z",
     "start_time": "2025-01-04T14:13:06.505312Z"
    }
   },
   "cell_type": "code",
   "source": [
    "ecart_des_moyennes_pd = np.std(df_echantillons['moyenne'])\n",
    "ecart_des_moyennes_mano = ecart_type_pop/sqrt(2)\n",
    "ecart_des_moyennes_pd, ecart_des_moyennes_mano"
   ],
   "id": "bb711345e3815357",
   "outputs": [
    {
     "data": {
      "text/plain": [
       "(2.32379000772445, 2.32379000772445)"
      ]
     },
     "execution_count": 186,
     "metadata": {},
     "output_type": "execute_result"
    }
   ],
   "execution_count": 186
  }
 ],
 "metadata": {
  "kernelspec": {
   "display_name": "Python 3",
   "language": "python",
   "name": "python3"
  },
  "language_info": {
   "codemirror_mode": {
    "name": "ipython",
    "version": 2
   },
   "file_extension": ".py",
   "mimetype": "text/x-python",
   "name": "python",
   "nbconvert_exporter": "python",
   "pygments_lexer": "ipython2",
   "version": "2.7.6"
  }
 },
 "nbformat": 4,
 "nbformat_minor": 5
}
