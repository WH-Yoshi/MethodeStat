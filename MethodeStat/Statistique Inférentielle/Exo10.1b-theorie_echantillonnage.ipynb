{
 "cells": [
  {
   "metadata": {},
   "cell_type": "markdown",
   "source": "Une population est constituée des cinq nombres 2, 3, 6, 8 et 11. On considère tous les échantillons non exhaustifs possibles de taille deux de cette population.",
   "id": "16a3c1833d5a160"
  },
  {
   "metadata": {},
   "cell_type": "markdown",
   "source": [
    "Trouver:\n",
    "- La moyenne de la population\n",
    "- L’écart-type de la population\n",
    "- La moyenne de la distribution des moyennes d'échantillon\n",
    "- L’écart-type de la distribution des moyennes d'échantillon"
   ],
   "id": "c9ed7fb4adc8fdb9"
  },
  {
   "metadata": {
    "ExecuteTime": {
     "end_time": "2025-01-04T14:30:54.653977Z",
     "start_time": "2025-01-04T14:30:54.648976Z"
    }
   },
   "cell_type": "code",
   "source": [
    "from itertools import product\n",
    "from math import sqrt\n",
    "import numpy as np\n",
    "\n",
    "import pandas as pd\n",
    "\n",
    "pop = [2,3,6,8,11]\n",
    "n_pop = len(pop)\n",
    "taille_echantillons = 2"
   ],
   "id": "1c55513ceed3c83d",
   "outputs": [],
   "execution_count": 33
  },
  {
   "metadata": {
    "ExecuteTime": {
     "end_time": "2025-01-04T14:30:54.671307Z",
     "start_time": "2025-01-04T14:30:54.664281Z"
    }
   },
   "cell_type": "code",
   "source": [
    "df = pd.DataFrame({\"nombres\": pop})\n",
    "df"
   ],
   "id": "4891ffa6d9706b6c",
   "outputs": [
    {
     "data": {
      "text/plain": [
       "   nombres\n",
       "0        2\n",
       "1        3\n",
       "2        6\n",
       "3        8\n",
       "4       11"
      ],
      "text/html": [
       "<div>\n",
       "<style scoped>\n",
       "    .dataframe tbody tr th:only-of-type {\n",
       "        vertical-align: middle;\n",
       "    }\n",
       "\n",
       "    .dataframe tbody tr th {\n",
       "        vertical-align: top;\n",
       "    }\n",
       "\n",
       "    .dataframe thead th {\n",
       "        text-align: right;\n",
       "    }\n",
       "</style>\n",
       "<table border=\"1\" class=\"dataframe\">\n",
       "  <thead>\n",
       "    <tr style=\"text-align: right;\">\n",
       "      <th></th>\n",
       "      <th>nombres</th>\n",
       "    </tr>\n",
       "  </thead>\n",
       "  <tbody>\n",
       "    <tr>\n",
       "      <th>0</th>\n",
       "      <td>2</td>\n",
       "    </tr>\n",
       "    <tr>\n",
       "      <th>1</th>\n",
       "      <td>3</td>\n",
       "    </tr>\n",
       "    <tr>\n",
       "      <th>2</th>\n",
       "      <td>6</td>\n",
       "    </tr>\n",
       "    <tr>\n",
       "      <th>3</th>\n",
       "      <td>8</td>\n",
       "    </tr>\n",
       "    <tr>\n",
       "      <th>4</th>\n",
       "      <td>11</td>\n",
       "    </tr>\n",
       "  </tbody>\n",
       "</table>\n",
       "</div>"
      ]
     },
     "execution_count": 34,
     "metadata": {},
     "output_type": "execute_result"
    }
   ],
   "execution_count": 34
  },
  {
   "metadata": {},
   "cell_type": "markdown",
   "source": "## 1 Moyenne population",
   "id": "cdef72a0ea9d9b63"
  },
  {
   "metadata": {
    "ExecuteTime": {
     "end_time": "2025-01-04T14:30:54.717247Z",
     "start_time": "2025-01-04T14:30:54.711744Z"
    }
   },
   "cell_type": "code",
   "source": [
    "moyenne_pop = np.mean(df[\"nombres\"])\n",
    "moyenne_pop"
   ],
   "id": "bff13fcf183f7c1f",
   "outputs": [
    {
     "data": {
      "text/plain": [
       "6.0"
      ]
     },
     "execution_count": 35,
     "metadata": {},
     "output_type": "execute_result"
    }
   ],
   "execution_count": 35
  },
  {
   "metadata": {},
   "cell_type": "markdown",
   "source": "## 2 Écart-type population",
   "id": "c4602017bde2c16f"
  },
  {
   "metadata": {
    "ExecuteTime": {
     "end_time": "2025-01-04T14:30:54.838674Z",
     "start_time": "2025-01-04T14:30:54.833447Z"
    }
   },
   "cell_type": "code",
   "source": [
    "ecart_type_pop = np.std(df[\"nombres\"])\n",
    "ecart_type_pop"
   ],
   "id": "912cd64d248b3e11",
   "outputs": [
    {
     "data": {
      "text/plain": [
       "3.286335345030997"
      ]
     },
     "execution_count": 36,
     "metadata": {},
     "output_type": "execute_result"
    }
   ],
   "execution_count": 36
  },
  {
   "metadata": {},
   "cell_type": "markdown",
   "source": "## 3 Moyenne des moyennes d'échantillons",
   "id": "1c4b94e2ca301a45"
  },
  {
   "metadata": {
    "ExecuteTime": {
     "end_time": "2025-01-04T14:30:54.940031Z",
     "start_time": "2025-01-04T14:30:54.931857Z"
    }
   },
   "cell_type": "code",
   "source": [
    "echantillons = list(product(pop, repeat=2))\n",
    "echantillons = [pair for pair in echantillons if pair[0] != pair[1]]\n",
    "df_echantillons = pd.DataFrame(echantillons, columns=[\"nombre1\", \"nombre2\"])\n",
    "df_echantillons"
   ],
   "id": "e4462237c05b4db1",
   "outputs": [
    {
     "data": {
      "text/plain": [
       "    nombre1  nombre2\n",
       "0         2        3\n",
       "1         2        6\n",
       "2         2        8\n",
       "3         2       11\n",
       "4         3        2\n",
       "5         3        6\n",
       "6         3        8\n",
       "7         3       11\n",
       "8         6        2\n",
       "9         6        3\n",
       "10        6        8\n",
       "11        6       11\n",
       "12        8        2\n",
       "13        8        3\n",
       "14        8        6\n",
       "15        8       11\n",
       "16       11        2\n",
       "17       11        3\n",
       "18       11        6\n",
       "19       11        8"
      ],
      "text/html": [
       "<div>\n",
       "<style scoped>\n",
       "    .dataframe tbody tr th:only-of-type {\n",
       "        vertical-align: middle;\n",
       "    }\n",
       "\n",
       "    .dataframe tbody tr th {\n",
       "        vertical-align: top;\n",
       "    }\n",
       "\n",
       "    .dataframe thead th {\n",
       "        text-align: right;\n",
       "    }\n",
       "</style>\n",
       "<table border=\"1\" class=\"dataframe\">\n",
       "  <thead>\n",
       "    <tr style=\"text-align: right;\">\n",
       "      <th></th>\n",
       "      <th>nombre1</th>\n",
       "      <th>nombre2</th>\n",
       "    </tr>\n",
       "  </thead>\n",
       "  <tbody>\n",
       "    <tr>\n",
       "      <th>0</th>\n",
       "      <td>2</td>\n",
       "      <td>3</td>\n",
       "    </tr>\n",
       "    <tr>\n",
       "      <th>1</th>\n",
       "      <td>2</td>\n",
       "      <td>6</td>\n",
       "    </tr>\n",
       "    <tr>\n",
       "      <th>2</th>\n",
       "      <td>2</td>\n",
       "      <td>8</td>\n",
       "    </tr>\n",
       "    <tr>\n",
       "      <th>3</th>\n",
       "      <td>2</td>\n",
       "      <td>11</td>\n",
       "    </tr>\n",
       "    <tr>\n",
       "      <th>4</th>\n",
       "      <td>3</td>\n",
       "      <td>2</td>\n",
       "    </tr>\n",
       "    <tr>\n",
       "      <th>5</th>\n",
       "      <td>3</td>\n",
       "      <td>6</td>\n",
       "    </tr>\n",
       "    <tr>\n",
       "      <th>6</th>\n",
       "      <td>3</td>\n",
       "      <td>8</td>\n",
       "    </tr>\n",
       "    <tr>\n",
       "      <th>7</th>\n",
       "      <td>3</td>\n",
       "      <td>11</td>\n",
       "    </tr>\n",
       "    <tr>\n",
       "      <th>8</th>\n",
       "      <td>6</td>\n",
       "      <td>2</td>\n",
       "    </tr>\n",
       "    <tr>\n",
       "      <th>9</th>\n",
       "      <td>6</td>\n",
       "      <td>3</td>\n",
       "    </tr>\n",
       "    <tr>\n",
       "      <th>10</th>\n",
       "      <td>6</td>\n",
       "      <td>8</td>\n",
       "    </tr>\n",
       "    <tr>\n",
       "      <th>11</th>\n",
       "      <td>6</td>\n",
       "      <td>11</td>\n",
       "    </tr>\n",
       "    <tr>\n",
       "      <th>12</th>\n",
       "      <td>8</td>\n",
       "      <td>2</td>\n",
       "    </tr>\n",
       "    <tr>\n",
       "      <th>13</th>\n",
       "      <td>8</td>\n",
       "      <td>3</td>\n",
       "    </tr>\n",
       "    <tr>\n",
       "      <th>14</th>\n",
       "      <td>8</td>\n",
       "      <td>6</td>\n",
       "    </tr>\n",
       "    <tr>\n",
       "      <th>15</th>\n",
       "      <td>8</td>\n",
       "      <td>11</td>\n",
       "    </tr>\n",
       "    <tr>\n",
       "      <th>16</th>\n",
       "      <td>11</td>\n",
       "      <td>2</td>\n",
       "    </tr>\n",
       "    <tr>\n",
       "      <th>17</th>\n",
       "      <td>11</td>\n",
       "      <td>3</td>\n",
       "    </tr>\n",
       "    <tr>\n",
       "      <th>18</th>\n",
       "      <td>11</td>\n",
       "      <td>6</td>\n",
       "    </tr>\n",
       "    <tr>\n",
       "      <th>19</th>\n",
       "      <td>11</td>\n",
       "      <td>8</td>\n",
       "    </tr>\n",
       "  </tbody>\n",
       "</table>\n",
       "</div>"
      ]
     },
     "execution_count": 37,
     "metadata": {},
     "output_type": "execute_result"
    }
   ],
   "execution_count": 37
  },
  {
   "metadata": {
    "ExecuteTime": {
     "end_time": "2025-01-04T14:30:55.035853Z",
     "start_time": "2025-01-04T14:30:55.025848Z"
    }
   },
   "cell_type": "code",
   "source": [
    "df_echantillons['moyenne'] = df_echantillons.apply(lambda r:(r['nombre1'] + r['nombre2']) / 2, axis=1)\n",
    "df_echantillons"
   ],
   "id": "2f19af2466865ca9",
   "outputs": [
    {
     "data": {
      "text/plain": [
       "    nombre1  nombre2  moyenne\n",
       "0         2        3      2.5\n",
       "1         2        6      4.0\n",
       "2         2        8      5.0\n",
       "3         2       11      6.5\n",
       "4         3        2      2.5\n",
       "5         3        6      4.5\n",
       "6         3        8      5.5\n",
       "7         3       11      7.0\n",
       "8         6        2      4.0\n",
       "9         6        3      4.5\n",
       "10        6        8      7.0\n",
       "11        6       11      8.5\n",
       "12        8        2      5.0\n",
       "13        8        3      5.5\n",
       "14        8        6      7.0\n",
       "15        8       11      9.5\n",
       "16       11        2      6.5\n",
       "17       11        3      7.0\n",
       "18       11        6      8.5\n",
       "19       11        8      9.5"
      ],
      "text/html": [
       "<div>\n",
       "<style scoped>\n",
       "    .dataframe tbody tr th:only-of-type {\n",
       "        vertical-align: middle;\n",
       "    }\n",
       "\n",
       "    .dataframe tbody tr th {\n",
       "        vertical-align: top;\n",
       "    }\n",
       "\n",
       "    .dataframe thead th {\n",
       "        text-align: right;\n",
       "    }\n",
       "</style>\n",
       "<table border=\"1\" class=\"dataframe\">\n",
       "  <thead>\n",
       "    <tr style=\"text-align: right;\">\n",
       "      <th></th>\n",
       "      <th>nombre1</th>\n",
       "      <th>nombre2</th>\n",
       "      <th>moyenne</th>\n",
       "    </tr>\n",
       "  </thead>\n",
       "  <tbody>\n",
       "    <tr>\n",
       "      <th>0</th>\n",
       "      <td>2</td>\n",
       "      <td>3</td>\n",
       "      <td>2.5</td>\n",
       "    </tr>\n",
       "    <tr>\n",
       "      <th>1</th>\n",
       "      <td>2</td>\n",
       "      <td>6</td>\n",
       "      <td>4.0</td>\n",
       "    </tr>\n",
       "    <tr>\n",
       "      <th>2</th>\n",
       "      <td>2</td>\n",
       "      <td>8</td>\n",
       "      <td>5.0</td>\n",
       "    </tr>\n",
       "    <tr>\n",
       "      <th>3</th>\n",
       "      <td>2</td>\n",
       "      <td>11</td>\n",
       "      <td>6.5</td>\n",
       "    </tr>\n",
       "    <tr>\n",
       "      <th>4</th>\n",
       "      <td>3</td>\n",
       "      <td>2</td>\n",
       "      <td>2.5</td>\n",
       "    </tr>\n",
       "    <tr>\n",
       "      <th>5</th>\n",
       "      <td>3</td>\n",
       "      <td>6</td>\n",
       "      <td>4.5</td>\n",
       "    </tr>\n",
       "    <tr>\n",
       "      <th>6</th>\n",
       "      <td>3</td>\n",
       "      <td>8</td>\n",
       "      <td>5.5</td>\n",
       "    </tr>\n",
       "    <tr>\n",
       "      <th>7</th>\n",
       "      <td>3</td>\n",
       "      <td>11</td>\n",
       "      <td>7.0</td>\n",
       "    </tr>\n",
       "    <tr>\n",
       "      <th>8</th>\n",
       "      <td>6</td>\n",
       "      <td>2</td>\n",
       "      <td>4.0</td>\n",
       "    </tr>\n",
       "    <tr>\n",
       "      <th>9</th>\n",
       "      <td>6</td>\n",
       "      <td>3</td>\n",
       "      <td>4.5</td>\n",
       "    </tr>\n",
       "    <tr>\n",
       "      <th>10</th>\n",
       "      <td>6</td>\n",
       "      <td>8</td>\n",
       "      <td>7.0</td>\n",
       "    </tr>\n",
       "    <tr>\n",
       "      <th>11</th>\n",
       "      <td>6</td>\n",
       "      <td>11</td>\n",
       "      <td>8.5</td>\n",
       "    </tr>\n",
       "    <tr>\n",
       "      <th>12</th>\n",
       "      <td>8</td>\n",
       "      <td>2</td>\n",
       "      <td>5.0</td>\n",
       "    </tr>\n",
       "    <tr>\n",
       "      <th>13</th>\n",
       "      <td>8</td>\n",
       "      <td>3</td>\n",
       "      <td>5.5</td>\n",
       "    </tr>\n",
       "    <tr>\n",
       "      <th>14</th>\n",
       "      <td>8</td>\n",
       "      <td>6</td>\n",
       "      <td>7.0</td>\n",
       "    </tr>\n",
       "    <tr>\n",
       "      <th>15</th>\n",
       "      <td>8</td>\n",
       "      <td>11</td>\n",
       "      <td>9.5</td>\n",
       "    </tr>\n",
       "    <tr>\n",
       "      <th>16</th>\n",
       "      <td>11</td>\n",
       "      <td>2</td>\n",
       "      <td>6.5</td>\n",
       "    </tr>\n",
       "    <tr>\n",
       "      <th>17</th>\n",
       "      <td>11</td>\n",
       "      <td>3</td>\n",
       "      <td>7.0</td>\n",
       "    </tr>\n",
       "    <tr>\n",
       "      <th>18</th>\n",
       "      <td>11</td>\n",
       "      <td>6</td>\n",
       "      <td>8.5</td>\n",
       "    </tr>\n",
       "    <tr>\n",
       "      <th>19</th>\n",
       "      <td>11</td>\n",
       "      <td>8</td>\n",
       "      <td>9.5</td>\n",
       "    </tr>\n",
       "  </tbody>\n",
       "</table>\n",
       "</div>"
      ]
     },
     "execution_count": 38,
     "metadata": {},
     "output_type": "execute_result"
    }
   ],
   "execution_count": 38
  },
  {
   "metadata": {
    "ExecuteTime": {
     "end_time": "2025-01-04T14:30:55.143745Z",
     "start_time": "2025-01-04T14:30:55.136674Z"
    }
   },
   "cell_type": "code",
   "source": [
    "nombre_echantillons = df_echantillons.shape[0]\n",
    "moyenne_des_moyennes_pd = np.mean(df_echantillons['moyenne'])\n",
    "moyenne_des_moyennes_mano = df_echantillons['moyenne'].sum()/nombre_echantillons\n",
    "moyenne_des_moyennes_pd, moyenne_des_moyennes_mano"
   ],
   "id": "be0355361a325a9d",
   "outputs": [
    {
     "data": {
      "text/plain": [
       "(6.0, 6.0)"
      ]
     },
     "execution_count": 39,
     "metadata": {},
     "output_type": "execute_result"
    }
   ],
   "execution_count": 39
  },
  {
   "metadata": {},
   "cell_type": "markdown",
   "source": "## 4 Écart-type des moyennes d'échantillons",
   "id": "4932cbd6689b5cc3"
  },
  {
   "metadata": {
    "ExecuteTime": {
     "end_time": "2025-01-04T14:30:55.310423Z",
     "start_time": "2025-01-04T14:30:55.301934Z"
    }
   },
   "cell_type": "code",
   "source": [
    "ecart_des_moyennes_pd = np.std(df_echantillons['moyenne'])\n",
    "ecart_des_moyennes_mano = (ecart_type_pop/sqrt(2)) * (sqrt((n_pop-taille_echantillons)/(n_pop-1)))\n",
    "ecart_des_moyennes_pd, ecart_des_moyennes_mano"
   ],
   "id": "bb711345e3815357",
   "outputs": [
    {
     "data": {
      "text/plain": [
       "(2.0124611797498106, 2.0124611797498106)"
      ]
     },
     "execution_count": 40,
     "metadata": {},
     "output_type": "execute_result"
    }
   ],
   "execution_count": 40
  }
 ],
 "metadata": {
  "kernelspec": {
   "display_name": "Python 3",
   "language": "python",
   "name": "python3"
  },
  "language_info": {
   "codemirror_mode": {
    "name": "ipython",
    "version": 2
   },
   "file_extension": ".py",
   "mimetype": "text/x-python",
   "name": "python",
   "nbconvert_exporter": "python",
   "pygments_lexer": "ipython2",
   "version": "2.7.6"
  }
 },
 "nbformat": 4,
 "nbformat_minor": 5
}
